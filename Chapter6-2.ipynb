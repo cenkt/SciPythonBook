{
 "cells": [
  {
   "cell_type": "code",
   "execution_count": 1,
   "metadata": {},
   "outputs": [],
   "source": [
    "import numpy as np\n",
    "import matplotlib.pyplot as plt\n"
   ]
  },
  {
   "cell_type": "markdown",
   "metadata": {},
   "source": [
    "### Statistical Methods\n"
   ]
  },
  {
   "cell_type": "code",
   "execution_count": 2,
   "metadata": {},
   "outputs": [
    {
     "name": "stderr",
     "output_type": "stream",
     "text": [
      "C:\\Users\\cenkt\\AppData\\Local\\Temp\\ipykernel_11624\\1040607804.py:1: RuntimeWarning: invalid value encountered in sqrt\n",
      "  a = np.sqrt(np.linspace(-2, 2, 5))\n"
     ]
    },
    {
     "data": {
      "text/plain": [
       "array([       nan,        nan, 0.        , 1.        , 1.41421356])"
      ]
     },
     "execution_count": 2,
     "metadata": {},
     "output_type": "execute_result"
    }
   ],
   "source": [
    "a = np.sqrt(np.linspace(-2, 2, 5))\n",
    "a\n"
   ]
  },
  {
   "cell_type": "code",
   "execution_count": 3,
   "metadata": {},
   "outputs": [
    {
     "data": {
      "text/plain": [
       "(nan, nan)"
      ]
     },
     "execution_count": 3,
     "metadata": {},
     "output_type": "execute_result"
    }
   ],
   "source": [
    "a.min(), a.max()\n"
   ]
  },
  {
   "cell_type": "code",
   "execution_count": 4,
   "metadata": {},
   "outputs": [
    {
     "data": {
      "text/plain": [
       "(0.0, 1.4142135623730951)"
      ]
     },
     "execution_count": 4,
     "metadata": {},
     "output_type": "execute_result"
    }
   ],
   "source": [
    "np.nanmin(a), np.nanmax(a)\n"
   ]
  },
  {
   "cell_type": "code",
   "execution_count": 5,
   "metadata": {},
   "outputs": [
    {
     "data": {
      "text/plain": [
       "array([-2.        , -0.66666667,  0.66666667,  2.        ])"
      ]
     },
     "execution_count": 5,
     "metadata": {},
     "output_type": "execute_result"
    }
   ],
   "source": [
    "np.linspace(-2, 2, 4)\n"
   ]
  },
  {
   "cell_type": "code",
   "execution_count": 6,
   "metadata": {},
   "outputs": [
    {
     "data": {
      "text/plain": [
       "(7.5, 10.0)"
      ]
     },
     "execution_count": 6,
     "metadata": {},
     "output_type": "execute_result"
    }
   ],
   "source": [
    "x = np.array([1.0, 4.0, 9.0, 16.0])\n",
    "x.mean(), np.average(x, weights=[1, 2, 3, 4])\n"
   ]
  },
  {
   "cell_type": "code",
   "execution_count": 7,
   "metadata": {},
   "outputs": [],
   "source": [
    "X = np.array([[0.1, 0.3, 0.4, 0.8, 0.9], [3.2, 2.4, 2.4, 0.1, 5.5], [10.0, 8.2, 4.3, 2.6, 0.9]])\n"
   ]
  },
  {
   "cell_type": "code",
   "execution_count": 8,
   "metadata": {},
   "outputs": [
    {
     "data": {
      "text/plain": [
       "array([ 0.115,  3.757, 14.525])"
      ]
     },
     "execution_count": 8,
     "metadata": {},
     "output_type": "execute_result"
    }
   ],
   "source": [
    "X.var(axis=1, ddof=1)\n"
   ]
  },
  {
   "cell_type": "code",
   "execution_count": 9,
   "metadata": {},
   "outputs": [
    {
     "data": {
      "text/plain": [
       "array([[ 0.115 ,  0.0575, -1.2325],\n",
       "       [ 0.0575,  3.757 , -0.8775],\n",
       "       [-1.2325, -0.8775, 14.525 ]])"
      ]
     },
     "execution_count": 9,
     "metadata": {},
     "output_type": "execute_result"
    }
   ],
   "source": [
    "np.cov(X)\n"
   ]
  },
  {
   "cell_type": "code",
   "execution_count": 10,
   "metadata": {},
   "outputs": [
    {
     "data": {
      "text/plain": [
       "array([[ 1.        ,  0.0874779 , -0.95363007],\n",
       "       [ 0.0874779 ,  1.        , -0.11878687],\n",
       "       [-0.95363007, -0.11878687,  1.        ]])"
      ]
     },
     "execution_count": 10,
     "metadata": {},
     "output_type": "execute_result"
    }
   ],
   "source": [
    "np.corrcoef(X)\n"
   ]
  },
  {
   "cell_type": "markdown",
   "metadata": {},
   "source": [
    "### E6.10\n"
   ]
  },
  {
   "cell_type": "code",
   "execution_count": 11,
   "metadata": {},
   "outputs": [
    {
     "data": {
      "text/plain": [
       "array([[  29.5, 1013. ],\n",
       "       [  30.5, 1013. ],\n",
       "       [  31.1, 1013. ],\n",
       "       ...,\n",
       "       [   7.6, 1020. ],\n",
       "       [   7.6, 1020. ],\n",
       "       [   7.2, 1020. ]])"
      ]
     },
     "execution_count": 11,
     "metadata": {},
     "output_type": "execute_result"
    }
   ],
   "source": [
    "data = np.genfromtxt(\"weather-raw.csv\", delimiter=\",\", usecols=(1, 4))\n",
    "data = data[~np.any(np.isnan(data), axis=1)]\n",
    "data[:, 0] /= 10\n",
    "data\n"
   ]
  },
  {
   "cell_type": "code",
   "execution_count": 12,
   "metadata": {},
   "outputs": [
    {
     "data": {
      "text/plain": [
       "array([[1.        , 0.02460622],\n",
       "       [0.02460622, 1.        ]])"
      ]
     },
     "execution_count": 12,
     "metadata": {},
     "output_type": "execute_result"
    }
   ],
   "source": [
    "np.corrcoef(data, rowvar=0)\n"
   ]
  },
  {
   "cell_type": "code",
   "execution_count": 13,
   "metadata": {},
   "outputs": [
    {
     "data": {
      "image/png": "[encoded data removed]",
      "text/plain": [
       "<Figure size 640x480 with 1 Axes>"
      ]
     },
     "metadata": {},
     "output_type": "display_data"
    }
   ],
   "source": [
    "plt.scatter(*data.T, marker=\".\")\n",
    "plt.show()\n"
   ]
  },
  {
   "cell_type": "code",
   "execution_count": 14,
   "metadata": {},
   "outputs": [],
   "source": [
    "marks = np.array([45, 68, 56, 23, 60, 87, 75, 59, 63, 72])\n",
    "bins = [20, 40, 60, 80, 100]\n"
   ]
  },
  {
   "cell_type": "code",
   "execution_count": 15,
   "metadata": {},
   "outputs": [
    {
     "data": {
      "text/plain": [
       "(array([1, 3, 5, 1], dtype=int64), array([ 20,  40,  60,  80, 100]))"
      ]
     },
     "execution_count": 15,
     "metadata": {},
     "output_type": "execute_result"
    }
   ],
   "source": [
    "hist, binss = np.histogram(marks, bins)\n",
    "hist, binss\n"
   ]
  },
  {
   "cell_type": "code",
   "execution_count": 16,
   "metadata": {},
   "outputs": [
    {
     "data": {
      "text/plain": [
       "(array([1., 3., 5., 1.]),\n",
       " array([ 20.,  40.,  60.,  80., 100.]),\n",
       " <BarContainer object of 4 artists>)"
      ]
     },
     "execution_count": 16,
     "metadata": {},
     "output_type": "execute_result"
    },
    {
     "data": {
      "image/png": "[encoded data removed]",
      "text/plain": [
       "<Figure size 640x480 with 1 Axes>"
      ]
     },
     "metadata": {},
     "output_type": "display_data"
    }
   ],
   "source": [
    "plt.hist(marks, bins)\n"
   ]
  },
  {
   "cell_type": "code",
   "execution_count": 17,
   "metadata": {},
   "outputs": [
    {
     "data": {
      "text/plain": [
       "[20, 40, 60, 80]"
      ]
     },
     "execution_count": 17,
     "metadata": {},
     "output_type": "execute_result"
    }
   ],
   "source": [
    "bins[:-1]\n"
   ]
  },
  {
   "cell_type": "markdown",
   "metadata": {},
   "source": [
    "### P.3.2\n"
   ]
  },
  {
   "cell_type": "code",
   "execution_count": 18,
   "metadata": {},
   "outputs": [
    {
     "data": {
      "text/plain": [
       "<BarContainer object of 4 artists>"
      ]
     },
     "execution_count": 18,
     "metadata": {},
     "output_type": "execute_result"
    },
    {
     "data": {
      "image/png": "[encoded data removed]",
      "text/plain": [
       "<Figure size 640x480 with 1 Axes>"
      ]
     },
     "metadata": {},
     "output_type": "display_data"
    }
   ],
   "source": [
    "bins_new = (binss[:-1] + binss[1:]) / 2\n",
    "plt.bar(bins_new, hist)\n"
   ]
  },
  {
   "cell_type": "markdown",
   "metadata": {},
   "source": [
    "### P6.3.1\n"
   ]
  },
  {
   "cell_type": "code",
   "execution_count": 19,
   "metadata": {},
   "outputs": [
    {
     "data": {
      "text/plain": [
       "array([[ 1.        , -0.19909853],\n",
       "       [-0.19909853,  1.        ]])"
      ]
     },
     "execution_count": 19,
     "metadata": {},
     "output_type": "execute_result"
    }
   ],
   "source": [
    "datal = np.genfromtxt(\"lottery-draws.txt\", delimiter=\" \", skip_header=2, dtype=\"i8\")\n",
    "index = np.add(np.where(datal[:, -1] == 0), 1)\n",
    "datal_clean = np.delete(datal, index, 0)\n",
    "index2 = np.where(datal_clean[:, -1] == 0)\n",
    "datal_clean = np.delete(datal_clean, index2, 0)\n",
    "# datal_clean\n",
    "datal_avr = datal_clean[:, -1:]  # /datal_clean[:,-3:-2]\n",
    "datal_count = datal_clean[:, 0:-2] < 13\n",
    "datasum = datal_count.sum(axis=1)\n",
    "np.corrcoef((datasum, datal_avr[:, -1]), rowvar=1)\n"
   ]
  },
  {
   "cell_type": "code",
   "execution_count": 20,
   "metadata": {},
   "outputs": [
    {
     "data": {
      "text/plain": [
       "<matplotlib.collections.PathCollection at 0x28f054fe6b0>"
      ]
     },
     "execution_count": 20,
     "metadata": {},
     "output_type": "execute_result"
    },
    {
     "data": {
      "image/png": "[encoded data removed]",
      "text/plain": [
       "<Figure size 640x480 with 1 Axes>"
      ]
     },
     "metadata": {},
     "output_type": "display_data"
    }
   ],
   "source": [
    "plt.scatter(datasum, datal_avr)\n"
   ]
  },
  {
   "cell_type": "code",
   "execution_count": 21,
   "metadata": {},
   "outputs": [
    {
     "name": "stdout",
     "output_type": "stream",
     "text": [
      "[[ 1.         -0.19909853]\n",
      " [-0.19909853  1.        ]]\n"
     ]
    }
   ],
   "source": [
    "import sys\n",
    "\n",
    "\n",
    "def parse_line(fi):\n",
    "    # skip header rows\n",
    "    fi.readline()\n",
    "    fi.readline()\n",
    "    rollover = False\n",
    "    for line in fi:\n",
    "        fields = line.split()\n",
    "        nwinners = int(fields[6])\n",
    "        if nwinners == 0:\n",
    "            rollover = True\n",
    "            continue\n",
    "        if rollover:\n",
    "            rollover = False\n",
    "            continue\n",
    "        balls = np.array([int(v) for v in fields[:6]])\n",
    "        jackpot_share = float(fields[7])\n",
    "        nlow = sum(balls < 13)\n",
    "        yield nlow, jackpot_share\n",
    "\n",
    "\n",
    "with open(\"lottery-draws.txt\") as fi:\n",
    "    datan = list(parse_line(fi))\n",
    "datan = np.array(datan)\n",
    "\n",
    "print(np.corrcoef(datan, rowvar=0))\n"
   ]
  },
  {
   "cell_type": "code",
   "execution_count": 22,
   "metadata": {},
   "outputs": [
    {
     "data": {
      "text/plain": [
       "<matplotlib.collections.PathCollection at 0x28f0558f4f0>"
      ]
     },
     "execution_count": 22,
     "metadata": {},
     "output_type": "execute_result"
    },
    {
     "data": {
      "image/png": "[encoded data removed]",
      "text/plain": [
       "<Figure size 640x480 with 1 Axes>"
      ]
     },
     "metadata": {},
     "output_type": "display_data"
    }
   ],
   "source": [
    "plt.scatter(datan[:, 0], datan[:, 1])\n"
   ]
  },
  {
   "cell_type": "markdown",
   "metadata": {},
   "source": [
    "### P 6.3.3\n"
   ]
  },
  {
   "cell_type": "code",
   "execution_count": 23,
   "metadata": {},
   "outputs": [
    {
     "data": {
      "text/plain": [
       "(178.7945, 10.82647956401341)"
      ]
     },
     "execution_count": 23,
     "metadata": {},
     "output_type": "execute_result"
    }
   ],
   "source": [
    "height_male = np.loadtxt(\"ex6-3-f-male-heights.txt\")\n",
    "height_male = np.hstack(height_male)\n",
    "height_male.mean(), height_male.std()\n"
   ]
  },
  {
   "cell_type": "code",
   "execution_count": 24,
   "metadata": {},
   "outputs": [
    {
     "data": {
      "text/plain": [
       "(164.07979999999998, 7.3860200351745595)"
      ]
     },
     "execution_count": 24,
     "metadata": {},
     "output_type": "execute_result"
    }
   ],
   "source": [
    "height_female = np.loadtxt(\"ex6-3-f-female-heights.txt\")\n",
    "height_female = np.hstack(height_female)\n",
    "height_female.mean(), height_female.std()\n"
   ]
  },
  {
   "cell_type": "code",
   "execution_count": 25,
   "metadata": {},
   "outputs": [
    {
     "data": {
      "text/plain": [
       "(array([  0.,   3.,  26.,  79., 183., 237., 262., 145.,  52.,  11.,   2.,\n",
       "          0.,   0.,   0.,   0.]),\n",
       " array([135., 140., 145., 150., 155., 160., 165., 170., 175., 180., 185.,\n",
       "        190., 195., 200., 205., 210.]),\n",
       " <BarContainer object of 15 artists>)"
      ]
     },
     "execution_count": 25,
     "metadata": {},
     "output_type": "execute_result"
    },
    {
     "data": {
      "image/png": "[encoded data removed]",
      "text/plain": [
       "<Figure size 640x480 with 1 Axes>"
      ]
     },
     "metadata": {},
     "output_type": "display_data"
    }
   ],
   "source": [
    "bins = np.linspace(135, 210, 16)\n",
    "plt.hist(height_male, bins)\n",
    "plt.hist(height_female, bins, alpha=0.75)\n"
   ]
  },
  {
   "cell_type": "markdown",
   "metadata": {},
   "source": [
    "### Polynomials\n"
   ]
  },
  {
   "cell_type": "code",
   "execution_count": 26,
   "metadata": {},
   "outputs": [],
   "source": [
    "from numpy.polynomial import Polynomial\n"
   ]
  },
  {
   "cell_type": "code",
   "execution_count": 27,
   "metadata": {},
   "outputs": [],
   "source": [
    "p = Polynomial([6, -5, 1])\n"
   ]
  },
  {
   "cell_type": "code",
   "execution_count": 28,
   "metadata": {},
   "outputs": [
    {
     "name": "stdout",
     "output_type": "stream",
     "text": [
      "6.0 - 5.0 x + 1.0 x**2\n"
     ]
    }
   ],
   "source": [
    "print(p)\n"
   ]
  },
  {
   "cell_type": "code",
   "execution_count": 29,
   "metadata": {},
   "outputs": [
    {
     "data": {
      "text/latex": [
       "$x \\mapsto \\text{6.0} - \\text{5.0}\\,x + \\text{1.0}\\,x^{2}$"
      ],
      "text/plain": [
       "Polynomial([ 6., -5.,  1.], domain=[-1,  1], window=[-1,  1], symbol='x')"
      ]
     },
     "execution_count": 29,
     "metadata": {},
     "output_type": "execute_result"
    }
   ],
   "source": [
    "p\n"
   ]
  },
  {
   "cell_type": "code",
   "execution_count": 30,
   "metadata": {},
   "outputs": [
    {
     "data": {
      "text/plain": [
       "array([ 6., -5.,  1.])"
      ]
     },
     "execution_count": 30,
     "metadata": {},
     "output_type": "execute_result"
    }
   ],
   "source": [
    "p.coef\n"
   ]
  },
  {
   "cell_type": "code",
   "execution_count": 31,
   "metadata": {},
   "outputs": [
    {
     "data": {
      "text/plain": [
       "2.0"
      ]
     },
     "execution_count": 31,
     "metadata": {},
     "output_type": "execute_result"
    }
   ],
   "source": [
    "p(4)\n"
   ]
  },
  {
   "cell_type": "code",
   "execution_count": 32,
   "metadata": {},
   "outputs": [
    {
     "data": {
      "text/plain": [
       "array([56., 42., 30., 20., 12.,  6.,  2.,  0.,  0.,  2.,  6.])"
      ]
     },
     "execution_count": 32,
     "metadata": {},
     "output_type": "execute_result"
    }
   ],
   "source": [
    "x = np.linspace(-5, 5, 11)\n",
    "p(x)\n"
   ]
  },
  {
   "cell_type": "code",
   "execution_count": 33,
   "metadata": {},
   "outputs": [
    {
     "data": {
      "text/latex": [
       "$x \\mapsto \\text{36.0} - \\text{60.0}\\,x + \\text{37.0}\\,x^{2} - \\text{10.0}\\,x^{3} + \\text{1.0}\\,x^{4}$"
      ],
      "text/plain": [
       "Polynomial([ 36., -60.,  37., -10.,   1.], domain=[-1.,  1.], window=[-1.,  1.], symbol='x')"
      ]
     },
     "execution_count": 33,
     "metadata": {},
     "output_type": "execute_result"
    }
   ],
   "source": [
    "p**2\n"
   ]
  },
  {
   "cell_type": "code",
   "execution_count": 34,
   "metadata": {},
   "outputs": [],
   "source": [
    "q = Polynomial([0, 0, 1, -2])\n"
   ]
  },
  {
   "cell_type": "code",
   "execution_count": 35,
   "metadata": {},
   "outputs": [
    {
     "data": {
      "text/latex": [
       "$x \\mapsto \\color{LightGray}{\\text{0.0}}\\color{LightGray}{ + \\text{0.0}\\,x} + \\text{6.0}\\,x^{2} - \\text{17.0}\\,x^{3} + \\text{11.0}\\,x^{4} - \\text{2.0}\\,x^{5}$"
      ],
      "text/plain": [
       "Polynomial([  0.,   0.,   6., -17.,  11.,  -2.], domain=[-1.,  1.], window=[-1.,  1.], symbol='x')"
      ]
     },
     "execution_count": 35,
     "metadata": {},
     "output_type": "execute_result"
    }
   ],
   "source": [
    "p * q\n"
   ]
  },
  {
   "cell_type": "code",
   "execution_count": 36,
   "metadata": {},
   "outputs": [
    {
     "data": {
      "text/latex": [
       "$x \\mapsto \\text{6.0}\\color{LightGray}{ + \\text{0.0}\\,x} - \\text{5.0}\\,x^{2} + \\text{10.0}\\,x^{3} + \\text{1.0}\\,x^{4} - \\text{4.0}\\,x^{5} + \\text{4.0}\\,x^{6}$"
      ],
      "text/plain": [
       "Polynomial([ 6.,  0., -5., 10.,  1., -4.,  4.], domain=[-1.,  1.], window=[-1.,  1.], symbol='x')"
      ]
     },
     "execution_count": 36,
     "metadata": {},
     "output_type": "execute_result"
    }
   ],
   "source": [
    "p(q)\n"
   ]
  },
  {
   "cell_type": "code",
   "execution_count": 37,
   "metadata": {},
   "outputs": [
    {
     "data": {
      "text/latex": [
       "$x \\mapsto \\text{36.0} - \\text{60.0}\\,x + \\text{37.0}\\,x^{2} - \\text{10.0}\\,x^{3} + \\text{1.0}\\,x^{4}$"
      ],
      "text/plain": [
       "Polynomial([ 36., -60.,  37., -10.,   1.], domain=[-1.,  1.], window=[-1.,  1.], symbol='x')"
      ]
     },
     "execution_count": 37,
     "metadata": {},
     "output_type": "execute_result"
    }
   ],
   "source": [
    "p**2\n"
   ]
  },
  {
   "cell_type": "code",
   "execution_count": 38,
   "metadata": {},
   "outputs": [
    {
     "data": {
      "text/latex": [
       "$x \\mapsto \\color{LightGray}{\\text{0.0}}\\color{LightGray}{ + \\text{0.0}\\,x}\\color{LightGray}{ + \\text{0.0}\\,x^{2}}\\color{LightGray}{ + \\text{0.0}\\,x^{3}}\\color{LightGray}{ + \\text{0.0}\\,x^{4}}\\color{LightGray}{ + \\text{0.0}\\,x^{5}} + \\text{1.0}\\,x^{6} - \\text{6.0}\\,x^{7} + \\text{12.0}\\,x^{8} - \\text{8.0}\\,x^{9}$"
      ],
      "text/plain": [
       "Polynomial([ 0.,  0.,  0.,  0.,  0.,  0.,  1., -6., 12., -8.], domain=[-1.,  1.], window=[-1.,  1.], symbol='x')"
      ]
     },
     "execution_count": 38,
     "metadata": {},
     "output_type": "execute_result"
    }
   ],
   "source": [
    "q**3\n"
   ]
  },
  {
   "cell_type": "code",
   "execution_count": 39,
   "metadata": {},
   "outputs": [
    {
     "data": {
      "text/plain": [
       "array([2., 3.])"
      ]
     },
     "execution_count": 39,
     "metadata": {},
     "output_type": "execute_result"
    }
   ],
   "source": [
    "p.roots()\n"
   ]
  },
  {
   "cell_type": "code",
   "execution_count": 40,
   "metadata": {},
   "outputs": [
    {
     "data": {
      "text/plain": [
       "array([0.        +0.00000000e+00j, 0.        +0.00000000e+00j,\n",
       "       0.        +0.00000000e+00j, 0.        +0.00000000e+00j,\n",
       "       0.        +0.00000000e+00j, 0.        +0.00000000e+00j,\n",
       "       0.49999677+0.00000000e+00j, 0.50000162-2.79933253e-06j,\n",
       "       0.50000162+2.79933253e-06j])"
      ]
     },
     "execution_count": 40,
     "metadata": {},
     "output_type": "execute_result"
    }
   ],
   "source": [
    "(q**3).roots()\n"
   ]
  },
  {
   "cell_type": "code",
   "execution_count": 41,
   "metadata": {},
   "outputs": [
    {
     "data": {
      "text/latex": [
       "$x \\mapsto \\text{8.0} - \\text{10.0}\\,x + \\text{1.0}\\,x^{2} + \\text{1.0}\\,x^{3}$"
      ],
      "text/plain": [
       "Polynomial([  8., -10.,   1.,   1.], domain=[-1.,  1.], window=[-1.,  1.], symbol='x')"
      ]
     },
     "execution_count": 41,
     "metadata": {},
     "output_type": "execute_result"
    }
   ],
   "source": [
    "Polynomial.fromroots([-4, 2, 1])\n"
   ]
  },
  {
   "cell_type": "markdown",
   "metadata": {},
   "source": [
    "### E 6.11\n"
   ]
  },
  {
   "cell_type": "code",
   "execution_count": 42,
   "metadata": {},
   "outputs": [],
   "source": [
    "R = 1.5\n",
    "F = 200 / 1000000\n",
    "V0 = 4 / 3 * np.pi * R**3\n",
    "T = V0 / F\n"
   ]
  },
  {
   "cell_type": "code",
   "execution_count": 43,
   "metadata": {},
   "outputs": [],
   "source": [
    "c3, c2 = -np.pi / 3, np.pi * R\n",
    "N = 100\n",
    "time = np.linspace(0, T, N)\n",
    "h = np.zeros(N)\n"
   ]
  },
  {
   "cell_type": "code",
   "execution_count": 44,
   "metadata": {},
   "outputs": [
    {
     "name": "stderr",
     "output_type": "stream",
     "text": [
      "C:\\Users\\cenkt\\AppData\\Local\\Temp\\ipykernel_11624\\984722679.py:5: ComplexWarning: Casting complex values to real discards the imaginary part\n",
      "  h[i] = roots[(0 <= roots) & (roots <= 2 * R)][0]\n"
     ]
    }
   ],
   "source": [
    "for i, t in enumerate(time):\n",
    "    c0 = F * t - V0\n",
    "    pol = Polynomial([c0, 0, c2, c3])\n",
    "    roots = pol.roots()\n",
    "    h[i] = roots[(0 <= roots) & (roots <= 2 * R)][0]\n"
   ]
  },
  {
   "cell_type": "code",
   "execution_count": 45,
   "metadata": {},
   "outputs": [
    {
     "data": {
      "text/plain": [
       "[<matplotlib.lines.Line2D at 0x28f08b917b0>]"
      ]
     },
     "execution_count": 45,
     "metadata": {},
     "output_type": "execute_result"
    },
    {
     "data": {
      "image/png": "[encoded data removed]",
      "text/plain": [
       "<Figure size 640x480 with 1 Axes>"
      ]
     },
     "metadata": {},
     "output_type": "display_data"
    }
   ],
   "source": [
    "plt.plot(time, h)\n"
   ]
  },
  {
   "cell_type": "markdown",
   "metadata": {},
   "source": [
    "### Q6.4.1\n"
   ]
  },
  {
   "cell_type": "code",
   "execution_count": 46,
   "metadata": {},
   "outputs": [
    {
     "data": {
      "text/plain": [
       "True"
      ]
     },
     "execution_count": 46,
     "metadata": {},
     "output_type": "execute_result"
    }
   ],
   "source": [
    "Polynomial((-7, 2, 0, 3)).deriv(3).coef[0] == 18\n"
   ]
  },
  {
   "cell_type": "markdown",
   "metadata": {},
   "source": [
    "### Q 6.4.2\n"
   ]
  },
  {
   "cell_type": "code",
   "execution_count": 47,
   "metadata": {},
   "outputs": [],
   "source": [
    "p1 = Polynomial([-11, 1, 1])\n",
    "p2 = Polynomial([-7, 1, 1])\n",
    "p3 = p1**2 + p2**2\n",
    "p3dev = p3.deriv()\n",
    "stationary_points = p3dev.roots()\n"
   ]
  },
  {
   "cell_type": "code",
   "execution_count": 48,
   "metadata": {},
   "outputs": [
    {
     "data": {
      "text/plain": [
       "(array([-0.5]), array([-3.54138127,  2.54138127]))"
      ]
     },
     "execution_count": 48,
     "metadata": {},
     "output_type": "execute_result"
    }
   ],
   "source": [
    "p3dev2 = p3dev.deriv()\n",
    "minima = stationary_points[p3dev2(stationary_points) > 0]\n",
    "maxima = stationary_points[p3dev2(stationary_points) < 0]\n",
    "maxima, minima\n"
   ]
  },
  {
   "cell_type": "markdown",
   "metadata": {},
   "source": [
    "### P 6.4.1\n"
   ]
  },
  {
   "cell_type": "code",
   "execution_count": 49,
   "metadata": {},
   "outputs": [
    {
     "data": {
      "text/plain": [
       "array([ 0.1 ,  0.24,  0.38,  0.52,  0.66,  0.8 ,  0.94,  1.08,  1.22,\n",
       "        1.36,  1.5 ,  1.65,  1.79,  1.93,  3.26,  3.53,  3.8 ,  4.07,\n",
       "        4.34,  4.61, 15.  , 25.  , 34.  , 53.  , 62.  ])"
      ]
     },
     "execution_count": 49,
     "metadata": {},
     "output_type": "execute_result"
    }
   ],
   "source": [
    "blast_data = np.loadtxt(\"new-mexico-blast-data.txt\", skiprows=1)\n",
    "blast_data[:, 0]\n"
   ]
  },
  {
   "cell_type": "code",
   "execution_count": 50,
   "metadata": {},
   "outputs": [
    {
     "data": {
      "text/plain": [
       "<matplotlib.collections.PathCollection at 0x28f08c00820>"
      ]
     },
     "execution_count": 50,
     "metadata": {},
     "output_type": "execute_result"
    },
    {
     "data": {
      "image/png": "[encoded data removed]",
      "text/plain": [
       "<Figure size 640x480 with 1 Axes>"
      ]
     },
     "metadata": {},
     "output_type": "display_data"
    }
   ],
   "source": [
    "plt.scatter(np.log10(blast_data[:, 0] / 1000), np.log10(blast_data[:, 1]))\n"
   ]
  },
  {
   "cell_type": "code",
   "execution_count": 51,
   "metadata": {},
   "outputs": [
    {
     "name": "stdout",
     "output_type": "stream",
     "text": [
      "[0.40582263 2.77673621]\n"
     ]
    }
   ],
   "source": [
    "blast_pol = np.polyfit(np.log10(blast_data[:, 0] / 1000), np.log10(blast_data[:, 1]), deg=1)\n",
    "print(blast_pol)\n"
   ]
  },
  {
   "cell_type": "code",
   "execution_count": 52,
   "metadata": {},
   "outputs": [
    {
     "data": {
      "text/plain": [
       "95629323414596.62"
      ]
     },
     "execution_count": 52,
     "metadata": {},
     "output_type": "execute_result"
    }
   ],
   "source": [
    "1.25 * 10 ** (blast_pol[1] * 5)\n"
   ]
  },
  {
   "cell_type": "markdown",
   "metadata": {},
   "source": [
    "### P6.4.2\n"
   ]
  },
  {
   "cell_type": "code",
   "execution_count": 53,
   "metadata": {},
   "outputs": [
    {
     "data": {
      "text/plain": [
       "(array([10.,  8., 13.,  9., 11., 14.,  6.,  4., 12.,  7.,  5.]),\n",
       " array([ 8.04,  6.95,  7.58,  8.81,  8.33,  9.96,  7.24,  4.26, 10.84,\n",
       "         4.82,  5.68]),\n",
       " array([10.,  8., 13.,  9., 11., 14.,  6.,  4., 12.,  7.,  5.]),\n",
       " array([9.14, 8.14, 8.74, 8.77, 9.26, 8.1 , 6.13, 3.1 , 9.13, 7.26, 4.74]),\n",
       " array([10.,  8., 13.,  9., 11., 14.,  6.,  4., 12.,  7.,  5.]),\n",
       " array([ 7.46,  6.77, 12.74,  7.11,  7.81,  8.84,  6.08,  5.39,  8.15,\n",
       "         6.42,  5.73]),\n",
       " array([ 8.,  8.,  8.,  8.,  8.,  8.,  8., 19.,  8.,  8.,  8.]),\n",
       " array([ 6.58,  5.76,  7.71,  8.84,  8.47,  7.04,  5.25, 12.5 ,  5.56,\n",
       "         7.91,  6.89]))"
      ]
     },
     "execution_count": 53,
     "metadata": {},
     "output_type": "execute_result"
    }
   ],
   "source": [
    "x1, y1, x2, y2, x3, y3, x4, y4 = np.loadtxt(\"./ex6-4-a-anscombe.txt\", delimiter=\"\\t\", unpack=True)\n",
    "x1, y1, x2, y2, x3, y3, x4, y4\n"
   ]
  },
  {
   "cell_type": "code",
   "execution_count": 54,
   "metadata": {},
   "outputs": [
    {
     "data": {
      "text/plain": [
       "(9.0,\n",
       " 7.500909090909093,\n",
       " 10.0,\n",
       " 3.7520628099173554,\n",
       " array([[1.        , 0.81642052],\n",
       "        [0.81642052, 1.        ]]))"
      ]
     },
     "execution_count": 54,
     "metadata": {},
     "output_type": "execute_result"
    }
   ],
   "source": [
    "np.mean(x1), np.mean(y1), np.var(x1), np.var(y1), np.corrcoef(x1, y1)\n"
   ]
  },
  {
   "cell_type": "code",
   "execution_count": 55,
   "metadata": {},
   "outputs": [
    {
     "data": {
      "text/plain": [
       "array([0.50009091, 3.00009091])"
      ]
     },
     "execution_count": 55,
     "metadata": {},
     "output_type": "execute_result"
    }
   ],
   "source": [
    "np.polyfit(x1, y1, deg=1)\n"
   ]
  },
  {
   "cell_type": "markdown",
   "metadata": {},
   "source": [
    "### P6.4.4\n"
   ]
  },
  {
   "cell_type": "code",
   "execution_count": 56,
   "metadata": {},
   "outputs": [],
   "source": [
    "saturn = Polynomial((2.198, 0.02842, 0.001061))\n"
   ]
  },
  {
   "cell_type": "code",
   "execution_count": 57,
   "metadata": {},
   "outputs": [
    {
     "data": {
      "text/latex": [
       "$x \\mapsto \\text{2.198} + \\text{0.02842}\\,x + \\text{0.001061}\\,x^{2}$"
      ],
      "text/plain": [
       "Polynomial([2.198e+00, 2.842e-02, 1.061e-03], domain=[-1,  1], window=[-1,  1], symbol='x')"
      ]
     },
     "execution_count": 57,
     "metadata": {},
     "output_type": "execute_result"
    }
   ],
   "source": [
    "saturn\n"
   ]
  },
  {
   "cell_type": "code",
   "execution_count": 58,
   "metadata": {},
   "outputs": [
    {
     "name": "stdout",
     "output_type": "stream",
     "text": [
      "61.33658216724479\n"
     ]
    }
   ],
   "source": [
    "print(saturn.integ(2)(2 * 60 + 15.2) / 1000)\n"
   ]
  },
  {
   "cell_type": "code",
   "execution_count": 59,
   "metadata": {},
   "outputs": [
    {
     "data": {
      "text/plain": [
       "2.6457513110645907"
      ]
     },
     "execution_count": 59,
     "metadata": {},
     "output_type": "execute_result"
    }
   ],
   "source": [
    "c = np.array([1, 2j, 1 - 1j])\n",
    "np.linalg.norm(c)\n"
   ]
  },
  {
   "cell_type": "code",
   "execution_count": 60,
   "metadata": {},
   "outputs": [
    {
     "data": {
      "text/plain": [
       "1.4142135623730951"
      ]
     },
     "execution_count": 60,
     "metadata": {},
     "output_type": "execute_result"
    }
   ],
   "source": [
    "abs(1 - 1j)  # abs -> z^2 = (x^2 +y^2)\n"
   ]
  },
  {
   "cell_type": "markdown",
   "metadata": {},
   "source": [
    "### E6.16"
   ]
  },
  {
   "cell_type": "code",
   "execution_count": 61,
   "metadata": {},
   "outputs": [],
   "source": [
    "# Set up a Cartesian grid of points.\n",
    "XMIN, XMAX, YMIN, YMAX = -3, 3, -3, 3\n",
    "N = 16\n",
    "xgrid = np.linspace(XMIN, XMAX, N)\n",
    "ygrid = np.linspace(YMIN, YMAX, N)\n",
    "\n",
    "grid = np.array(np.meshgrid(xgrid, ygrid)).reshape(2, N**2)\n",
    "# Our untransformed unit basis vectors , i and j:\n",
    "basis = np.array([[1, 0], [0, 1]])\n",
    "\n",
    "\n",
    "def plot_quadrilateral(basis, color=\"g\"):\n",
    "    \"\"\"Plot the quadrilateral defined by the two basis vectors.\"\"\"\n",
    "    ix, iy = basis[0]\n",
    "    jx, jy = basis[1]\n",
    "    plt.plot([0, ix, ix + jx, jx, 0], [0, iy, iy + jy, jy, 0], color)\n",
    "\n",
    "\n",
    "def plot_vector(v, color=\"g\", lw=1):\n",
    "    \"\"\"Plot vector v as a line with a specified color and linewidth.\"\"\"\n",
    "    plt.plot([0, v[0]], [0, v[1]], c=color, lw=lw)\n",
    "\n",
    "\n",
    "def plot_points(grid, color=\"g\"):\n",
    "    \"\"\"Plot the grid points in a specified color.\"\"\"\n",
    "    plt.scatter(*grid, c=color, s=2, alpha=0.5)\n",
    "\n",
    "\n",
    "def apply_transformation(basis, T):\n",
    "    \"\"\"Return the transformed basis after applying transformation T.\"\"\"\n",
    "    return (T @ basis.T).T\n",
    "\n"
   ]
  },
  {
   "cell_type": "code",
   "execution_count": 62,
   "metadata": {},
   "outputs": [
    {
     "name": "stdout",
     "output_type": "stream",
     "text": [
      "[2. 1.] [[ 0.70710678 -0.70710678]\n",
      " [ 0.70710678  0.70710678]]\n"
     ]
    },
    {
     "data": {
      "image/png": "[encoded data removed]",
      "text/plain": [
       "<Figure size 640x480 with 1 Axes>"
      ]
     },
     "metadata": {},
     "output_type": "display_data"
    }
   ],
   "source": [
    "\n",
    "# The untransformed grid and unit square.\n",
    "plot_points(grid)\n",
    "plot_quadrilateral(basis)\n",
    "# Apply the transformation matrix, S, to the scene.\n",
    "S = np.array(((1.5, 0.5), (0.5, 1.5)))\n",
    "tbasis = apply_transformation(basis, S)\n",
    "plot_quadrilateral(tbasis, \"r\")\n",
    "# plt.show()\n",
    "\n",
    "\n",
    "tgrid = S @ grid\n",
    "plot_points(tgrid, \"r\")\n",
    "# plt.show()\n",
    "\n",
    "# Find the eigenvalues and eigenvectors of S...\n",
    "vals, vecs = np.linalg.eig(S)\n",
    "print(vals, vecs)\n",
    "if all(np.isreal(vals)):\n",
    "    # ... if they ' re all real, indicate them on the diagram.\n",
    "    v1, v2 = vals\n",
    "    e1, e2 = vecs.T\n",
    "    plot_vector(v1 * e1, \"b\", 3)\n",
    "    plot_vector(v2 * e2, \"b\", 3)\n",
    "    plot_vector(e1, \"g\")\n",
    "    plot_vector(e2, \"g\")\n",
    "\n",
    "# Ensure the plot has 1:1 aspect (i.e. squares look square) and set the limits.\n",
    "plt.axis(\"square\")\n",
    "plt.xlim(XMIN, XMAX)\n",
    "plt.ylim(YMIN, YMAX)\n",
    "plt.show()"
   ]
  }
 ],
 "metadata": {
  "kernelspec": {
   "display_name": "Python 3.10.6 ('ai')",
   "language": "python",
   "name": "python3"
  },
  "language_info": {
   "codemirror_mode": {
    "name": "ipython",
    "version": 3
   },
   "file_extension": ".py",
   "mimetype": "text/x-python",
   "name": "python",
   "nbconvert_exporter": "python",
   "pygments_lexer": "ipython3",
   "version": "3.10.9"
  },
  "orig_nbformat": 4,
  "vscode": {
   "interpreter": {
    "hash": "408c70fb77455de95906bffbf228b1c4fc23a208864f077eb531bdd8c7c00cfc"
   }
  }
 },
 "nbformat": 4,
 "nbformat_minor": 2
}
