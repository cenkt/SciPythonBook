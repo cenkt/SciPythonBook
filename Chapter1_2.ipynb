{
 "cells": [
  {
   "cell_type": "markdown",
   "metadata": {
    "tags": []
   },
   "source": [
    "# Chapter 1 & 2\n",
    "## Intro & Core Python Language 1"
   ]
  },
  {
   "cell_type": "code",
   "execution_count": 3,
   "metadata": {},
   "outputs": [],
   "source": [
    "import keyword\n",
    "import math\n"
   ]
  },
  {
   "cell_type": "code",
   "execution_count": 4,
   "metadata": {},
   "outputs": [
    {
     "data": {
      "text/plain": [
       "36"
      ]
     },
     "execution_count": 4,
     "metadata": {},
     "output_type": "execute_result"
    }
   ],
   "source": [
    "len(keyword.kwlist)\n"
   ]
  },
  {
   "cell_type": "code",
   "execution_count": 5,
   "metadata": {
    "scrolled": true,
    "tags": []
   },
   "outputs": [
    {
     "name": "stdout",
     "output_type": "stream",
     "text": [
      "['False', 'None', 'True', '__peg_parser__', 'and', 'as', 'assert', 'async', 'await', 'break', 'class', 'continue', 'def', 'del', 'elif', 'else', 'except', 'finally', 'for', 'from', 'global', 'if', 'import', 'in', 'is', 'lambda', 'nonlocal', 'not', 'or', 'pass', 'raise', 'return', 'try', 'while', 'with', 'yield']\n"
     ]
    }
   ],
   "source": [
    "print(keyword.kwlist)\n"
   ]
  },
  {
   "cell_type": "code",
   "execution_count": 6,
   "metadata": {
    "scrolled": true,
    "tags": []
   },
   "outputs": [
    {
     "name": "stdout",
     "output_type": "stream",
     "text": [
      "['ArithmeticError', 'AssertionError', 'AttributeError', 'BaseException', 'BlockingIOError', 'BrokenPipeError', 'BufferError', 'BytesWarning', 'ChildProcessError', 'ConnectionAbortedError', 'ConnectionError', 'ConnectionRefusedError', 'ConnectionResetError', 'DeprecationWarning', 'EOFError', 'Ellipsis', 'EnvironmentError', 'Exception', 'False', 'FileExistsError', 'FileNotFoundError', 'FloatingPointError', 'FutureWarning', 'GeneratorExit', 'IOError', 'ImportError', 'ImportWarning', 'IndentationError', 'IndexError', 'InterruptedError', 'IsADirectoryError', 'KeyError', 'KeyboardInterrupt', 'LookupError', 'MemoryError', 'ModuleNotFoundError', 'NameError', 'None', 'NotADirectoryError', 'NotImplemented', 'NotImplementedError', 'OSError', 'OverflowError', 'PendingDeprecationWarning', 'PermissionError', 'ProcessLookupError', 'RecursionError', 'ReferenceError', 'ResourceWarning', 'RuntimeError', 'RuntimeWarning', 'StopAsyncIteration', 'StopIteration', 'SyntaxError', 'SyntaxWarning', 'SystemError', 'SystemExit', 'TabError', 'TimeoutError', 'True', 'TypeError', 'UnboundLocalError', 'UnicodeDecodeError', 'UnicodeEncodeError', 'UnicodeError', 'UnicodeTranslateError', 'UnicodeWarning', 'UserWarning', 'ValueError', 'Warning', 'WindowsError', 'ZeroDivisionError', '__IPYTHON__', '__build_class__', '__debug__', '__doc__', '__import__', '__loader__', '__name__', '__package__', '__spec__', 'abs', 'all', 'any', 'ascii', 'bin', 'bool', 'breakpoint', 'bytearray', 'bytes', 'callable', 'chr', 'classmethod', 'compile', 'complex', 'copyright', 'credits', 'delattr', 'dict', 'dir', 'display', 'divmod', 'enumerate', 'eval', 'exec', 'execfile', 'filter', 'float', 'format', 'frozenset', 'get_ipython', 'getattr', 'globals', 'hasattr', 'hash', 'help', 'hex', 'id', 'input', 'int', 'isinstance', 'issubclass', 'iter', 'len', 'license', 'list', 'locals', 'map', 'max', 'memoryview', 'min', 'next', 'object', 'oct', 'open', 'ord', 'pow', 'print', 'property', 'range', 'repr', 'reversed', 'round', 'runfile', 'set', 'setattr', 'slice', 'sorted', 'staticmethod', 'str', 'sum', 'super', 'tuple', 'type', 'vars', 'zip']\n"
     ]
    }
   ],
   "source": [
    "import builtins\n",
    "\n",
    "print(dir(builtins))\n"
   ]
  },
  {
   "cell_type": "markdown",
   "metadata": {
    "heading_collapsed": "true",
    "tags": []
   },
   "source": [
    "## Numbers "
   ]
  },
  {
   "cell_type": "code",
   "execution_count": 7,
   "metadata": {},
   "outputs": [
    {
     "data": {
      "text/plain": [
       "2.718281828459045"
      ]
     },
     "execution_count": 7,
     "metadata": {},
     "output_type": "execute_result"
    }
   ],
   "source": [
    "math.e\n"
   ]
  },
  {
   "cell_type": "code",
   "execution_count": 8,
   "metadata": {},
   "outputs": [
    {
     "data": {
      "text/plain": [
       "3.141592653589793"
      ]
     },
     "execution_count": 8,
     "metadata": {},
     "output_type": "execute_result"
    }
   ],
   "source": [
    "math.pi\n"
   ]
  },
  {
   "cell_type": "code",
   "execution_count": 9,
   "metadata": {},
   "outputs": [
    {
     "data": {
      "text/plain": [
       "False"
      ]
     },
     "execution_count": 9,
     "metadata": {},
     "output_type": "execute_result"
    }
   ],
   "source": [
    "x = []\n",
    "x is None\n"
   ]
  },
  {
   "cell_type": "code",
   "execution_count": 10,
   "metadata": {},
   "outputs": [
    {
     "data": {
      "text/plain": [
       "True"
      ]
     },
     "execution_count": 10,
     "metadata": {},
     "output_type": "execute_result"
    }
   ],
   "source": [
    "a = 256\n",
    "b = 256\n",
    "a is b\n"
   ]
  },
  {
   "cell_type": "code",
   "execution_count": 11,
   "metadata": {},
   "outputs": [
    {
     "data": {
      "text/plain": [
       "False"
      ]
     },
     "execution_count": 11,
     "metadata": {},
     "output_type": "execute_result"
    }
   ],
   "source": [
    "a = 300\n",
    "b = 300\n",
    "a is b\n"
   ]
  },
  {
   "cell_type": "code",
   "execution_count": 12,
   "metadata": {},
   "outputs": [
    {
     "data": {
      "text/plain": [
       "(9+3j)"
      ]
     },
     "execution_count": 12,
     "metadata": {},
     "output_type": "execute_result"
    }
   ],
   "source": [
    "9 + 6j / 2\n"
   ]
  },
  {
   "cell_type": "code",
   "execution_count": 13,
   "metadata": {},
   "outputs": [
    {
     "data": {
      "text/plain": [
       "(4+5j)"
      ]
     },
     "execution_count": 13,
     "metadata": {},
     "output_type": "execute_result"
    }
   ],
   "source": [
    "complex(4, 5)\n"
   ]
  },
  {
   "cell_type": "code",
   "execution_count": 14,
   "metadata": {},
   "outputs": [],
   "source": [
    "a = 4 + 5j\n"
   ]
  },
  {
   "cell_type": "code",
   "execution_count": 15,
   "metadata": {},
   "outputs": [
    {
     "data": {
      "text/plain": [
       "(4+5j)"
      ]
     },
     "execution_count": 15,
     "metadata": {},
     "output_type": "execute_result"
    }
   ],
   "source": [
    "a\n"
   ]
  },
  {
   "cell_type": "code",
   "execution_count": 16,
   "metadata": {},
   "outputs": [
    {
     "data": {
      "text/plain": [
       "complex"
      ]
     },
     "execution_count": 16,
     "metadata": {},
     "output_type": "execute_result"
    }
   ],
   "source": [
    "type(a)\n"
   ]
  },
  {
   "cell_type": "code",
   "execution_count": 17,
   "metadata": {},
   "outputs": [],
   "source": [
    "b = complex(3, 5)\n"
   ]
  },
  {
   "cell_type": "code",
   "execution_count": 18,
   "metadata": {},
   "outputs": [
    {
     "data": {
      "text/plain": [
       "(3+5j)"
      ]
     },
     "execution_count": 18,
     "metadata": {},
     "output_type": "execute_result"
    }
   ],
   "source": [
    "b\n"
   ]
  },
  {
   "cell_type": "code",
   "execution_count": 19,
   "metadata": {},
   "outputs": [],
   "source": [
    "c = complex(4, 5j)\n"
   ]
  },
  {
   "cell_type": "code",
   "execution_count": 20,
   "metadata": {},
   "outputs": [
    {
     "data": {
      "text/plain": [
       "(-1+0j)"
      ]
     },
     "execution_count": 20,
     "metadata": {},
     "output_type": "execute_result"
    }
   ],
   "source": [
    "c\n"
   ]
  },
  {
   "cell_type": "code",
   "execution_count": 21,
   "metadata": {},
   "outputs": [
    {
     "data": {
      "text/plain": [
       "3"
      ]
     },
     "execution_count": 21,
     "metadata": {},
     "output_type": "execute_result"
    }
   ],
   "source": [
    "round(2.6)\n"
   ]
  },
  {
   "cell_type": "code",
   "execution_count": 22,
   "metadata": {},
   "outputs": [
    {
     "data": {
      "text/plain": [
       "-3"
      ]
     },
     "execution_count": 22,
     "metadata": {},
     "output_type": "execute_result"
    }
   ],
   "source": [
    "round(-2.6)\n"
   ]
  },
  {
   "cell_type": "code",
   "execution_count": 23,
   "metadata": {},
   "outputs": [
    {
     "data": {
      "text/plain": [
       "0.20787957635076193"
      ]
     },
     "execution_count": 23,
     "metadata": {},
     "output_type": "execute_result"
    }
   ],
   "source": [
    "((0 + 1j) ** (0 + 1j)).real\n"
   ]
  },
  {
   "cell_type": "code",
   "execution_count": 24,
   "metadata": {},
   "outputs": [
    {
     "data": {
      "text/plain": [
       "True"
      ]
     },
     "execution_count": 24,
     "metadata": {},
     "output_type": "execute_result"
    }
   ],
   "source": [
    "math.hypot(4, 5) == abs(complex(5, -4))\n"
   ]
  },
  {
   "cell_type": "code",
   "execution_count": 25,
   "metadata": {},
   "outputs": [
    {
     "data": {
      "text/plain": [
       "6.4031242374328485"
      ]
     },
     "execution_count": 25,
     "metadata": {},
     "output_type": "execute_result"
    }
   ],
   "source": [
    "abs(complex(5, -4))\n"
   ]
  },
  {
   "cell_type": "code",
   "execution_count": 26,
   "metadata": {},
   "outputs": [
    {
     "data": {
      "text/plain": [
       "6.4031242374328485"
      ]
     },
     "execution_count": 26,
     "metadata": {},
     "output_type": "execute_result"
    }
   ],
   "source": [
    "math.sqrt(25 + 16)\n"
   ]
  },
  {
   "cell_type": "code",
   "execution_count": 27,
   "metadata": {},
   "outputs": [
    {
     "data": {
      "text/plain": [
       "1"
      ]
     },
     "execution_count": 27,
     "metadata": {},
     "output_type": "execute_result"
    }
   ],
   "source": [
    "-7 // -4\n"
   ]
  },
  {
   "cell_type": "code",
   "execution_count": 28,
   "metadata": {},
   "outputs": [
    {
     "data": {
      "text/plain": [
       "-3"
      ]
     },
     "execution_count": 28,
     "metadata": {},
     "output_type": "execute_result"
    }
   ],
   "source": [
    "-7 % -4\n"
   ]
  },
  {
   "cell_type": "code",
   "execution_count": 29,
   "metadata": {},
   "outputs": [
    {
     "data": {
      "text/plain": [
       "-2"
      ]
     },
     "execution_count": 29,
     "metadata": {},
     "output_type": "execute_result"
    }
   ],
   "source": [
    "-7 // 4\n"
   ]
  },
  {
   "cell_type": "code",
   "execution_count": 30,
   "metadata": {},
   "outputs": [
    {
     "data": {
      "text/plain": [
       "1"
      ]
     },
     "execution_count": 30,
     "metadata": {},
     "output_type": "execute_result"
    }
   ],
   "source": [
    "-7 % 4\n"
   ]
  },
  {
   "cell_type": "code",
   "execution_count": 31,
   "metadata": {},
   "outputs": [
    {
     "data": {
      "text/plain": [
       "3"
      ]
     },
     "execution_count": 31,
     "metadata": {},
     "output_type": "execute_result"
    }
   ],
   "source": [
    "(3 * ((2 ^ 3 * 6) - (2 * 6 ^ 3))) % 7\n"
   ]
  },
  {
   "cell_type": "code",
   "execution_count": 32,
   "metadata": {},
   "outputs": [
    {
     "data": {
      "text/plain": [
       "3844000000000.0"
      ]
     },
     "execution_count": 32,
     "metadata": {},
     "output_type": "execute_result"
    }
   ],
   "source": [
    "a = 384400000000 / 0.1\n",
    "a\n"
   ]
  },
  {
   "cell_type": "code",
   "execution_count": 33,
   "metadata": {},
   "outputs": [
    {
     "data": {
      "text/plain": [
       "41.805745474760016"
      ]
     },
     "execution_count": 33,
     "metadata": {},
     "output_type": "execute_result"
    }
   ],
   "source": [
    "b = math.log(a, 2)\n",
    "b\n"
   ]
  },
  {
   "cell_type": "code",
   "execution_count": 34,
   "metadata": {},
   "outputs": [
    {
     "data": {
      "text/plain": [
       "-0.01220703125"
      ]
     },
     "execution_count": 34,
     "metadata": {},
     "output_type": "execute_result"
    }
   ],
   "source": [
    "a - ((2 ** b))\n"
   ]
  },
  {
   "cell_type": "code",
   "execution_count": 35,
   "metadata": {},
   "outputs": [
    {
     "data": {
      "text/plain": [
       "3828721867644.1333"
      ]
     },
     "execution_count": 35,
     "metadata": {},
     "output_type": "execute_result"
    }
   ],
   "source": [
    "2 ** 41.8\n"
   ]
  },
  {
   "cell_type": "code",
   "execution_count": 36,
   "metadata": {},
   "outputs": [
    {
     "data": {
      "text/plain": [
       "True"
      ]
     },
     "execution_count": 36,
     "metadata": {},
     "output_type": "execute_result"
    }
   ],
   "source": [
    "not 1 < -2\n"
   ]
  },
  {
   "cell_type": "code",
   "execution_count": 37,
   "metadata": {},
   "outputs": [
    {
     "data": {
      "text/plain": [
       "True"
      ]
     },
     "execution_count": 37,
     "metadata": {},
     "output_type": "execute_result"
    }
   ],
   "source": [
    "not 0 > 1\n"
   ]
  },
  {
   "cell_type": "code",
   "execution_count": 38,
   "metadata": {},
   "outputs": [
    {
     "data": {
      "text/plain": [
       "2"
      ]
     },
     "execution_count": 38,
     "metadata": {},
     "output_type": "execute_result"
    }
   ],
   "source": [
    "1 and 2\n"
   ]
  },
  {
   "cell_type": "code",
   "execution_count": 39,
   "metadata": {},
   "outputs": [
    {
     "data": {
      "text/plain": [
       "0"
      ]
     },
     "execution_count": 39,
     "metadata": {},
     "output_type": "execute_result"
    }
   ],
   "source": [
    "0 and 1\n"
   ]
  },
  {
   "cell_type": "code",
   "execution_count": 40,
   "metadata": {},
   "outputs": [
    {
     "data": {
      "text/plain": [
       "1"
      ]
     },
     "execution_count": 40,
     "metadata": {},
     "output_type": "execute_result"
    }
   ],
   "source": [
    "2 and 1\n"
   ]
  },
  {
   "cell_type": "code",
   "execution_count": 41,
   "metadata": {},
   "outputs": [
    {
     "data": {
      "text/plain": [
       "1"
      ]
     },
     "execution_count": 41,
     "metadata": {},
     "output_type": "execute_result"
    }
   ],
   "source": [
    "1 or 0\n"
   ]
  },
  {
   "cell_type": "code",
   "execution_count": 42,
   "metadata": {},
   "outputs": [
    {
     "data": {
      "text/plain": [
       "1"
      ]
     },
     "execution_count": 42,
     "metadata": {},
     "output_type": "execute_result"
    }
   ],
   "source": [
    "0 or 1\n"
   ]
  },
  {
   "cell_type": "code",
   "execution_count": 43,
   "metadata": {},
   "outputs": [
    {
     "data": {
      "text/plain": [
       "False"
      ]
     },
     "execution_count": 43,
     "metadata": {},
     "output_type": "execute_result"
    }
   ],
   "source": [
    "not 0 and False\n"
   ]
  },
  {
   "cell_type": "code",
   "execution_count": 44,
   "metadata": {},
   "outputs": [
    {
     "data": {
      "text/plain": [
       "False"
      ]
     },
     "execution_count": 44,
     "metadata": {},
     "output_type": "execute_result"
    }
   ],
   "source": [
    "type(complex(2, 3).real) is int\n"
   ]
  },
  {
   "cell_type": "code",
   "execution_count": 45,
   "metadata": {},
   "outputs": [
    {
     "data": {
      "text/plain": [
       "100"
      ]
     },
     "execution_count": 45,
     "metadata": {},
     "output_type": "execute_result"
    }
   ],
   "source": [
    "10 ** 2\n"
   ]
  },
  {
   "cell_type": "code",
   "execution_count": 46,
   "metadata": {},
   "outputs": [],
   "source": [
    "a = True\n",
    "b = False\n"
   ]
  },
  {
   "cell_type": "code",
   "execution_count": 47,
   "metadata": {},
   "outputs": [
    {
     "data": {
      "text/plain": [
       "True"
      ]
     },
     "execution_count": 47,
     "metadata": {},
     "output_type": "execute_result"
    }
   ],
   "source": [
    "not (a == b)\n"
   ]
  },
  {
   "cell_type": "code",
   "execution_count": 48,
   "metadata": {},
   "outputs": [
    {
     "data": {
      "text/plain": [
       "-1.0"
      ]
     },
     "execution_count": 48,
     "metadata": {},
     "output_type": "execute_result"
    }
   ],
   "source": [
    "math.sin(2017 * (2 ** (1 / 5)))\n"
   ]
  },
  {
   "cell_type": "code",
   "execution_count": 49,
   "metadata": {},
   "outputs": [
    {
     "data": {
      "text/plain": [
       "-0.9999999992436801"
      ]
     },
     "execution_count": 49,
     "metadata": {},
     "output_type": "execute_result"
    }
   ],
   "source": [
    "((math.pi + 20) ** (complex(0, 1))).real\n"
   ]
  },
  {
   "cell_type": "code",
   "execution_count": 50,
   "metadata": {},
   "outputs": [],
   "source": [
    "# math.e**1000\n"
   ]
  },
  {
   "cell_type": "code",
   "execution_count": 51,
   "metadata": {},
   "outputs": [
    {
     "data": {
      "text/plain": [
       "402387260077093773543702433923003985719374864210714632543799910429938512398629020592044208486969404800479988610197196058631666872994808558901323829669944590997424504087073759918823627727188732519779505950995276120874975462497043601418278094646496291056393887437886487337119181045825783647849977012476632889835955735432513185323958463075557409114262417474349347553428646576611667797396668820291207379143853719588249808126867838374559731746136085379534524221586593201928090878297308431392844403281231558611036976801357304216168747609675871348312025478589320767169132448426236131412508780208000261683151027341827977704784635868170164365024153691398281264810213092761244896359928705114964975419909342221566832572080821333186116811553615836546984046708975602900950537616475847728421889679646244945160765353408198901385442487984959953319101723355556602139450399736280750137837615307127761926849034352625200015888535147331611702103968175921510907788019393178114194545257223865541461062892187960223838971476088506276862967146674697562911234082439208160153780889893964518263243671616762179168909779911903754031274622289988005195444414282012187361745992642956581746628302955570299024324153181617210465832036786906117260158783520751516284225540265170483304226143974286933061690897968482590125458327168226458066526769958652682272807075781391858178889652208164348344825993266043367660176999612831860788386150279465955131156552036093988180612138558600301435694527224206344631797460594682573103790084024432438465657245014402821885252470935190620929023136493273497565513958720559654228749774011413346962715422845862377387538230483865688976461927383814900140767310446640259899490222221765904339901886018566526485061799702356193897017860040811889729918311021171229845901641921068884387121855646124960798722908519296819372388642614839657382291123125024186649353143970137428531926649875337218940694281434118520158014123344828015051399694290153483077644569099073152433278288269864602789864321139083506217095002597389863554277196742822248757586765752344220207573630569498825087968928162753848863396909959826280956121450994871701244516461260379029309120889086942028510640182154399457156805941872748998094254742173582401063677404595741785160829230135358081840096996372524230560855903700624271243416909004153690105933983835777939410970027753472000000000000000000000000000000000000000000000000000000000000000000000000000000000000000000000000000000000000000000000000000000000000000000000000000000000000000000000000000000000000000000000000000000000000000000000000000000000000000000000000000000000"
      ]
     },
     "execution_count": 51,
     "metadata": {},
     "output_type": "execute_result"
    }
   ],
   "source": [
    "math.factorial(1000)\n"
   ]
  },
  {
   "cell_type": "code",
   "execution_count": 52,
   "metadata": {},
   "outputs": [],
   "source": [
    "## 5/0\n"
   ]
  },
  {
   "cell_type": "code",
   "execution_count": 53,
   "metadata": {},
   "outputs": [
    {
     "data": {
      "text/plain": [
       "3.5032128111206724e+201"
      ]
     },
     "execution_count": 53,
     "metadata": {},
     "output_type": "execute_result"
    }
   ],
   "source": [
    "math.hypot(1.5e200, 3.5e201)\n"
   ]
  },
  {
   "cell_type": "code",
   "execution_count": 54,
   "metadata": {},
   "outputs": [
    {
     "data": {
      "text/plain": [
       "3.503212811120672e+201"
      ]
     },
     "execution_count": 54,
     "metadata": {},
     "output_type": "execute_result"
    }
   ],
   "source": [
    "math.sqrt((1.5 ** 2) + (35 ** 2)) * 1e200\n"
   ]
  },
  {
   "cell_type": "code",
   "execution_count": 55,
   "metadata": {},
   "outputs": [
    {
     "data": {
      "text/plain": [
       "-1"
      ]
     },
     "execution_count": 55,
     "metadata": {},
     "output_type": "execute_result"
    }
   ],
   "source": [
    "int(math.copysign(1, -2))\n"
   ]
  },
  {
   "cell_type": "markdown",
   "metadata": {
    "heading_collapsed": "true",
    "tags": [],
    "toc-hr-collapsed": true
   },
   "source": [
    "## Strings"
   ]
  },
  {
   "cell_type": "code",
   "execution_count": 56,
   "metadata": {},
   "outputs": [
    {
     "data": {
      "text/plain": [
       "'abdcde'"
      ]
     },
     "execution_count": 56,
     "metadata": {},
     "output_type": "execute_result"
    }
   ],
   "source": [
    "\"abd\" \"cde\"\n"
   ]
  },
  {
   "cell_type": "code",
   "execution_count": 57,
   "metadata": {},
   "outputs": [],
   "source": [
    "sentence = 'He said , \"This parrot\\'s dead.\"'\n"
   ]
  },
  {
   "cell_type": "code",
   "execution_count": 58,
   "metadata": {},
   "outputs": [
    {
     "data": {
      "text/plain": [
       "'He said , \"This parrot\\'s dead.\"'"
      ]
     },
     "execution_count": 58,
     "metadata": {},
     "output_type": "execute_result"
    }
   ],
   "source": [
    "sentence\n"
   ]
  },
  {
   "cell_type": "code",
   "execution_count": 59,
   "metadata": {},
   "outputs": [
    {
     "name": "stdout",
     "output_type": "stream",
     "text": [
      "He said , \"This parrot's dead.\"\n"
     ]
    }
   ],
   "source": [
    "print(sentence)\n"
   ]
  },
  {
   "cell_type": "code",
   "execution_count": 60,
   "metadata": {},
   "outputs": [
    {
     "name": "stdout",
     "output_type": "stream",
     "text": [
      "He said , \"This parrot's dead.\"\n",
      "He said , \"This parrot's dead.\"\n",
      "He said , \"This parrot's dead.\"\n",
      "He said , \"This parrot's dead.\"\n",
      "He said , \"This parrot's dead.\"\n",
      "\n"
     ]
    }
   ],
   "source": [
    "print(5 * (sentence + \"\\n\"))\n"
   ]
  },
  {
   "cell_type": "markdown",
   "metadata": {
    "tags": []
   },
   "source": [
    "### Old Style Formatting"
   ]
  },
  {
   "cell_type": "code",
   "execution_count": 61,
   "metadata": {},
   "outputs": [
    {
     "name": "stdout",
     "output_type": "stream",
     "text": [
      "Hey Cenk      , there is a 0x123.00                         error!\n"
     ]
    }
   ],
   "source": [
    "name = \"Cenk\"\n",
    "errno = 123\n",
    "\n",
    "print(\n",
    "    \"Hey %(name)-10s, there is a 0x%(errno)-30.2f error!\"\n",
    "    % {\"name\": name, \"errno\": errno}\n",
    ")\n"
   ]
  },
  {
   "cell_type": "markdown",
   "metadata": {
    "tags": []
   },
   "source": [
    "### New Style Formatting"
   ]
  },
  {
   "cell_type": "code",
   "execution_count": 62,
   "metadata": {},
   "outputs": [],
   "source": [
    "y = 123456789\n"
   ]
  },
  {
   "cell_type": "code",
   "execution_count": 63,
   "metadata": {},
   "outputs": [
    {
     "name": "stdout",
     "output_type": "stream",
     "text": [
      "Hello, Cenk                           and d                   617,283,945\n"
     ]
    }
   ],
   "source": [
    "print(\"Hello, {nm!s:<30} and {nx}{y:>30,}\".format(nm=name, nx=\"d\", y=y * 5))\n"
   ]
  },
  {
   "cell_type": "markdown",
   "metadata": {
    "tags": []
   },
   "source": [
    "### String Interpolation"
   ]
  },
  {
   "cell_type": "code",
   "execution_count": 64,
   "metadata": {},
   "outputs": [
    {
     "name": "stdout",
     "output_type": "stream",
     "text": [
      "Hello      Cenk, How are you?\n"
     ]
    }
   ],
   "source": [
    "print(f\"Hello {name:>9}, How are you?\")\n"
   ]
  },
  {
   "cell_type": "code",
   "execution_count": 65,
   "metadata": {
    "tags": []
   },
   "outputs": [],
   "source": [
    "name = \"Elizabeth\"\n"
   ]
  },
  {
   "cell_type": "code",
   "execution_count": 66,
   "metadata": {
    "tags": []
   },
   "outputs": [
    {
     "data": {
      "text/plain": [
       "'The name Elizabeth has 9 letters and 2 \"e\"s.'"
      ]
     },
     "execution_count": 66,
     "metadata": {},
     "output_type": "execute_result"
    }
   ],
   "source": [
    "f'The name {name} has {len(name)} letters and {name.lower().count(\"e\")} \"e\"s.'\n"
   ]
  },
  {
   "cell_type": "code",
   "execution_count": 67,
   "metadata": {},
   "outputs": [],
   "source": [
    "multiLine = \"\"\"biz\n",
    "yarın\n",
    "geliyoruz\"\"\"\n"
   ]
  },
  {
   "cell_type": "code",
   "execution_count": 68,
   "metadata": {},
   "outputs": [
    {
     "name": "stdout",
     "output_type": "stream",
     "text": [
      "biz\n",
      "yarın\n",
      "geliyoruz\n"
     ]
    }
   ],
   "source": [
    "print(multiLine)\n"
   ]
  },
  {
   "cell_type": "code",
   "execution_count": 69,
   "metadata": {},
   "outputs": [
    {
     "data": {
      "text/plain": [
       "'©'"
      ]
     },
     "execution_count": 69,
     "metadata": {},
     "output_type": "execute_result"
    }
   ],
   "source": [
    "\"\\u00A9\"\n"
   ]
  },
  {
   "cell_type": "code",
   "execution_count": 70,
   "metadata": {},
   "outputs": [
    {
     "data": {
      "text/plain": [
       "'ruhtrA'"
      ]
     },
     "execution_count": 70,
     "metadata": {},
     "output_type": "execute_result"
    }
   ],
   "source": [
    "s = \"King Arthur\"\n",
    "s[-1:4:-1]\n"
   ]
  },
  {
   "cell_type": "code",
   "execution_count": 71,
   "metadata": {},
   "outputs": [
    {
     "data": {
      "text/plain": [
       "'         King Arthur          '"
      ]
     },
     "execution_count": 71,
     "metadata": {},
     "output_type": "execute_result"
    }
   ],
   "source": [
    "s.center(30)\n"
   ]
  },
  {
   "cell_type": "code",
   "execution_count": 72,
   "metadata": {},
   "outputs": [
    {
     "data": {
      "text/plain": [
       "'p'"
      ]
     },
     "execution_count": 72,
     "metadata": {},
     "output_type": "execute_result"
    }
   ],
   "source": [
    "a = \"java! python c++ fortran \"\n",
    "a[6]\n"
   ]
  },
  {
   "cell_type": "markdown",
   "metadata": {
    "heading_collapsed": "true",
    "tags": []
   },
   "source": [
    "### Q.2.3.1"
   ]
  },
  {
   "cell_type": "code",
   "execution_count": 73,
   "metadata": {},
   "outputs": [],
   "source": [
    "s = \"seehemewe\"\n"
   ]
  },
  {
   "cell_type": "code",
   "execution_count": 74,
   "metadata": {},
   "outputs": [
    {
     "data": {
      "text/plain": [
       "'wee'"
      ]
     },
     "execution_count": 74,
     "metadata": {},
     "output_type": "execute_result"
    }
   ],
   "source": [
    "s[-2:-9:-3]\n"
   ]
  },
  {
   "cell_type": "code",
   "execution_count": 75,
   "metadata": {},
   "outputs": [
    {
     "data": {
      "text/plain": [
       "False"
      ]
     },
     "execution_count": 75,
     "metadata": {},
     "output_type": "execute_result"
    }
   ],
   "source": [
    "s[:] == s[::-1]\n"
   ]
  },
  {
   "cell_type": "markdown",
   "metadata": {
    "heading_collapsed": "true",
    "tags": []
   },
   "source": [
    "### Q.2.3.2"
   ]
  },
  {
   "cell_type": "code",
   "execution_count": 76,
   "metadata": {},
   "outputs": [
    {
     "data": {
      "text/plain": [
       "'ewemehees'"
      ]
     },
     "execution_count": 76,
     "metadata": {},
     "output_type": "execute_result"
    }
   ],
   "source": [
    "s[::-1]\n"
   ]
  },
  {
   "cell_type": "markdown",
   "metadata": {
    "heading_collapsed": "true",
    "tags": []
   },
   "source": [
    "### Q.2.3.3"
   ]
  },
  {
   "cell_type": "code",
   "execution_count": 77,
   "metadata": {},
   "outputs": [],
   "source": [
    "days = \"Sun Mon Tues Weds Thurs Fri Sat\"\n"
   ]
  },
  {
   "cell_type": "code",
   "execution_count": 78,
   "metadata": {},
   "outputs": [
    {
     "name": "stdout",
     "output_type": "stream",
     "text": [
      "Mon Tues Weds Thurs Fri Sat\n"
     ]
    }
   ],
   "source": [
    "print(days[days.index(\"M\") :])\n"
   ]
  },
  {
   "cell_type": "code",
   "execution_count": 79,
   "metadata": {},
   "outputs": [
    {
     "name": "stdout",
     "output_type": "stream",
     "text": [
      "Mon Tues Weds Thurs Fri\n"
     ]
    }
   ],
   "source": [
    "print(days[days.index(\"M\") : days.index(\"Sa\")].rstrip())\n"
   ]
  },
  {
   "cell_type": "code",
   "execution_count": 80,
   "metadata": {},
   "outputs": [
    {
     "data": {
      "text/plain": [
       "'Mon Tues Weds Thurs Fri '"
      ]
     },
     "execution_count": 80,
     "metadata": {},
     "output_type": "execute_result"
    }
   ],
   "source": [
    "days[days.index(\"M\") : days.index(\"Sa\")]\n"
   ]
  },
  {
   "cell_type": "code",
   "execution_count": 81,
   "metadata": {},
   "outputs": [
    {
     "name": "stdout",
     "output_type": "stream",
     "text": [
      "nomnomnom\n"
     ]
    }
   ],
   "source": [
    "print(days[6:3:-1].lower() * 3)\n"
   ]
  },
  {
   "cell_type": "code",
   "execution_count": 82,
   "metadata": {},
   "outputs": [
    {
     "name": "stdout",
     "output_type": "stream",
     "text": [
      "SMTWTFS\n"
     ]
    }
   ],
   "source": [
    "print(days.replace(\"rs\", \"\").replace(\"s \", \" \")[::4])\n"
   ]
  },
  {
   "cell_type": "code",
   "execution_count": 83,
   "metadata": {},
   "outputs": [
    {
     "name": "stdout",
     "output_type": "stream",
     "text": [
      "Sun -*- Mon -*- Tues -*- Weds -*- Thurs -*- Fri -*- Sat\n"
     ]
    }
   ],
   "source": [
    "print(\" -*- \".join(days.split()))\n"
   ]
  },
  {
   "cell_type": "markdown",
   "metadata": {
    "heading_collapsed": "true",
    "tags": []
   },
   "source": [
    "### Q.2.3.4"
   ]
  },
  {
   "cell_type": "code",
   "execution_count": 84,
   "metadata": {},
   "outputs": [],
   "source": [
    "suff = \"thstndrdththththththth\"\n",
    "n = 1\n"
   ]
  },
  {
   "cell_type": "code",
   "execution_count": 85,
   "metadata": {},
   "outputs": [
    {
     "name": "stdout",
     "output_type": "stream",
     "text": [
      "1st\n"
     ]
    }
   ],
   "source": [
    "print(\"{:d}{:s}\".format(n, suff[n * 2 : n * 2 + 2]))\n"
   ]
  },
  {
   "cell_type": "code",
   "execution_count": 86,
   "metadata": {},
   "outputs": [
    {
     "name": "stdout",
     "output_type": "stream",
     "text": [
      "3rd\n"
     ]
    }
   ],
   "source": [
    "n = 3\n",
    "print(\"{:d}{:s}\".format(n, suff[n * 2 : n * 2 + 2]))\n"
   ]
  },
  {
   "cell_type": "code",
   "execution_count": 87,
   "metadata": {},
   "outputs": [
    {
     "name": "stdout",
     "output_type": "stream",
     "text": [
      "5th\n"
     ]
    }
   ],
   "source": [
    "n = 5\n",
    "print(\"{:d}{:s}\".format(n, suff[n * 2 : n * 2 + 2]))\n"
   ]
  },
  {
   "cell_type": "markdown",
   "metadata": {
    "heading_collapsed": "true",
    "tags": []
   },
   "source": [
    "### P.2.3.1"
   ]
  },
  {
   "cell_type": "code",
   "execution_count": 88,
   "metadata": {},
   "outputs": [
    {
     "data": {
      "text/plain": [
       "0.25"
      ]
     },
     "execution_count": 88,
     "metadata": {},
     "output_type": "execute_result"
    }
   ],
   "source": [
    "stra = \"TGGATCCA\"\n",
    "stra.count(\"G\") / len(stra)\n"
   ]
  },
  {
   "cell_type": "code",
   "execution_count": 89,
   "metadata": {},
   "outputs": [
    {
     "data": {
      "text/plain": [
       "{65: 84, 84: 65, 67: 71, 71: 67}"
      ]
     },
     "execution_count": 89,
     "metadata": {},
     "output_type": "execute_result"
    }
   ],
   "source": [
    "stra.maketrans(\"ATCG\", \"TAGC\")\n"
   ]
  },
  {
   "cell_type": "code",
   "execution_count": 90,
   "metadata": {},
   "outputs": [
    {
     "data": {
      "text/plain": [
       "'ACCTAGGT'"
      ]
     },
     "execution_count": 90,
     "metadata": {},
     "output_type": "execute_result"
    }
   ],
   "source": [
    "stra.translate(stra.maketrans(\"ATCG\", \"TAGC\"))\n"
   ]
  },
  {
   "cell_type": "markdown",
   "metadata": {
    "heading_collapsed": "true",
    "tags": []
   },
   "source": [
    "### P.2.3.2"
   ]
  },
  {
   "cell_type": "code",
   "execution_count": 91,
   "metadata": {},
   "outputs": [
    {
     "data": {
      "text/plain": [
       "'kb = 1.381e-23 J/K'"
      ]
     },
     "execution_count": 91,
     "metadata": {},
     "output_type": "execute_result"
    }
   ],
   "source": [
    "\"kb = {:.3e} J/K\".format(1.381e-23)\n"
   ]
  },
  {
   "cell_type": "code",
   "execution_count": 92,
   "metadata": {},
   "outputs": [
    {
     "data": {
      "text/plain": [
       "'G = 0.0000000000667430 Nm^2/kg^2'"
      ]
     },
     "execution_count": 92,
     "metadata": {},
     "output_type": "execute_result"
    }
   ],
   "source": [
    "\"G = {:.16f} Nm^2/kg^2\".format(0.0000000000667430)\n"
   ]
  },
  {
   "cell_type": "code",
   "execution_count": 93,
   "metadata": {},
   "outputs": [
    {
     "data": {
      "text/plain": [
       "'===     G =   -6.67E-11 [Nm^2/kg^2]   ==='"
      ]
     },
     "execution_count": 93,
     "metadata": {},
     "output_type": "execute_result"
    }
   ],
   "source": [
    "\"==={:>6} ={:+12.2E} [{:>9}]   ===\".format(\"G\", -6.67e-11, \"Nm^2/kg^2\")\n"
   ]
  },
  {
   "cell_type": "code",
   "execution_count": 94,
   "metadata": {},
   "outputs": [
    {
     "data": {
      "text/plain": [
       "'===    XG =   -6.67E-11 [      J/K]   ==='"
      ]
     },
     "execution_count": 94,
     "metadata": {},
     "output_type": "execute_result"
    }
   ],
   "source": [
    "\"==={:>6} ={:+12.2E} [{:>9}]   ===\".format(\"XG\", -6.67e-11, \"J/K\")\n"
   ]
  },
  {
   "cell_type": "markdown",
   "metadata": {
    "heading_collapsed": "true",
    "tags": []
   },
   "source": [
    "### P.2.3.3"
   ]
  },
  {
   "cell_type": "code",
   "execution_count": 95,
   "metadata": {},
   "outputs": [],
   "source": [
    "s_a = \"[ {:>7.1f} {:>7.1f} {:>7.1f} ]\\n[ {:>7.1f} {:>7.1f} {:>7.1f} ]\\n[ {:>7.1f} {:>7.1f} {:>7.1f} ]\".format(\n",
    "    100.0, 3.4, -1.2, -1.1, 0.5, -0.2, 2.3, -1.4, -0.7\n",
    ")\n"
   ]
  },
  {
   "cell_type": "code",
   "execution_count": 96,
   "metadata": {},
   "outputs": [
    {
     "name": "stdout",
     "output_type": "stream",
     "text": [
      "[   100.0     3.4    -1.2 ]\n",
      "[    -1.1     0.5    -0.2 ]\n",
      "[     2.3    -1.4    -0.7 ]\n"
     ]
    }
   ],
   "source": [
    "print(s_a)\n"
   ]
  },
  {
   "cell_type": "markdown",
   "metadata": {},
   "source": [
    "### P.2.3.4"
   ]
  },
  {
   "cell_type": "code",
   "execution_count": 97,
   "metadata": {},
   "outputs": [
    {
     "name": "stdout",
     "output_type": "stream",
     "text": [
      "☉♋\n"
     ]
    }
   ],
   "source": [
    "print(\"\\u2609\" \"\\u264B\")\n"
   ]
  },
  {
   "cell_type": "markdown",
   "metadata": {
    "heading_collapsed": "true",
    "tags": [],
    "toc-hr-collapsed": true
   },
   "source": [
    "## Python Objects"
   ]
  },
  {
   "cell_type": "markdown",
   "metadata": {
    "heading_collapsed": "true",
    "tags": []
   },
   "source": [
    "#### Lists"
   ]
  },
  {
   "cell_type": "code",
   "execution_count": 98,
   "metadata": {},
   "outputs": [],
   "source": [
    "list1 = [2, 4, -0.1, [1, \"two\", 3.14, 0], True]\n"
   ]
  },
  {
   "cell_type": "code",
   "execution_count": 99,
   "metadata": {},
   "outputs": [
    {
     "data": {
      "text/plain": [
       "'o'"
      ]
     },
     "execution_count": 99,
     "metadata": {},
     "output_type": "execute_result"
    }
   ],
   "source": [
    "list1[3][1][2]\n"
   ]
  },
  {
   "cell_type": "code",
   "execution_count": 100,
   "metadata": {},
   "outputs": [
    {
     "data": {
      "text/plain": [
       "True"
      ]
     },
     "execution_count": 100,
     "metadata": {},
     "output_type": "execute_result"
    }
   ],
   "source": [
    "1 in list1\n"
   ]
  },
  {
   "cell_type": "code",
   "execution_count": 101,
   "metadata": {},
   "outputs": [
    {
     "data": {
      "text/plain": [
       "[1, 2, 3]"
      ]
     },
     "execution_count": 101,
     "metadata": {},
     "output_type": "execute_result"
    }
   ],
   "source": [
    "a = 3\n",
    "q = [1, 2, a][:]\n",
    "a = 4\n",
    "q\n"
   ]
  },
  {
   "cell_type": "markdown",
   "metadata": {
    "heading_collapsed": "true",
    "tags": []
   },
   "source": [
    "#### Tuples"
   ]
  },
  {
   "cell_type": "code",
   "execution_count": 102,
   "metadata": {},
   "outputs": [
    {
     "data": {
      "text/plain": [
       "(1, 2, 3)"
      ]
     },
     "execution_count": 102,
     "metadata": {},
     "output_type": "execute_result"
    }
   ],
   "source": [
    "a = 3\n",
    "q = (1, 2, a)\n",
    "a = 4\n",
    "q\n"
   ]
  },
  {
   "cell_type": "code",
   "execution_count": 103,
   "metadata": {},
   "outputs": [
    {
     "data": {
      "text/plain": [
       "tuple"
      ]
     },
     "execution_count": 103,
     "metadata": {},
     "output_type": "execute_result"
    }
   ],
   "source": [
    "type(q)\n"
   ]
  },
  {
   "cell_type": "code",
   "execution_count": 104,
   "metadata": {},
   "outputs": [],
   "source": [
    "a, b, c = (1, 2, 3)\n"
   ]
  },
  {
   "cell_type": "code",
   "execution_count": 105,
   "metadata": {},
   "outputs": [],
   "source": [
    "a, b = b, a  # Value swapping\n"
   ]
  },
  {
   "cell_type": "code",
   "execution_count": 106,
   "metadata": {},
   "outputs": [
    {
     "data": {
      "text/plain": [
       "2"
      ]
     },
     "execution_count": 106,
     "metadata": {},
     "output_type": "execute_result"
    }
   ],
   "source": [
    "a\n"
   ]
  },
  {
   "cell_type": "code",
   "execution_count": 107,
   "metadata": {},
   "outputs": [
    {
     "data": {
      "text/plain": [
       "True"
      ]
     },
     "execution_count": 107,
     "metadata": {},
     "output_type": "execute_result"
    }
   ],
   "source": [
    "a = [1, 3, 4]\n",
    "b = a\n",
    "b is a\n"
   ]
  },
  {
   "cell_type": "code",
   "execution_count": 108,
   "metadata": {},
   "outputs": [
    {
     "data": {
      "text/plain": [
       "False"
      ]
     },
     "execution_count": 108,
     "metadata": {},
     "output_type": "execute_result"
    }
   ],
   "source": [
    "b = list(a)  # b = a[:]\n",
    "b is a\n"
   ]
  },
  {
   "cell_type": "code",
   "execution_count": 109,
   "metadata": {},
   "outputs": [
    {
     "data": {
      "text/plain": [
       "True"
      ]
     },
     "execution_count": 109,
     "metadata": {},
     "output_type": "execute_result"
    }
   ],
   "source": [
    "any(a)\n"
   ]
  },
  {
   "cell_type": "code",
   "execution_count": 110,
   "metadata": {},
   "outputs": [
    {
     "data": {
      "text/plain": [
       "True"
      ]
     },
     "execution_count": 110,
     "metadata": {},
     "output_type": "execute_result"
    }
   ],
   "source": [
    "all(a)\n"
   ]
  },
  {
   "cell_type": "code",
   "execution_count": 111,
   "metadata": {},
   "outputs": [],
   "source": [
    "b = [0, [], False]\n"
   ]
  },
  {
   "cell_type": "code",
   "execution_count": 112,
   "metadata": {},
   "outputs": [
    {
     "data": {
      "text/plain": [
       "False"
      ]
     },
     "execution_count": 112,
     "metadata": {},
     "output_type": "execute_result"
    }
   ],
   "source": [
    "any(b)\n"
   ]
  },
  {
   "cell_type": "code",
   "execution_count": 113,
   "metadata": {},
   "outputs": [
    {
     "data": {
      "text/plain": [
       "False"
      ]
     },
     "execution_count": 113,
     "metadata": {},
     "output_type": "execute_result"
    }
   ],
   "source": [
    "all(b)\n"
   ]
  },
  {
   "cell_type": "markdown",
   "metadata": {
    "heading_collapsed": "true",
    "tags": []
   },
   "source": [
    "#### Loops & range() & enumarate() & zip() & *"
   ]
  },
  {
   "cell_type": "code",
   "execution_count": 114,
   "metadata": {},
   "outputs": [
    {
     "data": {
      "text/plain": [
       "5.0"
      ]
     },
     "execution_count": 114,
     "metadata": {},
     "output_type": "execute_result"
    }
   ],
   "source": [
    "t = [3, 4]\n",
    "math.hypot(*t)  # unpacking in a function call\n"
   ]
  },
  {
   "cell_type": "code",
   "execution_count": 115,
   "metadata": {},
   "outputs": [
    {
     "name": "stdout",
     "output_type": "stream",
     "text": [
      "f.r.u.i.t."
     ]
    }
   ],
   "source": [
    "for letter in \"fruit\":\n",
    "    print(letter, end=\".\")\n"
   ]
  },
  {
   "cell_type": "code",
   "execution_count": 116,
   "metadata": {},
   "outputs": [
    {
     "data": {
      "text/plain": [
       "'olleh'"
      ]
     },
     "execution_count": 116,
     "metadata": {},
     "output_type": "execute_result"
    }
   ],
   "source": [
    "\"\".join(reversed(\"hello\"))\n"
   ]
  },
  {
   "cell_type": "code",
   "execution_count": 117,
   "metadata": {},
   "outputs": [
    {
     "data": {
      "text/plain": [
       "'olleh'"
      ]
     },
     "execution_count": 117,
     "metadata": {},
     "output_type": "execute_result"
    }
   ],
   "source": [
    "\"hello\"[::-1]\n"
   ]
  },
  {
   "cell_type": "code",
   "execution_count": 118,
   "metadata": {},
   "outputs": [
    {
     "data": {
      "text/plain": [
       "range"
      ]
     },
     "execution_count": 118,
     "metadata": {},
     "output_type": "execute_result"
    }
   ],
   "source": [
    "type(range(3))\n"
   ]
  },
  {
   "cell_type": "code",
   "execution_count": 119,
   "metadata": {},
   "outputs": [
    {
     "name": "stdout",
     "output_type": "stream",
     "text": [
      "3\n",
      "1\n",
      "-1\n",
      "-3\n",
      "-5\n",
      "-7\n",
      "-9\n"
     ]
    }
   ],
   "source": [
    "for i in range(3, -10, -2):\n",
    "    print(i)\n"
   ]
  },
  {
   "cell_type": "code",
   "execution_count": 120,
   "metadata": {},
   "outputs": [
    {
     "data": {
      "text/plain": [
       "[0, 1, 2, 3, 4]"
      ]
     },
     "execution_count": 120,
     "metadata": {},
     "output_type": "execute_result"
    }
   ],
   "source": [
    "list(range(5))  # [*range(5)]\n"
   ]
  },
  {
   "cell_type": "code",
   "execution_count": 121,
   "metadata": {},
   "outputs": [
    {
     "name": "stdout",
     "output_type": "stream",
     "text": [
      "[1, 1, 2, 3, 5, 8, 13, 21, 34, 55]\n"
     ]
    }
   ],
   "source": [
    "n = 10\n",
    "fib = [1, 1]\n",
    "for i in range(2, n):\n",
    "    fib.append(fib[i - 1] + fib[i - 2])\n",
    "print(fib)\n"
   ]
  },
  {
   "cell_type": "code",
   "execution_count": 122,
   "metadata": {},
   "outputs": [
    {
     "name": "stdout",
     "output_type": "stream",
     "text": [
      "218922995834555169026\n"
     ]
    }
   ],
   "source": [
    "n = 100\n",
    "a, b = 1, 1\n",
    "for i in range(2, n):\n",
    "    b, a = a, b + a\n",
    "print(b)\n"
   ]
  },
  {
   "cell_type": "code",
   "execution_count": 123,
   "metadata": {},
   "outputs": [
    {
     "name": "stdout",
     "output_type": "stream",
     "text": [
      "5  :  cat\n",
      "6  :  dog\n",
      "7  :  kangroo\n"
     ]
    }
   ],
   "source": [
    "mamals = [\"cat\", \"dog\", \"kangroo\"]\n",
    "for i, mamal in enumerate(mamals, 5):\n",
    "    print(i, \" : \", mamal)\n"
   ]
  },
  {
   "cell_type": "code",
   "execution_count": 124,
   "metadata": {},
   "outputs": [
    {
     "name": "stdout",
     "output_type": "stream",
     "text": [
      "(1, 2, 3)\n",
      "(5, 6, 7)\n"
     ]
    }
   ],
   "source": [
    "for i in zip(*zip([1, 2, 3], [5, 6, 7])):\n",
    "    print(i)\n"
   ]
  },
  {
   "cell_type": "markdown",
   "metadata": {
    "heading_collapsed": "true",
    "tags": []
   },
   "source": [
    "### Q.2.4.1"
   ]
  },
  {
   "cell_type": "code",
   "execution_count": 125,
   "metadata": {},
   "outputs": [
    {
     "name": "stdout",
     "output_type": "stream",
     "text": [
      "h-e-l-l-o\n",
      "4-10-2\n",
      "[4, 6, 8]\n"
     ]
    }
   ],
   "source": [
    "s = \"hello\"\n",
    "a = [4, 10, 2]\n",
    "print(*s, sep=(\"-\"))\n",
    "print(*a, sep=(\"-\"))\n",
    "print(list(range(*a)))\n"
   ]
  },
  {
   "cell_type": "markdown",
   "metadata": {
    "heading_collapsed": "true",
    "tags": []
   },
   "source": [
    "### Q.2.4.2"
   ]
  },
  {
   "cell_type": "code",
   "execution_count": 126,
   "metadata": {},
   "outputs": [
    {
     "data": {
      "text/plain": [
       "[5, 0, 6]"
      ]
     },
     "execution_count": 126,
     "metadata": {},
     "output_type": "execute_result"
    }
   ],
   "source": [
    "P = [4, 5, 0, 2]\n",
    "dPdx = []\n",
    "for i, c in enumerate(P[1:]):\n",
    "    dPdx.append(c * (i + 1))\n",
    "dPdx\n"
   ]
  },
  {
   "cell_type": "markdown",
   "metadata": {
    "heading_collapsed": "true",
    "tags": []
   },
   "source": [
    "### Q.2.4.3"
   ]
  },
  {
   "cell_type": "code",
   "execution_count": 127,
   "metadata": {},
   "outputs": [
    {
     "data": {
      "text/plain": [
       "[1, 2, 2, 4, 5, 5]"
      ]
     },
     "execution_count": 127,
     "metadata": {},
     "output_type": "execute_result"
    }
   ],
   "source": [
    "or_list = [87, 75, 75, 50, 32, 32]\n",
    "rank = []\n",
    "for x in or_list:\n",
    "    rank.append(or_list.index(x) + 1)\n",
    "rank\n"
   ]
  },
  {
   "cell_type": "code",
   "execution_count": 128,
   "metadata": {},
   "outputs": [
    {
     "data": {
      "text/plain": [
       "3.1415926535714034"
      ]
     },
     "execution_count": 128,
     "metadata": {},
     "output_type": "execute_result"
    }
   ],
   "source": [
    "sgn = -1\n",
    "summ = 1\n",
    "mult = 3\n",
    "for x in range(1, 20):\n",
    "    summ += sgn / (mult * (3 ** x))\n",
    "    sgn *= -1\n",
    "    mult += 2\n",
    "summ *= 12 ** (0.5)\n",
    "summ\n"
   ]
  },
  {
   "cell_type": "markdown",
   "metadata": {
    "heading_collapsed": "true",
    "tags": []
   },
   "source": [
    "### Q.2.4.5"
   ]
  },
  {
   "cell_type": "code",
   "execution_count": 129,
   "metadata": {},
   "outputs": [
    {
     "data": {
      "text/plain": [
       "('Aug',\n",
       " 'Jul',\n",
       " 'Jun',\n",
       " 'May',\n",
       " 'Apr',\n",
       " 'Sep',\n",
       " 'Oct',\n",
       " 'Mar',\n",
       " 'Feb',\n",
       " 'Nov',\n",
       " 'Dec',\n",
       " 'Jan')"
      ]
     },
     "execution_count": 129,
     "metadata": {},
     "output_type": "execute_result"
    }
   ],
   "source": [
    "any(range(-3, 1))\n",
    "all(range(1, 10))\n",
    "\n",
    "mt = [\n",
    "    \"Jan\",\n",
    "    \"Feb\",\n",
    "    \"Mar\",\n",
    "    \"Apr\",\n",
    "    \"May\",\n",
    "    \"Jun\",\n",
    "    \"Jul\",\n",
    "    \"Aug\",\n",
    "    \"Sep\",\n",
    "    \"Oct\",\n",
    "    \"Nov\",\n",
    "    \"Dec\",\n",
    "]\n",
    "sun_shine = [\n",
    "    44.7,\n",
    "    65.4,\n",
    "    101.7,\n",
    "    148.3,\n",
    "    170.9,\n",
    "    171.4,\n",
    "    176.7,\n",
    "    186.1,\n",
    "    133.9,\n",
    "    105.4,\n",
    "    59.6,\n",
    "    45.8,\n",
    "]\n",
    "\n",
    "a, b = zip(*sorted(zip(sun_shine, mt)))\n",
    "b[::-1]\n"
   ]
  },
  {
   "cell_type": "markdown",
   "metadata": {
    "heading_collapsed": "true",
    "tags": []
   },
   "source": [
    "### P.2.4.1"
   ]
  },
  {
   "cell_type": "code",
   "execution_count": 130,
   "metadata": {},
   "outputs": [
    {
     "data": {
      "text/plain": [
       "[30, 150, 100, 60]"
      ]
     },
     "execution_count": 130,
     "metadata": {},
     "output_type": "execute_result"
    }
   ],
   "source": [
    "a = [10, 2, 3, 5]\n",
    "b = []\n",
    "prod = 1\n",
    "for i in a:\n",
    "    prod *= i\n",
    "for i in a:\n",
    "    b.append(int(prod / i))\n",
    "\n",
    "b\n"
   ]
  },
  {
   "cell_type": "markdown",
   "metadata": {
    "heading_collapsed": "true",
    "tags": []
   },
   "source": [
    "### P.2.4.2"
   ]
  },
  {
   "cell_type": "code",
   "execution_count": 131,
   "metadata": {},
   "outputs": [
    {
     "data": {
      "text/plain": [
       "3"
      ]
     },
     "execution_count": 131,
     "metadata": {},
     "output_type": "execute_result"
    }
   ],
   "source": [
    "string_a = \"qasbd\"\n",
    "string_b = \"fasra\"\n",
    "count = 0\n",
    "for i in string_a:\n",
    "    count += i != string_b[string_a.index(i)]\n",
    "count\n"
   ]
  },
  {
   "cell_type": "markdown",
   "metadata": {
    "heading_collapsed": "true",
    "tags": []
   },
   "source": [
    "### P.2.4.3"
   ]
  },
  {
   "cell_type": "code",
   "execution_count": 132,
   "metadata": {},
   "outputs": [
    {
     "data": {
      "text/plain": [
       "48"
      ]
     },
     "execution_count": 132,
     "metadata": {},
     "output_type": "execute_result"
    }
   ],
   "source": [
    "ord(\"0\")\n"
   ]
  },
  {
   "cell_type": "code",
   "execution_count": 133,
   "metadata": {},
   "outputs": [
    {
     "data": {
      "text/plain": [
       "'three point one four one five '"
      ]
     },
     "execution_count": 133,
     "metadata": {},
     "output_type": "execute_result"
    }
   ],
   "source": [
    "numbers = (\"point\", \"\", \"zero\", \"one\", \"two\", \"three\", \"four\", \"five\")\n",
    "pi = \"3.1415\"\n",
    "final_str = \"\"\n",
    "for i in pi:\n",
    "    final_str += numbers[ord(i) - 46] + \" \"\n",
    "final_str\n"
   ]
  },
  {
   "cell_type": "markdown",
   "metadata": {
    "heading_collapsed": "true",
    "tags": []
   },
   "source": [
    "### P.2.4.4"
   ]
  },
  {
   "cell_type": "code",
   "execution_count": 134,
   "metadata": {},
   "outputs": [
    {
     "name": "stdout",
     "output_type": "stream",
     "text": [
      "===============================================[1]================================================\n",
      "==============================================[1, 1]==============================================\n",
      "============================================[1, 2, 1]=============================================\n",
      "===========================================[1, 3, 3, 1]===========================================\n",
      "=========================================[1, 4, 6, 4, 1]==========================================\n",
      "=======================================[1, 5, 10, 10, 5, 1]=======================================\n",
      "=====================================[1, 6, 15, 20, 15, 6, 1]=====================================\n",
      "===================================[1, 7, 21, 35, 35, 21, 7, 1]===================================\n",
      "=================================[1, 8, 28, 56, 70, 56, 28, 8, 1]=================================\n",
      "==============================[1, 9, 36, 84, 126, 126, 84, 36, 9, 1]==============================\n",
      "=========================[1, 10, 45, 120, 210, 252, 210, 120, 45, 10, 1]==========================\n",
      "=======================[1, 11, 55, 165, 330, 462, 462, 330, 165, 55, 11, 1]=======================\n",
      "====================[1, 12, 66, 220, 495, 792, 924, 792, 495, 220, 66, 12, 1]=====================\n",
      "================[1, 13, 78, 286, 715, 1287, 1716, 1716, 1287, 715, 286, 78, 13, 1]================\n",
      "============[1, 14, 91, 364, 1001, 2002, 3003, 3432, 3003, 2002, 1001, 364, 91, 14, 1]============\n",
      "========[1, 15, 105, 455, 1365, 3003, 5005, 6435, 6435, 5005, 3003, 1365, 455, 105, 15, 1]========\n",
      "===[1, 16, 120, 560, 1820, 4368, 8008, 11440, 12870, 11440, 8008, 4368, 1820, 560, 120, 16, 1]====\n",
      "[1, 17, 136, 680, 2380, 6188, 12376, 19448, 24310, 24310, 19448, 12376, 6188, 2380, 680, 136, 17, 1]\n"
     ]
    }
   ],
   "source": [
    "depth = 18\n",
    "pyrd = [[1], [1, 1]]\n",
    "print(f\"{repr(pyrd[0]):=^98}\")\n",
    "print(f\"{repr(pyrd[1]):=^98}\")\n",
    "for i in range(2, depth):\n",
    "    new = [1]\n",
    "    prev = pyrd[-1]\n",
    "    for ii in range(1, (len(prev))):\n",
    "        new.append(prev[ii] + prev[ii - 1])\n",
    "    new.append(1)\n",
    "    pyrd.append(new)\n",
    "    print(f\"{repr(new):=^98}\")\n"
   ]
  },
  {
   "cell_type": "markdown",
   "metadata": {
    "heading_collapsed": "true",
    "tags": []
   },
   "source": [
    "### P.2.4.5"
   ]
  },
  {
   "cell_type": "code",
   "execution_count": 135,
   "metadata": {},
   "outputs": [
    {
     "data": {
      "text/plain": [
       "['AGT', 'CTT', 'ATA', 'TCT']"
      ]
     },
     "execution_count": 135,
     "metadata": {},
     "output_type": "execute_result"
    }
   ],
   "source": [
    "seq = \"AGTCTTATATCT\"\n",
    "frame = 0\n",
    "list_of_strings = []\n",
    "\n",
    "for i in range(frame, (len(seq) - 2), 3):\n",
    "    list_of_strings.append(seq[i : i + 3])\n",
    "list_of_strings\n"
   ]
  },
  {
   "cell_type": "markdown",
   "metadata": {
    "heading_collapsed": "true",
    "tags": []
   },
   "source": [
    "### P.2.4.6"
   ]
  },
  {
   "cell_type": "code",
   "execution_count": 136,
   "metadata": {},
   "outputs": [
    {
     "data": {
      "text/plain": [
       "1307674368000"
      ]
     },
     "execution_count": 136,
     "metadata": {},
     "output_type": "execute_result"
    }
   ],
   "source": [
    "n = 15\n",
    "fact = 1\n",
    "\n",
    "for i in range(2, n + 1):\n",
    "    # print(i)\n",
    "    fact *= i\n",
    "fact\n"
   ]
  },
  {
   "cell_type": "code",
   "execution_count": 137,
   "metadata": {},
   "outputs": [
    {
     "data": {
      "text/plain": [
       "1307674368000"
      ]
     },
     "execution_count": 137,
     "metadata": {},
     "output_type": "execute_result"
    }
   ],
   "source": [
    "math.factorial(15)\n"
   ]
  },
  {
   "cell_type": "markdown",
   "metadata": {
    "tags": []
   },
   "source": [
    "## Control Flow"
   ]
  },
  {
   "cell_type": "code",
   "execution_count": 138,
   "metadata": {},
   "outputs": [
    {
     "name": "stdout",
     "output_type": "stream",
     "text": [
      "Unknown command: X\n",
      "Path crosses itself at: (1, 0)\n",
      " *****\n",
      " *   *\n",
      " *   *\n",
      "******\n",
      " *    \n",
      " *    \n",
      " *    \n",
      " *    \n"
     ]
    }
   ],
   "source": [
    "commands = \"FFFFFLFFFLFFFFRRRFXFFFFFFS\"\n",
    "\n",
    "# Current location, current facing direction\n",
    "x, y = 0, 0\n",
    "dx, dy = 1, 0\n",
    "# Keep track of the turtle's location in the list of tuples, locs\n",
    "locs = [(0, 0)]\n",
    "\n",
    "for cmd in commands:\n",
    "    if cmd == \"S\":\n",
    "        # Stop command\n",
    "        break\n",
    "    if cmd == \"F\":\n",
    "        # Move forward in the current direction\n",
    "        x += dx\n",
    "        y += dy\n",
    "        if (x, y) in locs:\n",
    "            print(\"Path crosses itself at: ({}, {})\".format(x, y))\n",
    "        locs.append((x, y))\n",
    "        continue\n",
    "    if cmd == \"L\":\n",
    "        # Turn to the left (counterclockwise).\n",
    "        # L => (dx, dy): (1,0) -> (0, 1) -> (-1,0) -> (0,-1) -> (1,0)\n",
    "        dx, dy = -dy, dx\n",
    "        continue\n",
    "    if cmd == \"R\":\n",
    "        # Turn to the right (clockwise).\n",
    "        # R => (dx, dy): (1,0) -> (0,-1) -> (-1,0) -> (0, 1) -> (1,0)\n",
    "        dx, dy = dy, -dx\n",
    "        continue\n",
    "    # if we're here it's because we don't recognise the command: warn\n",
    "    print(\"Unknown command:\", cmd)\n",
    "else:\n",
    "    # We exhausted the commands without encountering an S for STOP\n",
    "    print(\"Instructions ended without a STOP\")\n",
    "\n",
    "# Plot a path of asterisks\n",
    "# First find the total range of x and y values encountered\n",
    "x, y = zip(*locs)\n",
    "xmin, xmax = min(x), max(x)\n",
    "ymin, ymax = min(y), max(y)\n",
    "# The grid size needed for the plot is (nx, ny)\n",
    "nx = xmax - xmin + 1\n",
    "ny = ymax - ymin + 1\n",
    "# Reverse the y-axis so that it decreases *down* the screen\n",
    "for iy in reversed(range(ny)):\n",
    "    for ix in range(nx):\n",
    "        if (ix + xmin, iy + ymin) in locs:\n",
    "            print(\"*\", end=\"\")\n",
    "        else:\n",
    "            print(\" \", end=\"\")\n",
    "    print()\n"
   ]
  },
  {
   "cell_type": "markdown",
   "metadata": {},
   "source": [
    "### Q.2.5.1"
   ]
  },
  {
   "cell_type": "code",
   "execution_count": 139,
   "metadata": {},
   "outputs": [
    {
     "data": {
      "text/plain": [
       "[0.06896551724137931,\n",
       " 0.0,\n",
       " 1.0,\n",
       " 0.017241379310344827,\n",
       " 0.3793103448275862,\n",
       " 0.3275862068965517]"
      ]
     },
     "execution_count": 139,
     "metadata": {},
     "output_type": "execute_result"
    }
   ],
   "source": [
    "list_a = [12, 4, 120, 6, 48, 42]\n",
    "range_l = max(list_a) - min(list_a)\n",
    "list_a = [(x - min(list_a)) / range_l for x in list_a]\n",
    "# print(list_a)\n",
    "# list_b = [x - min(list_a) for x in list_a]\n",
    "list_a\n"
   ]
  },
  {
   "cell_type": "markdown",
   "metadata": {},
   "source": [
    "### Q.2.5.2"
   ]
  },
  {
   "cell_type": "code",
   "execution_count": 140,
   "metadata": {},
   "outputs": [
    {
     "name": "stdout",
     "output_type": "stream",
     "text": [
      "1.2071067811865475   1.189207115002721\n",
      "1.1981569480946344   1.19812352149312\n",
      "1.1981402347938772   1.1981402346773073\n",
      "1.1981402347355923   1.1981402347355923\n"
     ]
    }
   ],
   "source": [
    "a, b = (1, 2 ** 0.5)\n",
    "while abs(a - b) > 1.0e-14:\n",
    "    a, b = (1 / 2 * (a + b), (a * b) ** 0.5)\n",
    "    print(a, \" \", b)\n"
   ]
  },
  {
   "cell_type": "code",
   "execution_count": 141,
   "metadata": {},
   "outputs": [
    {
     "data": {
      "text/plain": [
       "0.8346268416740731"
      ]
     },
     "execution_count": 141,
     "metadata": {},
     "output_type": "execute_result"
    }
   ],
   "source": [
    "1 / a\n"
   ]
  },
  {
   "cell_type": "markdown",
   "metadata": {},
   "source": [
    "### Q.2.5.3"
   ]
  },
  {
   "cell_type": "code",
   "execution_count": 142,
   "metadata": {
    "scrolled": true,
    "tags": []
   },
   "outputs": [
    {
     "name": "stdout",
     "output_type": "stream",
     "text": [
      "1,\n",
      "2,\n",
      "3, fizz\n",
      "4,\n",
      "5, buzz\n",
      "6, fizz\n",
      "7,\n",
      "8,\n",
      "9, fizz\n",
      "10, buzz\n",
      "11,\n",
      "12, fizz\n",
      "13,\n",
      "14,\n",
      "15, fizz\n",
      "16,\n",
      "17,\n",
      "18, fizz\n",
      "19,\n",
      "20, buzz\n",
      "21, fizz\n",
      "22,\n",
      "23,\n",
      "24, fizz\n",
      "25, buzz\n",
      "26,\n",
      "27, fizz\n",
      "28,\n",
      "29,\n",
      "30, fizz\n",
      "31,\n",
      "32,\n",
      "33, fizz\n",
      "34,\n",
      "35, buzz\n",
      "36, fizz\n",
      "37,\n",
      "38,\n",
      "39, fizz\n",
      "40, buzz\n",
      "41,\n",
      "42, fizz\n",
      "43,\n",
      "44,\n",
      "45, fizz\n",
      "46,\n",
      "47,\n",
      "48, fizz\n",
      "49,\n",
      "50, buzz\n",
      "51, fizz\n",
      "52,\n",
      "53,\n",
      "54, fizz\n",
      "55, buzz\n",
      "56,\n",
      "57, fizz\n",
      "58,\n",
      "59,\n",
      "60, fizz\n",
      "61,\n",
      "62,\n",
      "63, fizz\n",
      "64,\n",
      "65, buzz\n",
      "66, fizz\n",
      "67,\n",
      "68,\n",
      "69, fizz\n",
      "70, buzz\n",
      "71,\n",
      "72, fizz\n",
      "73,\n",
      "74,\n",
      "75, fizz\n",
      "76,\n",
      "77,\n",
      "78, fizz\n",
      "79,\n",
      "80, buzz\n",
      "81, fizz\n",
      "82,\n",
      "83,\n",
      "84, fizz\n",
      "85, buzz\n",
      "86,\n",
      "87, fizz\n",
      "88,\n",
      "89,\n",
      "90, fizz\n",
      "91,\n",
      "92,\n",
      "93, fizz\n",
      "94,\n",
      "95, buzz\n",
      "96, fizz\n",
      "97,\n",
      "98,\n",
      "99, fizz\n",
      "100, buzz\n"
     ]
    }
   ],
   "source": [
    "for i in range(1, 101):\n",
    "    if not (i % 5) and not (i % 3):\n",
    "        print(\"{}, fizz\".format(i))\n",
    "        continue\n",
    "    elif not (i % 5):\n",
    "        print(\"{}, buzz\".format(i))\n",
    "    elif not (i % 3):\n",
    "        print(\"{}, fizz\".format(i))\n",
    "    else:\n",
    "        print(\"{},\".format(i))\n"
   ]
  },
  {
   "cell_type": "code",
   "execution_count": 143,
   "metadata": {},
   "outputs": [
    {
     "name": "stdout",
     "output_type": "stream",
     "text": [
      "H3C-CH2-CH2-CH2-CH2-CH2-CH2--CH3\n"
     ]
    }
   ],
   "source": [
    "alkane = \"C8H18\"\n",
    "c, b = alkane.strip(\"C\").split(\"H\")\n",
    "if int(b) != 2 * int(c) + 2:\n",
    "    print(\"***\")\n",
    "else:\n",
    "    print(\"{}-{}-{}\".format(\"H3C\", (int(c) - 2) * \"CH2-\", \"CH3\"))\n"
   ]
  },
  {
   "cell_type": "markdown",
   "metadata": {},
   "source": [
    "### P.2.5.2"
   ]
  },
  {
   "cell_type": "code",
   "execution_count": 144,
   "metadata": {},
   "outputs": [],
   "source": [
    "h = 0\n",
    "# h1 = 0\n",
    "c = 0.01\n",
    "ka = 1.78e-5\n",
    "tol = 1.2e-10\n",
    "tol_new = 10000\n"
   ]
  },
  {
   "cell_type": "code",
   "execution_count": 145,
   "metadata": {
    "tags": []
   },
   "outputs": [
    {
     "name": "stdout",
     "output_type": "stream",
     "text": [
      "0.0004219004621945797\n",
      "0.00041290455528237576\n",
      "0.0004130984131123886\n",
      "0.0004130942365206751\n",
      "0.00041309432650416775\n"
     ]
    }
   ],
   "source": [
    "while tol_new > tol:\n",
    "    h1 = math.sqrt(ka * (c - h))\n",
    "    tol_new = abs(h1 - h)\n",
    "    h = h1\n",
    "    print(h1)\n"
   ]
  },
  {
   "cell_type": "markdown",
   "metadata": {},
   "source": [
    "### P.2.5.4"
   ]
  },
  {
   "cell_type": "code",
   "execution_count": 146,
   "metadata": {},
   "outputs": [
    {
     "name": "stdout",
     "output_type": "stream",
     "text": [
      "2726317893729974\n",
      "90 0\n"
     ]
    }
   ],
   "source": [
    "card_number = \"4799 2739 8713 6272\"\n",
    "card_number = card_number.replace(\" \", \"\")[::-1]\n",
    "sum_number = 0\n",
    "print(card_number)\n",
    "for i in range(0, len(card_number)):\n",
    "\n",
    "    if not ((i + 1) % 2):\n",
    "        new_number = 2 * int(card_number[i])\n",
    "        sum_number += new_number // 10 + new_number % 10\n",
    "    else:\n",
    "        sum_number += int(card_number[i])\n",
    "\n",
    "#     sum_number += new_number\n",
    "#     print(card_number[i], new_number // 10 + new_number % 10)\n",
    "print(sum_number, sum_number % 10)\n"
   ]
  },
  {
   "cell_type": "markdown",
   "metadata": {},
   "source": [
    "### P.2.5.4"
   ]
  },
  {
   "cell_type": "code",
   "execution_count": 147,
   "metadata": {},
   "outputs": [
    {
     "data": {
      "text/plain": [
       "1455.1700003779627"
      ]
     },
     "execution_count": 147,
     "metadata": {},
     "output_type": "execute_result"
    }
   ],
   "source": [
    "math.sqrt(2117519.73)\n"
   ]
  },
  {
   "cell_type": "code",
   "execution_count": 148,
   "metadata": {},
   "outputs": [
    {
     "name": "stdout",
     "output_type": "stream",
     "text": [
      "1529.3799325\n",
      "1456.9704405133825\n",
      "1455.1711128180614\n",
      "1455.170000378388\n"
     ]
    }
   ],
   "source": [
    "s = 2117519.73\n",
    "s0 = 2000\n",
    "diff = 1000\n",
    "while diff > 0.009:\n",
    "    s_next = 0.5 * (s0 + s / s0)\n",
    "    diff = abs(s0 - s_next)\n",
    "    s0 = s_next\n",
    "    print(s_next)\n"
   ]
  },
  {
   "cell_type": "markdown",
   "metadata": {},
   "source": [
    "### P.2.5.7"
   ]
  },
  {
   "cell_type": "code",
   "execution_count": 149,
   "metadata": {
    "scrolled": true,
    "tags": []
   },
   "outputs": [
    {
     "name": "stdout",
     "output_type": "stream",
     "text": [
      "82\n",
      "41.0\n",
      "124.0\n",
      "62.0\n",
      "31.0\n",
      "94.0\n",
      "47.0\n",
      "142.0\n",
      "71.0\n",
      "214.0\n",
      "107.0\n",
      "322.0\n",
      "161.0\n",
      "484.0\n",
      "242.0\n",
      "121.0\n",
      "364.0\n",
      "182.0\n",
      "91.0\n",
      "274.0\n",
      "137.0\n",
      "412.0\n",
      "206.0\n",
      "103.0\n",
      "310.0\n",
      "155.0\n",
      "466.0\n",
      "233.0\n",
      "700.0\n",
      "350.0\n",
      "175.0\n",
      "526.0\n",
      "263.0\n",
      "790.0\n",
      "395.0\n",
      "1186.0\n",
      "593.0\n",
      "1780.0\n",
      "890.0\n",
      "445.0\n",
      "1336.0\n",
      "668.0\n",
      "334.0\n",
      "167.0\n",
      "502.0\n",
      "251.0\n",
      "754.0\n",
      "377.0\n",
      "1132.0\n",
      "566.0\n",
      "283.0\n",
      "850.0\n",
      "425.0\n",
      "1276.0\n",
      "638.0\n",
      "319.0\n",
      "958.0\n",
      "479.0\n",
      "1438.0\n",
      "719.0\n",
      "2158.0\n",
      "1079.0\n",
      "3238.0\n",
      "1619.0\n",
      "4858.0\n",
      "2429.0\n",
      "7288.0\n",
      "3644.0\n",
      "1822.0\n",
      "911.0\n",
      "2734.0\n",
      "1367.0\n",
      "4102.0\n",
      "2051.0\n",
      "6154.0\n",
      "3077.0\n",
      "9232.0\n",
      "4616.0\n",
      "2308.0\n",
      "1154.0\n",
      "577.0\n",
      "1732.0\n",
      "866.0\n",
      "433.0\n",
      "1300.0\n",
      "650.0\n",
      "325.0\n",
      "976.0\n",
      "488.0\n",
      "244.0\n",
      "122.0\n",
      "61.0\n",
      "184.0\n",
      "92.0\n",
      "46.0\n",
      "23.0\n",
      "70.0\n",
      "35.0\n",
      "106.0\n",
      "53.0\n",
      "160.0\n",
      "80.0\n",
      "40.0\n",
      "20.0\n",
      "10.0\n",
      "5.0\n",
      "16.0\n",
      "8.0\n",
      "4.0\n",
      "2.0\n",
      "1.0\n",
      "111\n"
     ]
    }
   ],
   "source": [
    "n = 27\n",
    "count = 0\n",
    "while n != 1:\n",
    "    if n % 2:\n",
    "        n = 3 * n + 1\n",
    "    else:\n",
    "        n = n / 2\n",
    "    count += 1\n",
    "    print(n)\n",
    "print(count)\n"
   ]
  },
  {
   "cell_type": "markdown",
   "metadata": {
    "tags": []
   },
   "source": [
    "### P.2.5.8 "
   ]
  },
  {
   "cell_type": "code",
   "execution_count": 150,
   "metadata": {},
   "outputs": [
    {
     "name": "stdout",
     "output_type": "stream",
     "text": [
      "169\n"
     ]
    }
   ],
   "source": [
    "# %%timeit\n",
    "p = 2\n",
    "n = 1010\n",
    "full_list = list(range(2, n + 1))\n",
    "full_list_copy = full_list[:]\n",
    "count = 0\n",
    "\n",
    "while count < len(full_list) - 1:\n",
    "\n",
    "    for x in full_list:\n",
    "        if not (x % p) and not (x == p):\n",
    "            full_list_copy.remove(x)\n",
    "\n",
    "    full_list = full_list_copy[:]\n",
    "    count += 1\n",
    "    p = full_list[count]\n",
    "\n",
    "print(len(full_list))\n"
   ]
  },
  {
   "cell_type": "markdown",
   "metadata": {},
   "source": [
    "### P.2.5.9"
   ]
  },
  {
   "cell_type": "code",
   "execution_count": 151,
   "metadata": {},
   "outputs": [
    {
     "name": "stdout",
     "output_type": "stream",
     "text": [
      "21\n"
     ]
    }
   ],
   "source": [
    "# GCD\n",
    "a, b = 1071, 462\n",
    "while b:\n",
    "    a, b = b, a % b\n",
    "print(a)\n"
   ]
  },
  {
   "cell_type": "code",
   "execution_count": 152,
   "metadata": {
    "scrolled": true,
    "tags": []
   },
   "outputs": [
    {
     "name": "stdout",
     "output_type": "stream",
     "text": [
      "1 -> 0\n",
      "2 -> 1\n",
      "3 -> 2\n",
      "4 -> 2\n",
      "5 -> 4\n",
      "6 -> 2\n",
      "7 -> 6\n",
      "8 -> 4\n",
      "9 -> 6\n",
      "10 -> 4\n",
      "11 -> 10\n",
      "12 -> 4\n",
      "13 -> 12\n",
      "14 -> 6\n",
      "15 -> 8\n",
      "16 -> 8\n",
      "17 -> 16\n",
      "18 -> 6\n",
      "19 -> 18\n",
      "20 -> 8\n",
      "21 -> 12\n",
      "22 -> 10\n",
      "23 -> 22\n",
      "24 -> 8\n",
      "25 -> 20\n",
      "26 -> 12\n",
      "27 -> 18\n",
      "28 -> 12\n",
      "29 -> 28\n",
      "30 -> 8\n",
      "31 -> 30\n",
      "32 -> 16\n",
      "33 -> 20\n",
      "34 -> 16\n",
      "35 -> 24\n",
      "36 -> 12\n",
      "37 -> 36\n",
      "38 -> 18\n",
      "39 -> 24\n",
      "40 -> 16\n",
      "41 -> 40\n",
      "42 -> 12\n",
      "43 -> 42\n",
      "44 -> 20\n",
      "45 -> 24\n",
      "46 -> 22\n",
      "47 -> 46\n",
      "48 -> 16\n",
      "49 -> 42\n",
      "50 -> 20\n",
      "51 -> 32\n",
      "52 -> 24\n",
      "53 -> 52\n",
      "54 -> 18\n",
      "55 -> 40\n",
      "56 -> 24\n",
      "57 -> 36\n",
      "58 -> 28\n",
      "59 -> 58\n",
      "60 -> 16\n",
      "61 -> 60\n",
      "62 -> 30\n",
      "63 -> 36\n",
      "64 -> 32\n",
      "65 -> 48\n",
      "66 -> 20\n",
      "67 -> 66\n",
      "68 -> 32\n",
      "69 -> 44\n",
      "70 -> 24\n",
      "71 -> 70\n",
      "72 -> 24\n",
      "73 -> 72\n",
      "74 -> 36\n",
      "75 -> 40\n",
      "76 -> 36\n",
      "77 -> 60\n",
      "78 -> 24\n",
      "79 -> 78\n",
      "80 -> 32\n",
      "81 -> 54\n",
      "82 -> 40\n",
      "83 -> 82\n",
      "84 -> 24\n",
      "85 -> 64\n",
      "86 -> 42\n",
      "87 -> 56\n",
      "88 -> 40\n",
      "89 -> 88\n",
      "90 -> 24\n",
      "91 -> 72\n",
      "92 -> 44\n",
      "93 -> 60\n",
      "94 -> 46\n",
      "95 -> 72\n",
      "96 -> 32\n",
      "97 -> 96\n",
      "98 -> 42\n",
      "99 -> 60\n",
      "100 -> 40\n"
     ]
    }
   ],
   "source": [
    "# Euler’s totient function,\n",
    "(n)\n",
    "n = 100\n",
    "for j in range(1, n + 1):\n",
    "    count = 0\n",
    "    for i in range(1, j):\n",
    "        a, b = j, i\n",
    "        while b:\n",
    "            a, b = b, a % b\n",
    "        if a == 1:\n",
    "            count += 1\n",
    "    print(j, \"->\", count)\n"
   ]
  },
  {
   "cell_type": "markdown",
   "metadata": {},
   "source": [
    "### P.2.5.10"
   ]
  },
  {
   "cell_type": "code",
   "execution_count": 153,
   "metadata": {},
   "outputs": [],
   "source": [
    "import random\n"
   ]
  },
  {
   "cell_type": "code",
   "execution_count": 154,
   "metadata": {},
   "outputs": [
    {
     "name": "stdout",
     "output_type": "stream",
     "text": [
      "pi =  3.141664\n"
     ]
    }
   ],
   "source": [
    "# Estimate pi\n",
    "n = 1000000\n",
    "count_circle = 0\n",
    "for i in range(n):\n",
    "    x, y = random.uniform(0, 1), random.uniform(0, 1)\n",
    "    if (y ** 2 + x ** 2) <= 1:\n",
    "        count_circle += 1\n",
    "print(\"pi = \", 4 * count_circle / n)\n"
   ]
  },
  {
   "cell_type": "markdown",
   "metadata": {},
   "source": [
    "### P.2.5.11"
   ]
  },
  {
   "cell_type": "code",
   "execution_count": 155,
   "metadata": {},
   "outputs": [],
   "source": [
    "import random\n",
    "\n",
    "text1 = \"Four score and seven years ago our fathers brought forth on this continent a new nation, conceived in liberty,\\\n",
    " and dedicated to the proposition that all men are created equal.\"\n"
   ]
  },
  {
   "cell_type": "code",
   "execution_count": 156,
   "metadata": {
    "tags": []
   },
   "outputs": [
    {
     "data": {
      "text/plain": [
       "'Four socre and seven yaers ago our fareths brouhgt forth on this cnnieotnt aa new nation, coineecvd in lteriby, and dtiaecedd to the psoptiiroon that all men are certead eqaul.'"
      ]
     },
     "execution_count": 156,
     "metadata": {},
     "output_type": "execute_result"
    }
   ],
   "source": [
    "# text1 = \"Four score and seven years, ago\"\n",
    "text2 = \"\"\n",
    "for string in text1.split():\n",
    "\n",
    "    end_string = \"\"\n",
    "    if not (string.isalpha()):\n",
    "        end_string = string[-1]\n",
    "        string = string[:-1]\n",
    "\n",
    "    str_list = list(string.strip())\n",
    "    strip_str_list = str_list[1:-1]\n",
    "    random.shuffle(strip_str_list)\n",
    "    string = str_list[0] + \"\".join(x for x in strip_str_list) + str_list[-1]\n",
    "    text2 += string + end_string + \" \"\n",
    "\n",
    "text2.strip()\n"
   ]
  },
  {
   "cell_type": "markdown",
   "metadata": {},
   "source": [
    "### P.2.5.12"
   ]
  },
  {
   "cell_type": "markdown",
   "metadata": {},
   "source": [
    "## File Input/Output"
   ]
  },
  {
   "cell_type": "code",
   "execution_count": 157,
   "metadata": {},
   "outputs": [],
   "source": [
    "f = open(\"examp1.txt\", \"w\")\n",
    "f.write(\"hello World\")\n",
    "for i in range(0, 100):\n",
    "    print(i, file=f)\n",
    "f.close()\n"
   ]
  },
  {
   "cell_type": "markdown",
   "metadata": {},
   "source": [
    "### P.2.6.1"
   ]
  },
  {
   "cell_type": "code",
   "execution_count": 158,
   "metadata": {},
   "outputs": [
    {
     "name": "stdout",
     "output_type": "stream",
     "text": [
      "Max Heiht:  115.61 Tree Name:  Hyperion\n"
     ]
    }
   ],
   "source": [
    "tree_name, location, diameter, height = [], [], [], []\n",
    "f = open(\"redwood-data.txt\", \"r\")\n",
    "lines = f.readlines()\n",
    "lines = lines[2:]\n",
    "\n",
    "for line in lines:\n",
    "    per_line = line[:-1].split(\"\\t\")\n",
    "    tree_name.append(per_line[0])\n",
    "    location.append(per_line[1])\n",
    "    diameter.append(float(per_line[2]))\n",
    "    height.append(float(per_line[3]))\n",
    "\n",
    "print(\"Max Heiht: \", max(height), \"Tree Name: \", tree_name[height.index(max(height))])\n"
   ]
  },
  {
   "cell_type": "markdown",
   "metadata": {},
   "source": [
    "### P.2.6.2 "
   ]
  },
  {
   "cell_type": "code",
   "execution_count": 159,
   "metadata": {},
   "outputs": [
    {
     "name": "stdout",
     "output_type": "stream",
     "text": [
      "Some alternative programming languages to Python are C, C++, Perl, Fortran and Java.\n",
      "Some alternative programming languages to Python are *, C++, ****, ******* and ****. \n"
     ]
    }
   ],
   "source": [
    "f = open(\"the_text.txt\")\n",
    "forbidden_words = [\"C\", \"Perl\", \"Fortran\", \"Java\"]\n",
    "punctuations = [\".\", \",\", \";\", \"?\", \"!\"]\n",
    "the_text = f.read()\n",
    "print(the_text)\n",
    "censured_text = \"\"\n",
    "for word in the_text.split():\n",
    "    # print(word)\n",
    "    end = \"\"\n",
    "    if word[-1] in punctuations:\n",
    "        word, end = word[:-1], word[-1]\n",
    "    if word in forbidden_words:\n",
    "        word = \"*\" * len(word)\n",
    "    censured_text += word + end + \" \"\n",
    "print(censured_text)\n"
   ]
  },
  {
   "cell_type": "markdown",
   "metadata": {},
   "source": [
    "### P.2.6.3"
   ]
  },
  {
   "cell_type": "code",
   "execution_count": 160,
   "metadata": {},
   "outputs": [
    {
     "name": "stdout",
     "output_type": "stream",
     "text": [
      "Earth vs. Earth      1.0000\n",
      "Earth vs. Mars       0.6967\n",
      "Earth vs. Mercury    0.5952\n",
      "Earth vs. Moon       0.5574\n",
      "Earth vs. Venus      0.4442\n",
      "Earth vs. Io         0.3625\n",
      "Earth vs. Jupiter    0.2930\n",
      "Earth vs. Titan      0.2426\n",
      "Earth vs. GJ581g     0.8904\n",
      "Earth vs. GJ581b     0.4829\n",
      "Earth vs. HD96167b   0.4654\n",
      "Earth vs. WASP-26b   0.0938\n"
     ]
    }
   ],
   "source": [
    "f = open(\"ex2-6-g-esi-data.txt\", \"r\")\n",
    "lines = f.readlines()\n",
    "\n",
    "for line in lines[3:]:\n",
    "    line_data = line.split()\n",
    "    radius = (1 - abs((float(line_data[2]) - 1.0) / (float(line_data[2]) + 1.0))) ** (0.57 / 4)\n",
    "    density = (1 - abs((float(line_data[3]) - 1.0) / (float(line_data[3]) + 1.0))) ** (1.07 / 4)\n",
    "    e_v = (1 - abs((float(line_data[5]) - 1.0) / (float(line_data[5]) + 1.0))) ** (0.7 / 4)\n",
    "    s_t = (1 - abs((float(line_data[7]) - 288) / (float(line_data[7]) + 288))) ** (5.58 / 4)\n",
    "    esi = radius * density * e_v * s_t\n",
    "    print(\"Earth vs. {l:10s} {e:.4f}\".format(l=line_data[0], e=esi))\n"
   ]
  },
  {
   "cell_type": "markdown",
   "metadata": {},
   "source": [
    "### P.2.6.4"
   ]
  },
  {
   "cell_type": "code",
   "execution_count": 161,
   "metadata": {},
   "outputs": [
    {
     "name": "stdout",
     "output_type": "stream",
     "text": [
      "[['a', 'b', 'c', 'd', 'e'],\n",
      " ['f', 'g', 'h', 'i', 'j'],\n",
      " ['k', 'l', 'm', 'n', 'o'],\n",
      " ['p', 'q', 'r', 's', 't'],\n",
      " ['X', 'Y', 'Z', 'Q', 'T']]\n"
     ]
    },
    {
     "data": {
      "text/plain": [
       "[['a', 'f', 'k', 'p', 'X'],\n",
       " ['b', 'g', 'l', 'q', 'Y'],\n",
       " ['c', 'h', 'm', 'r', 'Z'],\n",
       " ['d', 'i', 'n', 's', 'Q'],\n",
       " ['e', 'j', 'o', 't', 'T']]"
      ]
     },
     "execution_count": 161,
     "metadata": {},
     "output_type": "execute_result"
    }
   ],
   "source": [
    "import pprint\n",
    "\n",
    "f = open(\"matrix.txt\", \"r\")\n",
    "lines = f.readlines()\n",
    "matrix = []\n",
    "\n",
    "for line in lines:\n",
    "    l = line.split()\n",
    "    matrix.append(l)\n",
    "\n",
    "pprint.pprint(matrix)\n",
    "\n",
    "matrix_new = []\n",
    "for i in range(len(matrix[0])):\n",
    "    dum_matrix = []\n",
    "    for j in range(len(matrix)):\n",
    "        dum_matrix.append(matrix[j][i])\n",
    "    matrix_new.append(dum_matrix)\n",
    "\n",
    "matrix_new\n"
   ]
  },
  {
   "cell_type": "code",
   "execution_count": 162,
   "metadata": {},
   "outputs": [
    {
     "data": {
      "text/plain": [
       "[['a'],\n",
       " ['b', 'f'],\n",
       " ['c', 'g', 'k'],\n",
       " ['d', 'h', 'l', 'p'],\n",
       " ['e', 'i', 'm', 'q', 'X'],\n",
       " ['j', 'n', 'r', 'Y'],\n",
       " ['o', 's', 'Z'],\n",
       " ['t', 'Q'],\n",
       " ['T']]"
      ]
     },
     "execution_count": 162,
     "metadata": {},
     "output_type": "execute_result"
    }
   ],
   "source": [
    "# %%timeit\n",
    "row = len(matrix)\n",
    "column = len(matrix[0])\n",
    "# print(row, column)\n",
    "revMatrix = []\n",
    "# ii, jj =1,1\n",
    "for x in range(row + column - 1):\n",
    "    dumMatrix = []\n",
    "    for i in range(row):\n",
    "        for j in range(column):\n",
    "            if i + j == x:\n",
    "                dumMatrix.append(matrix[i][j])\n",
    "    revMatrix.append(dumMatrix)\n",
    "revMatrix\n"
   ]
  },
  {
   "cell_type": "code",
   "execution_count": 163,
   "metadata": {},
   "outputs": [
    {
     "data": {
      "text/plain": [
       "[['a'],\n",
       " ['b', 'f'],\n",
       " ['c', 'g', 'k'],\n",
       " ['d', 'h', 'l', 'p'],\n",
       " ['e', 'i', 'm', 'q', 'X'],\n",
       " ['j', 'n', 'r', 'Y'],\n",
       " ['o', 's', 'Z'],\n",
       " ['t', 'Q'],\n",
       " ['T']]"
      ]
     },
     "execution_count": 163,
     "metadata": {},
     "output_type": "execute_result"
    }
   ],
   "source": [
    "# %%timeit\n",
    "N, M = len(matrix), len(matrix[0])\n",
    "result, intermediate = [], []\n",
    "\n",
    "for d in range(N + M - 1):\n",
    "    intermediate = []\n",
    "    r, c = 0 if d < M else d - M + 1, d if d < M else M - 1\n",
    "\n",
    "    while r < N and c > -1:\n",
    "        intermediate.append(matrix[r][c])\n",
    "        # print(r,\" \", c)\n",
    "        r += 1\n",
    "        c -= 1\n",
    "\n",
    "    result.append(intermediate)\n",
    "\n",
    "result\n",
    "\n"
   ]
  },
  {
   "cell_type": "markdown",
   "metadata": {},
   "source": [
    "## Fuctions"
   ]
  },
  {
   "cell_type": "code",
   "execution_count": 164,
   "metadata": {},
   "outputs": [
    {
     "data": {
      "text/plain": [
       "4"
      ]
     },
     "execution_count": 164,
     "metadata": {},
     "output_type": "execute_result"
    }
   ],
   "source": [
    "a_fun = 2\n",
    "\n",
    "\n",
    "def square(a_fun):\n",
    "    return a_fun * a_fun\n",
    "\n",
    "\n",
    "square(a_fun)\n"
   ]
  },
  {
   "cell_type": "code",
   "execution_count": 165,
   "metadata": {},
   "outputs": [
    {
     "name": "stdout",
     "output_type": "stream",
     "text": [
      "9\n"
     ]
    }
   ],
   "source": [
    "sqrx = square\n",
    "print(sqrx(3))\n"
   ]
  },
  {
   "cell_type": "code",
   "execution_count": 166,
   "metadata": {},
   "outputs": [
    {
     "data": {
      "text/plain": [
       "39916800"
      ]
     },
     "execution_count": 166,
     "metadata": {},
     "output_type": "execute_result"
    }
   ],
   "source": [
    "def facto(n):\n",
    "    if n == 1:\n",
    "        return n\n",
    "    return n * facto(n - 1)\n",
    "\n",
    "facto(11)"
   ]
  },
  {
   "cell_type": "code",
   "execution_count": 167,
   "metadata": {},
   "outputs": [
    {
     "name": "stdout",
     "output_type": "stream",
     "text": [
      "[5, 4, 3, 2, 1]\n"
     ]
    }
   ],
   "source": [
    "a = [5, 4, 3, 2, 1]\n",
    "b = []\n",
    "c = []\n",
    "if a:\n",
    "    print(a)\n"
   ]
  },
  {
   "cell_type": "code",
   "execution_count": 168,
   "metadata": {},
   "outputs": [
    {
     "name": "stdout",
     "output_type": "stream",
     "text": [
      "5 [5, 4, 3, 2, 1] [] []\n",
      "4 [5, 4, 3, 2, 1] [] []\n",
      "3 [5, 4, 3, 2, 1] [] []\n",
      "2 [5, 4, 3, 2, 1] [] []\n",
      "1 [5, 4, 3, 2, 1] [] []\n",
      "0 [5, 4, 3, 2, 1] [] []\n",
      "0 [] [5, 4, 3, 2] [1]\n",
      "1 [1] [5, 4, 3] [2]\n",
      "0 [1] [2] [5, 4, 3]\n",
      "0 [5, 4, 3] [] [2, 1]\n",
      "2 [2, 1] [5, 4] [3]\n",
      "1 [2, 1] [3] [5, 4]\n",
      "0 [2, 1] [5, 4] [3]\n",
      "0 [3] [2] [5, 4, 1]\n",
      "1 [5, 4, 1] [] [3, 2]\n",
      "0 [5, 4, 1] [3, 2] []\n",
      "0 [] [5, 4] [3, 2, 1]\n",
      "3 [3, 2, 1] [5] [4]\n",
      "2 [3, 2, 1] [4] [5]\n",
      "1 [3, 2, 1] [5] [4]\n",
      "0 [3, 2, 1] [4] [5]\n",
      "0 [5] [3, 2] [4, 1]\n",
      "1 [4, 1] [3] [5, 2]\n",
      "0 [4, 1] [5, 2] [3]\n",
      "0 [3] [4] [5, 2, 1]\n",
      "2 [5, 2, 1] [] [4, 3]\n",
      "1 [5, 2, 1] [4, 3] []\n",
      "0 [5, 2, 1] [] [4, 3]\n",
      "0 [4, 3] [5, 2] [1]\n",
      "1 [1] [5] [4, 3, 2]\n",
      "0 [1] [4, 3, 2] [5]\n",
      "0 [5] [] [4, 3, 2, 1]\n",
      "4 [4, 3, 2, 1] [] [5]\n",
      "3 [4, 3, 2, 1] [5] []\n",
      "2 [4, 3, 2, 1] [] [5]\n",
      "1 [4, 3, 2, 1] [5] []\n",
      "0 [4, 3, 2, 1] [] [5]\n",
      "0 [5] [4, 3, 2] [1]\n",
      "1 [1] [4, 3] [5, 2]\n",
      "0 [1] [5, 2] [4, 3]\n",
      "0 [4, 3] [] [5, 2, 1]\n",
      "2 [5, 2, 1] [4] [3]\n",
      "1 [5, 2, 1] [3] [4]\n",
      "0 [5, 2, 1] [4] [3]\n",
      "0 [3] [5, 2] [4, 1]\n",
      "1 [4, 1] [5] [3, 2]\n",
      "0 [4, 1] [3, 2] [5]\n",
      "0 [5] [4] [3, 2, 1]\n",
      "3 [3, 2, 1] [] [5, 4]\n",
      "2 [3, 2, 1] [5, 4] []\n",
      "1 [3, 2, 1] [] [5, 4]\n",
      "0 [3, 2, 1] [5, 4] []\n",
      "0 [] [3, 2] [5, 4, 1]\n",
      "1 [5, 4, 1] [3] [2]\n",
      "0 [5, 4, 1] [2] [3]\n",
      "0 [3] [5, 4] [2, 1]\n",
      "2 [2, 1] [] [5, 4, 3]\n",
      "1 [2, 1] [5, 4, 3] []\n",
      "0 [2, 1] [] [5, 4, 3]\n",
      "0 [5, 4, 3] [2] [1]\n",
      "1 [1] [] [5, 4, 3, 2]\n",
      "0 [1] [5, 4, 3, 2] []\n",
      "0 [] [] [5, 4, 3, 2, 1]\n"
     ]
    }
   ],
   "source": [
    "def hanoi(n, a, b, c):\n",
    "    print(n, a, b, c)\n",
    "    if n == 0:\n",
    "        return\n",
    "\n",
    "    hanoi(n - 1, a, c, b)\n",
    "\n",
    "    if a:\n",
    "        c.append(a.pop())\n",
    "\n",
    "    hanoi(n - 1, b, a, c)\n",
    "\n",
    "\n",
    "hanoi(5, a, b, c)\n"
   ]
  },
  {
   "cell_type": "markdown",
   "metadata": {},
   "source": [
    "### Q2.7.1"
   ]
  },
  {
   "cell_type": "code",
   "execution_count": 169,
   "metadata": {},
   "outputs": [
    {
     "name": "stdout",
     "output_type": "stream",
     "text": [
      "  56\n",
      " +44\n",
      "-----\n",
      " 100\n",
      "-----\n"
     ]
    }
   ],
   "source": [
    "def line():\n",
    "    return \"-----\"\n",
    "\n",
    "\n",
    "my_sum = \"\\n\".join([\"  56\", \" +44\", line(), \" 100\", line()])\n",
    "print(my_sum)\n"
   ]
  },
  {
   "cell_type": "code",
   "execution_count": 170,
   "metadata": {},
   "outputs": [
    {
     "name": "stdout",
     "output_type": "stream",
     "text": [
      "  56\n",
      " +44\n",
      "-----\n",
      " 100\n",
      "-----\n"
     ]
    }
   ],
   "source": [
    "def line1():\n",
    "    print(\"-----\")\n",
    "\n",
    "\n",
    "print(\"  56\")\n",
    "print(\" +44\")\n",
    "line1()\n",
    "print(\" 100\")\n",
    "line1()\n"
   ]
  },
  {
   "cell_type": "markdown",
   "metadata": {},
   "source": [
    "### Q.2.7.2"
   ]
  },
  {
   "cell_type": "code",
   "execution_count": 171,
   "metadata": {},
   "outputs": [
    {
     "name": "stdout",
     "output_type": "stream",
     "text": [
      "Balance after year 1: $105.00\n",
      "Balance after year 2: $110.25\n",
      "Balance after year 3: $115.76\n",
      "Balance after year 4: $121.55\n"
     ]
    }
   ],
   "source": [
    "balance = 100\n",
    "\n",
    "\n",
    "def add_interest(balance, rate):\n",
    "    balance += balance * rate / 100\n",
    "    return balance\n",
    "\n",
    "\n",
    "for year in range(4):\n",
    "    balance = add_interest(balance, 5)\n",
    "    print(\"Balance after year {}: ${:.2f}\".format(year + 1, balance))\n"
   ]
  },
  {
   "cell_type": "markdown",
   "metadata": {},
   "source": [
    "### Q.2.7.3"
   ]
  },
  {
   "cell_type": "code",
   "execution_count": 172,
   "metadata": {},
   "outputs": [
    {
     "data": {
      "text/plain": [
       "True"
      ]
     },
     "execution_count": 172,
     "metadata": {},
     "output_type": "execute_result"
    }
   ],
   "source": [
    "def digit_sum(n):\n",
    "    \"\"\" Find the sum of the digits of integer n. \"\"\"\n",
    "    dsum = 0\n",
    "    s_digits = list(str(n))\n",
    "    for s_digit in s_digits:\n",
    "        dsum += int(s_digit)\n",
    "    return dsum\n",
    "\n",
    "\n",
    "def is_harshad(n):\n",
    "    return not n % digit_sum(n)\n",
    "\n",
    "\n",
    "is_harshad(21)\n"
   ]
  },
  {
   "cell_type": "markdown",
   "metadata": {},
   "source": [
    "### Q.2.7.4"
   ]
  },
  {
   "cell_type": "code",
   "execution_count": 173,
   "metadata": {},
   "outputs": [
    {
     "name": "stdout",
     "output_type": "stream",
     "text": [
      "[1, 2, 'a']\n",
      "[1, 2, 'a']\n"
     ]
    }
   ],
   "source": [
    "def grow_list(a, lst=[]):\n",
    "    lst.append(a)\n",
    "    return lst\n",
    "\n",
    "\n",
    "lst1 = grow_list(1)\n",
    "lst1 = grow_list(2, lst1)\n",
    "lst2 = grow_list(\"a\")\n",
    "print(lst1)\n",
    "print(lst2)\n"
   ]
  },
  {
   "cell_type": "markdown",
   "metadata": {},
   "source": [
    "### P.2.7.1"
   ]
  },
  {
   "cell_type": "code",
   "execution_count": 174,
   "metadata": {},
   "outputs": [
    {
     "data": {
      "text/plain": [
       "True"
      ]
     },
     "execution_count": 174,
     "metadata": {},
     "output_type": "execute_result"
    }
   ],
   "source": [
    "def fit_check(string, up_down, poz):\n",
    "    if up_down.lower() == \"d\":\n",
    "        return len(string) <= 80 - ord(poz[0])\n",
    "    if up_down.lower() == \"u\":\n",
    "        return len(string) <= 16 - int(poz[1:])\n",
    "\n",
    "\n",
    "fit_check(\"absolutefffffff\", \"d\", \"A1\")\n"
   ]
  },
  {
   "cell_type": "code",
   "execution_count": 175,
   "metadata": {},
   "outputs": [
    {
     "data": {
      "text/plain": [
       "11"
      ]
     },
     "execution_count": 175,
     "metadata": {},
     "output_type": "execute_result"
    }
   ],
   "source": [
    "int(\"K11\"[1:])"
   ]
  },
  {
   "cell_type": "markdown",
   "metadata": {},
   "source": [
    "### P.2.7.2"
   ]
  },
  {
   "cell_type": "code",
   "execution_count": 176,
   "metadata": {},
   "outputs": [
    {
     "name": "stdout",
     "output_type": "stream",
     "text": [
      "432\n"
     ]
    }
   ],
   "source": [
    "def small_fact(n):\n",
    "    n_fact = facto(n)\n",
    "    return is_harshad(n_fact)\n",
    "\n",
    "\n",
    "n = 1\n",
    "while small_fact(n):\n",
    "    n += 1\n",
    "print(n)\n"
   ]
  },
  {
   "cell_type": "markdown",
   "metadata": {},
   "source": [
    "### P.2.7.3"
   ]
  },
  {
   "cell_type": "code",
   "execution_count": 177,
   "metadata": {},
   "outputs": [
    {
     "name": "stdout",
     "output_type": "stream",
     "text": [
      "259\n",
      "[2, 301, -242]\n",
      "-1568\n",
      "[3189, -128, -1811]\n"
     ]
    }
   ],
   "source": [
    "list1 = [3,4,5]\n",
    "list2 = [65,6,8]\n",
    "list3 = [4,2,9]\n",
    "\n",
    "def dot_pro(x,y):\n",
    "    # summ = 0\n",
    "    # for i in range(len(x)):\n",
    "    #     summ += x[i]*y[i]\n",
    "    # return summ\n",
    "    return sum([i*j for (i, j) in zip(x, y)])\n",
    "\n",
    "def cross_pro(x,y):\n",
    "    return [x[1]*y[2]-x[2]*y[1], x[2]*y[0]-x[0]*y[2], x[0]*y[1]-x[1]*y[0]]\n",
    "\n",
    "def scalar_triple_prod(x,y,z):\n",
    "    return dot_pro(x, cross_pro(y, z))\n",
    "\n",
    "def vector_triple_prod(x,y,z):\n",
    "    return cross_pro(x, cross_pro(y, z))\n",
    "\n",
    "\n",
    "print(dot_pro(list1, list2))\n",
    "print(cross_pro(list1, list2))\n",
    "print(scalar_triple_prod(list1, list2, list3))\n",
    "print(vector_triple_prod(list1, list2, list3))"
   ]
  },
  {
   "cell_type": "markdown",
   "metadata": {},
   "source": [
    "### P 2.7.4"
   ]
  },
  {
   "cell_type": "code",
   "execution_count": 178,
   "metadata": {},
   "outputs": [
    {
     "data": {
      "text/plain": [
       "(24.226082960010597, 52.434002173052775)"
      ]
     },
     "execution_count": 178,
     "metadata": {},
     "output_type": "execute_result"
    }
   ],
   "source": [
    "def volume(A, h):\n",
    "    return A * h / 3\n",
    "\n",
    "\n",
    "def surface(A, n, s, l):\n",
    "    return A + (0.5 * n * s * l)\n",
    "\n",
    "\n",
    "def pyramid_AV(n, s, h):\n",
    "    a = 0.5 * s * (1 / math.tan(math.pi / n))\n",
    "    A = 0.5 * n * s * a\n",
    "    l = math.sqrt(h ** 2 + a ** 2)\n",
    "    return (volume(A, h), surface(A, n, s, l))\n",
    "\n",
    "\n",
    "pyramid_AV(7, 2, 5)\n"
   ]
  },
  {
   "cell_type": "code",
   "execution_count": 179,
   "metadata": {},
   "outputs": [
    {
     "data": {
      "text/plain": [
       "-0.9589242746631385"
      ]
     },
     "execution_count": 179,
     "metadata": {},
     "output_type": "execute_result"
    }
   ],
   "source": [
    "math.sin(5)"
   ]
  },
  {
   "cell_type": "markdown",
   "metadata": {},
   "source": [
    "### P.2.7.5"
   ]
  },
  {
   "cell_type": "code",
   "execution_count": 180,
   "metadata": {},
   "outputs": [
    {
     "data": {
      "text/plain": [
       "(842.3565976891636, 4015.5260061659856)"
      ]
     },
     "execution_count": 180,
     "metadata": {},
     "output_type": "execute_result"
    }
   ],
   "source": [
    "g = 9.81\n",
    "\n",
    "\n",
    "def projectile_range(v, alpha):\n",
    "    return (v ** 2 * math.sin(2 * alpha)) / g\n",
    "\n",
    "def projectile_height(v,alpha):\n",
    "    return (v ** 2 * (math.sin(alpha)**2)) / (2*g)\n",
    "\n",
    "def projectile(v, alpha):\n",
    "    alpha = alpha/180*math.pi\n",
    "    return(projectile_height(v,alpha),projectile_range(v,alpha))\n",
    "\n",
    "projectile(200,40)"
   ]
  },
  {
   "cell_type": "code",
   "execution_count": 181,
   "metadata": {},
   "outputs": [
    {
     "data": {
      "text/plain": [
       "0.041666666666666664"
      ]
     },
     "execution_count": 181,
     "metadata": {},
     "output_type": "execute_result"
    }
   ],
   "source": [
    "def sinm_cosn(m, n):\n",
    "    prod = double_fact(m - 1) * double_fact(n - 1) / double_fact(m + n)\n",
    "    if m % 2 == 0 and n % 2 == 0:\n",
    "        return prod * math.pi / 2\n",
    "    else:\n",
    "        return prod\n",
    "\n",
    "\n",
    "def double_fact(n):\n",
    "    f = 1\n",
    "    for i in range((3 - (n % 2 + 1)), n + 1, 2):\n",
    "        f *= i\n",
    "    return f\n",
    "\n",
    "\n",
    "sinm_cosn(3, 5)\n"
   ]
  },
  {
   "cell_type": "markdown",
   "metadata": {},
   "source": [
    "### P2.7.7"
   ]
  },
  {
   "cell_type": "code",
   "execution_count": 182,
   "metadata": {},
   "outputs": [],
   "source": [
    "def palindrome(s):\n",
    "\n",
    "    if len(s) <= 1:\n",
    "        return True\n",
    "\n",
    "    if s[0] != s[-1]:\n",
    "        return False\n",
    "\n",
    "    return palindrome(s[1:-1])\n"
   ]
  },
  {
   "cell_type": "code",
   "execution_count": 183,
   "metadata": {},
   "outputs": [
    {
     "name": "stdout",
     "output_type": "stream",
     "text": [
      "True\n"
     ]
    }
   ],
   "source": [
    "print(palindrome(\"bab\"))"
   ]
  },
  {
   "cell_type": "code",
   "execution_count": 184,
   "metadata": {},
   "outputs": [],
   "source": [
    "def tetration(x,y):\n",
    "    if y == 1:\n",
    "        return x\n",
    "    return x**(tetration(x, y-1))"
   ]
  },
  {
   "cell_type": "code",
   "execution_count": 185,
   "metadata": {},
   "outputs": [
    {
     "data": {
      "text/plain": [
       "7625597484987"
      ]
     },
     "execution_count": 185,
     "metadata": {},
     "output_type": "execute_result"
    }
   ],
   "source": [
    "tetration(3,3)"
   ]
  },
  {
   "cell_type": "code",
   "execution_count": 186,
   "metadata": {},
   "outputs": [
    {
     "data": {
      "text/plain": [
       "7625597484987"
      ]
     },
     "execution_count": 186,
     "metadata": {},
     "output_type": "execute_result"
    }
   ],
   "source": [
    "3**(3**3)"
   ]
  },
  {
   "cell_type": "code",
   "execution_count": null,
   "metadata": {},
   "outputs": [],
   "source": []
  }
 ],
 "metadata": {
  "interpreter": {
   "hash": "145558cc2393150ebf621f1da525c8e1598e33bf247303038ced03bd9b3af728"
  },
  "kernelspec": {
   "display_name": "Python 3.8.8 64-bit ('base': conda)",
   "name": "python3"
  },
  "language_info": {
   "codemirror_mode": {
    "name": "ipython",
    "version": 3
   },
   "file_extension": ".py",
   "mimetype": "text/x-python",
   "name": "python",
   "nbconvert_exporter": "python",
   "pygments_lexer": "ipython3",
   "version": "3.9.9"
  },
  "toc-autonumbering": false,
  "toc-showcode": false,
  "toc-showmarkdowntxt": false,
  "toc-showtags": false
 },
 "nbformat": 4,
 "nbformat_minor": 5
}
