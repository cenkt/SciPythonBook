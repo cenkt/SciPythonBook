{
 "cells": [
  {
   "cell_type": "markdown",
   "metadata": {},
   "source": [
    "# Chapter 4\n",
    "\n",
    "## The Core Python Language II\n"
   ]
  },
  {
   "cell_type": "code",
   "execution_count": 1,
   "metadata": {},
   "outputs": [
    {
     "data": {
      "text/plain": [
       "'1.21.5'"
      ]
     },
     "execution_count": 1,
     "metadata": {},
     "output_type": "execute_result"
    }
   ],
   "source": [
    "import numpy as np\n",
    "import math\n",
    "import matplotlib.pyplot as plt\n",
    "\n",
    "np.version.version\n"
   ]
  },
  {
   "cell_type": "code",
   "execution_count": 2,
   "metadata": {},
   "outputs": [
    {
     "name": "stdout",
     "output_type": "stream",
     "text": [
      "Oops: couldn't open deneme for reading\n",
      " Done with file deneme\n",
      "matrix.txt has 5 lines.\n",
      " Done with file matrix.txt\n",
      "The first line of matrix.txt is:\n",
      "a b c d e\n",
      "\n"
     ]
    }
   ],
   "source": [
    "def process_file(filename):\n",
    "\n",
    "    try:\n",
    "        fi = open(filename, \"r\")\n",
    "\n",
    "    except IOError:\n",
    "        print(\"Oops: couldn't open {} for reading\".format(filename))\n",
    "        return\n",
    "    else:\n",
    "        lines = fi.readlines()\n",
    "        print(\"{} has {} lines.\".format(filename, len(lines)))\n",
    "        fi.close()\n",
    "    finally:\n",
    "        print(\" Done with file {}\".format(filename))\n",
    "\n",
    "    print(\"The first line of {} is:\\n{}\".format(filename, lines[0]))\n",
    "    # further processing of the lines ...\n",
    "    return\n",
    "\n",
    "\n",
    "process_file(\"deneme\")\n",
    "process_file(\"matrix.txt\")\n"
   ]
  },
  {
   "cell_type": "code",
   "execution_count": 3,
   "metadata": {},
   "outputs": [
    {
     "name": "stdout",
     "output_type": "stream",
     "text": [
      "new Error\n",
      "fin\n",
      "OK\n",
      "fin\n"
     ]
    }
   ],
   "source": [
    "def er(x):\n",
    "    try:\n",
    "        y = 1.0 / x\n",
    "    except ZeroDivisionError:\n",
    "        print(\"new Error\")\n",
    "        return\n",
    "    else:\n",
    "        print(\"OK\")\n",
    "    finally:\n",
    "        print(\"fin\")\n",
    "\n",
    "\n",
    "er(0)\n",
    "er(1)\n"
   ]
  },
  {
   "cell_type": "markdown",
   "metadata": {},
   "source": [
    "### P4.1.1\n"
   ]
  },
  {
   "cell_type": "code",
   "execution_count": 4,
   "metadata": {},
   "outputs": [
    {
     "name": "stdout",
     "output_type": "stream",
     "text": [
      "not valid\n",
      "0 0\n",
      "not valid\n",
      "0 0\n",
      "not valid\n",
      "0 0\n",
      "not valid\n",
      "0 0\n",
      "10.1 1\n",
      "22.2 2\n",
      "32.0 3\n",
      "40.9 4\n",
      "51.2 5\n",
      "60.400000000000006 6\n",
      "70.0 7\n",
      "79.2 8\n",
      "89.3 9\n",
      "101.0 10\n",
      "113.0 11\n",
      "123.0 12\n",
      "not valid\n",
      "123.0 12\n",
      "131.8 13\n",
      "143.70000000000002 14\n",
      "155.70000000000002 15\n",
      "not valid\n",
      "155.70000000000002 15\n",
      "165.60000000000002 16\n",
      "175.40000000000003 17\n",
      "185.60000000000002 18\n",
      "Ave =  10.311111111111112\n"
     ]
    }
   ],
   "source": [
    "f = open(\"swallow-speeds.txt\")\n",
    "\n",
    "lines = f.readlines()\n",
    "\n",
    "\n",
    "def check_line(s):\n",
    "    if \"#\" in s:\n",
    "        raise ValueError()\n",
    "\n",
    "\n",
    "summ = 0\n",
    "count = 0\n",
    "for line in lines:\n",
    "\n",
    "    try:\n",
    "        check_line(line)\n",
    "    except ValueError:\n",
    "        print(\"not valid\")\n",
    "    else:\n",
    "        summ += float(line)\n",
    "        count += 1\n",
    "    finally:\n",
    "        print(summ, count)\n",
    "\n",
    "print(\"Ave = \", summ / count)\n",
    "f.close()\n",
    "\n"
   ]
  },
  {
   "cell_type": "markdown",
   "metadata": {},
   "source": [
    "### P4.1.2\n"
   ]
  },
  {
   "cell_type": "code",
   "execution_count": 5,
   "metadata": {},
   "outputs": [
    {
     "name": "stdout",
     "output_type": "stream",
     "text": [
      "-2i - 8j\n"
     ]
    }
   ],
   "source": [
    "def str_vector(v):\n",
    "\n",
    "    assert type(v) is list or type(v) is tuple, \"argument to str_vector must be a list or tuple\"\n",
    "    assert len(v) in (2, 3), \"vector must be 2D or 3D in str_vector\"\n",
    "\n",
    "    unit_vectors = [\"i\", \"j\", \"k\"]\n",
    "    s = []\n",
    "    for i, component in enumerate(v):\n",
    "        s.append(\"{}{}\".format(component, unit_vectors[i]))\n",
    "    return \" + \".join(s).replace(\"+ -\", \"- \")\n",
    "\n",
    "\n",
    "print(str_vector([-2, -8]))\n",
    "\n"
   ]
  },
  {
   "cell_type": "markdown",
   "metadata": {},
   "source": [
    "### P4.1.3\n"
   ]
  },
  {
   "cell_type": "code",
   "execution_count": 6,
   "metadata": {},
   "outputs": [
    {
     "name": "stdout",
     "output_type": "stream",
     "text": [
      "625\n"
     ]
    }
   ],
   "source": [
    "def powr(a, b):\n",
    "\n",
    "    if a == 0 and b == 0:\n",
    "        raise ValueError(\"Both can not be zero\")\n",
    "\n",
    "    else:\n",
    "        return a ** b\n",
    "\n",
    "print(powr(5, 4))\n",
    "# print(powr(0,0))\n",
    "\n"
   ]
  },
  {
   "cell_type": "code",
   "execution_count": 7,
   "metadata": {},
   "outputs": [
    {
     "name": "stdout",
     "output_type": "stream",
     "text": [
      "(1, 'First')\n",
      "(2, 'Second')\n",
      "(3, 'Third')\n"
     ]
    }
   ],
   "source": [
    "ordinal = dict([(1, \"First\"), (2, \"Second\"), (3, \"Third\")])\n",
    "for c in ordinal.items():\n",
    "    print(c)\n",
    "    # print(ordinal[c])\n",
    "\n"
   ]
  },
  {
   "cell_type": "code",
   "execution_count": 8,
   "metadata": {},
   "outputs": [
    {
     "name": "stdout",
     "output_type": "stream",
     "text": [
      "{'a1': 3, 'b2': 4, 'c3': 6}\n"
     ]
    }
   ],
   "source": [
    "def pfunct(**kargs):\n",
    "\n",
    "    print(kargs)\n",
    "\n",
    "\n",
    "pfunct(a1=3, b2=4, c3=6)\n",
    "\n"
   ]
  },
  {
   "cell_type": "code",
   "execution_count": 9,
   "metadata": {},
   "outputs": [
    {
     "name": "stdout",
     "output_type": "stream",
     "text": [
      "<class 'list'>\n",
      "<class 'tuple'>\n",
      "<class 'dict'>\n",
      "<class 'set'>\n"
     ]
    }
   ],
   "source": [
    "print(type([1, 2, 3]))\n",
    "print(type((1, 2, 3)))\n",
    "print(type({1: 5, 2: 6, 3: 7}))\n",
    "print(type({1, 2, 3}))\n",
    "\n"
   ]
  },
  {
   "cell_type": "code",
   "execution_count": 10,
   "metadata": {},
   "outputs": [
    {
     "data": {
      "text/plain": [
       "[True, True, True, True, True, True, True, True, True]"
      ]
     },
     "execution_count": 10,
     "metadata": {},
     "output_type": "execute_result"
    }
   ],
   "source": [
    "[True] * 9\n",
    "\n"
   ]
  },
  {
   "cell_type": "markdown",
   "metadata": {},
   "source": [
    "### E4.9\n"
   ]
  },
  {
   "cell_type": "code",
   "execution_count": 11,
   "metadata": {},
   "outputs": [
    {
     "data": {
      "text/plain": [
       "[2,\n",
       " 3,\n",
       " 5,\n",
       " 7,\n",
       " 11,\n",
       " 13,\n",
       " 17,\n",
       " 19,\n",
       " 23,\n",
       " 29,\n",
       " 31,\n",
       " 37,\n",
       " 41,\n",
       " 43,\n",
       " 47,\n",
       " 53,\n",
       " 59,\n",
       " 61,\n",
       " 67,\n",
       " 71,\n",
       " 73,\n",
       " 79,\n",
       " 83,\n",
       " 89,\n",
       " 97]"
      ]
     },
     "execution_count": 11,
     "metadata": {},
     "output_type": "execute_result"
    }
   ],
   "source": [
    "import math\n",
    "\n",
    "\n",
    "def primes(n):\n",
    "\n",
    "    \"\"\" Return a list of the prime numbers <= n. \"\"\"\n",
    "\n",
    "    sieve = [True] * (n // 2)\n",
    "    for i in range(3, int(math.sqrt(n)) + 1, 2):\n",
    "        if sieve[i // 2]:\n",
    "            sieve[i * i // 2 :: i] = [False] * ((n - i * i - 1) // (2 * i) + 1)\n",
    "    return [2] + [2 * i + 1 for i in range(1, n // 2) if sieve[i]]\n",
    "\n",
    "\n",
    "primes(100)\n"
   ]
  },
  {
   "cell_type": "code",
   "execution_count": 12,
   "metadata": {},
   "outputs": [
    {
     "name": "stdout",
     "output_type": "stream",
     "text": [
      "[True, True, True, True, True, True, True, True, True, True, True, True, True, True, True]\n",
      "[True, True, True, True, True, True, True, True, True, True, True, True, False, True, True]\n"
     ]
    }
   ],
   "source": [
    "n = 30\n",
    "sieve = [True] * (n // 2)\n",
    "print(sieve)\n",
    "i = 5\n",
    "\n",
    "\n",
    "sieve[i * i // 2 :: i] = [False] * ((n - i * i - 1) // (2 * i) + 1)\n",
    "print(sieve)\n"
   ]
  },
  {
   "cell_type": "markdown",
   "metadata": {},
   "source": [
    "### Misc\n"
   ]
  },
  {
   "cell_type": "code",
   "execution_count": 13,
   "metadata": {},
   "outputs": [
    {
     "data": {
      "text/plain": [
       "(987, 1)"
      ]
     },
     "execution_count": 13,
     "metadata": {},
     "output_type": "execute_result"
    }
   ],
   "source": [
    "bb = 987\n",
    "bb.as_integer_ratio()\n",
    "\n"
   ]
  },
  {
   "cell_type": "markdown",
   "metadata": {},
   "source": [
    "### E4.7\n"
   ]
  },
  {
   "cell_type": "code",
   "execution_count": 14,
   "metadata": {},
   "outputs": [
    {
     "data": {
      "text/plain": [
       "{'Mercury': 'M',\n",
       " 'Venus': 'V',\n",
       " 'Earth': 'E',\n",
       " 'Mars': 'M',\n",
       " 'Jupiter': 'J',\n",
       " 'Saturn': 'S',\n",
       " 'Uranus': 'U',\n",
       " 'Neptune': 'N'}"
      ]
     },
     "execution_count": 14,
     "metadata": {},
     "output_type": "execute_result"
    }
   ],
   "source": [
    "planets = [\"Mercury\", \"Venus\", \"Earth\", \"Mars\", \"Jupiter\", \"Saturn\", \"Uranus\", \"Neptune\"]\n",
    "planet_to_initial = {planet: planet[0] for planet in planets}\n",
    "planet_to_initial\n",
    "\n"
   ]
  },
  {
   "cell_type": "code",
   "execution_count": 15,
   "metadata": {},
   "outputs": [
    {
     "data": {
      "text/plain": [
       "True"
      ]
     },
     "execution_count": 15,
     "metadata": {},
     "output_type": "execute_result"
    }
   ],
   "source": [
    "\"Mercury\" in planet_to_initial\n",
    "\n"
   ]
  },
  {
   "cell_type": "code",
   "execution_count": 16,
   "metadata": {},
   "outputs": [
    {
     "data": {
      "text/plain": [
       "True"
      ]
     },
     "execution_count": 16,
     "metadata": {},
     "output_type": "execute_result"
    }
   ],
   "source": [
    "\"M\" in planet_to_initial.values()\n",
    "\n"
   ]
  },
  {
   "cell_type": "code",
   "execution_count": 17,
   "metadata": {},
   "outputs": [
    {
     "data": {
      "text/html": [
       "<div>\n",
       "<style scoped>\n",
       "    .dataframe tbody tr th:only-of-type {\n",
       "        vertical-align: middle;\n",
       "    }\n",
       "\n",
       "    .dataframe tbody tr th {\n",
       "        vertical-align: top;\n",
       "    }\n",
       "\n",
       "    .dataframe thead th {\n",
       "        text-align: right;\n",
       "    }\n",
       "</style>\n",
       "<table border=\"1\" class=\"dataframe\">\n",
       "  <thead>\n",
       "    <tr style=\"text-align: right;\">\n",
       "      <th></th>\n",
       "      <th>name</th>\n",
       "      <th>mass</th>\n",
       "      <th>radius</th>\n",
       "      <th>density</th>\n",
       "      <th>g</th>\n",
       "      <th>v_esc</th>\n",
       "      <th>a</th>\n",
       "      <th>Tsurf</th>\n",
       "      <th>Teq</th>\n",
       "    </tr>\n",
       "  </thead>\n",
       "  <tbody>\n",
       "    <tr>\n",
       "      <th>0</th>\n",
       "      <td>Earth</td>\n",
       "      <td>1.0000</td>\n",
       "      <td>1.00</td>\n",
       "      <td>1.00</td>\n",
       "      <td>1.00</td>\n",
       "      <td>1.00</td>\n",
       "      <td>1.00</td>\n",
       "      <td>288</td>\n",
       "      <td>254</td>\n",
       "    </tr>\n",
       "    <tr>\n",
       "      <th>1</th>\n",
       "      <td>Mars</td>\n",
       "      <td>0.1070</td>\n",
       "      <td>0.53</td>\n",
       "      <td>0.71</td>\n",
       "      <td>0.38</td>\n",
       "      <td>0.45</td>\n",
       "      <td>1.52</td>\n",
       "      <td>227</td>\n",
       "      <td>210</td>\n",
       "    </tr>\n",
       "    <tr>\n",
       "      <th>2</th>\n",
       "      <td>Mercury</td>\n",
       "      <td>0.0553</td>\n",
       "      <td>0.38</td>\n",
       "      <td>0.98</td>\n",
       "      <td>0.38</td>\n",
       "      <td>0.38</td>\n",
       "      <td>0.39</td>\n",
       "      <td>440</td>\n",
       "      <td>434</td>\n",
       "    </tr>\n",
       "    <tr>\n",
       "      <th>3</th>\n",
       "      <td>Moon</td>\n",
       "      <td>0.0123</td>\n",
       "      <td>0.27</td>\n",
       "      <td>0.60</td>\n",
       "      <td>0.17</td>\n",
       "      <td>0.21</td>\n",
       "      <td>1.00</td>\n",
       "      <td>220</td>\n",
       "      <td>255</td>\n",
       "    </tr>\n",
       "    <tr>\n",
       "      <th>4</th>\n",
       "      <td>Venus</td>\n",
       "      <td>0.8150</td>\n",
       "      <td>0.95</td>\n",
       "      <td>0.95</td>\n",
       "      <td>0.90</td>\n",
       "      <td>0.93</td>\n",
       "      <td>0.72</td>\n",
       "      <td>730</td>\n",
       "      <td>232</td>\n",
       "    </tr>\n",
       "    <tr>\n",
       "      <th>5</th>\n",
       "      <td>Io</td>\n",
       "      <td>0.0150</td>\n",
       "      <td>0.29</td>\n",
       "      <td>0.64</td>\n",
       "      <td>0.18</td>\n",
       "      <td>0.23</td>\n",
       "      <td>5.20</td>\n",
       "      <td>130</td>\n",
       "      <td>112</td>\n",
       "    </tr>\n",
       "    <tr>\n",
       "      <th>6</th>\n",
       "      <td>Jupiter</td>\n",
       "      <td>318.0000</td>\n",
       "      <td>10.97</td>\n",
       "      <td>0.24</td>\n",
       "      <td>2.64</td>\n",
       "      <td>5.38</td>\n",
       "      <td>5.20</td>\n",
       "      <td>152</td>\n",
       "      <td>110</td>\n",
       "    </tr>\n",
       "    <tr>\n",
       "      <th>7</th>\n",
       "      <td>Titan</td>\n",
       "      <td>0.0225</td>\n",
       "      <td>0.40</td>\n",
       "      <td>0.34</td>\n",
       "      <td>0.14</td>\n",
       "      <td>0.24</td>\n",
       "      <td>9.54</td>\n",
       "      <td>94</td>\n",
       "      <td>83</td>\n",
       "    </tr>\n",
       "    <tr>\n",
       "      <th>8</th>\n",
       "      <td>GJ581g</td>\n",
       "      <td>3.1000</td>\n",
       "      <td>1.36</td>\n",
       "      <td>1.22</td>\n",
       "      <td>1.67</td>\n",
       "      <td>1.51</td>\n",
       "      <td>0.15</td>\n",
       "      <td>278</td>\n",
       "      <td>248</td>\n",
       "    </tr>\n",
       "    <tr>\n",
       "      <th>9</th>\n",
       "      <td>GJ581b</td>\n",
       "      <td>15.6000</td>\n",
       "      <td>3.14</td>\n",
       "      <td>0.51</td>\n",
       "      <td>1.59</td>\n",
       "      <td>2.23</td>\n",
       "      <td>0.04</td>\n",
       "      <td>499</td>\n",
       "      <td>469</td>\n",
       "    </tr>\n",
       "    <tr>\n",
       "      <th>10</th>\n",
       "      <td>HD96167b</td>\n",
       "      <td>216.1260</td>\n",
       "      <td>9.36</td>\n",
       "      <td>0.26</td>\n",
       "      <td>2.47</td>\n",
       "      <td>4.81</td>\n",
       "      <td>1.30</td>\n",
       "      <td>334</td>\n",
       "      <td>304</td>\n",
       "    </tr>\n",
       "    <tr>\n",
       "      <th>11</th>\n",
       "      <td>WASP-26b</td>\n",
       "      <td>324.1880</td>\n",
       "      <td>14.81</td>\n",
       "      <td>0.10</td>\n",
       "      <td>1.48</td>\n",
       "      <td>4.68</td>\n",
       "      <td>0.04</td>\n",
       "      <td>1321</td>\n",
       "      <td>1291</td>\n",
       "    </tr>\n",
       "  </tbody>\n",
       "</table>\n",
       "</div>"
      ],
      "text/plain": [
       "        name      mass  radius  density     g  v_esc     a  Tsurf   Teq\n",
       "0      Earth    1.0000    1.00     1.00  1.00   1.00  1.00    288   254\n",
       "1       Mars    0.1070    0.53     0.71  0.38   0.45  1.52    227   210\n",
       "2    Mercury    0.0553    0.38     0.98  0.38   0.38  0.39    440   434\n",
       "3       Moon    0.0123    0.27     0.60  0.17   0.21  1.00    220   255\n",
       "4      Venus    0.8150    0.95     0.95  0.90   0.93  0.72    730   232\n",
       "5         Io    0.0150    0.29     0.64  0.18   0.23  5.20    130   112\n",
       "6    Jupiter  318.0000   10.97     0.24  2.64   5.38  5.20    152   110\n",
       "7      Titan    0.0225    0.40     0.34  0.14   0.24  9.54     94    83\n",
       "8     GJ581g    3.1000    1.36     1.22  1.67   1.51  0.15    278   248\n",
       "9     GJ581b   15.6000    3.14     0.51  1.59   2.23  0.04    499   469\n",
       "10  HD96167b  216.1260    9.36     0.26  2.47   4.81  1.30    334   304\n",
       "11  WASP-26b  324.1880   14.81     0.10  1.48   4.68  0.04   1321  1291"
      ]
     },
     "execution_count": 17,
     "metadata": {},
     "output_type": "execute_result"
    }
   ],
   "source": [
    "import pandas as pd\n",
    "\n",
    "data = pd.read_csv(\"ex2-6-g-esi-data.csv\")\n",
    "data\n",
    "\n"
   ]
  },
  {
   "cell_type": "code",
   "execution_count": 18,
   "metadata": {},
   "outputs": [
    {
     "data": {
      "text/plain": [
       "['$0', '$1', '$2', '$3', '$4', '$5', '$6', '$7', '$8', '$9']"
      ]
     },
     "execution_count": 18,
     "metadata": {},
     "output_type": "execute_result"
    }
   ],
   "source": [
    "[\"${}\".format(x) for x in range(10)]\n",
    "\n"
   ]
  },
  {
   "cell_type": "code",
   "execution_count": 19,
   "metadata": {},
   "outputs": [],
   "source": [
    "full_dataset = [\n",
    "    {\"name\": \"Peach\", \"items\": [\"green shell\", \"banana\", \"green shell\"], \"finish\": 3},\n",
    "    {\"name\": \"Peach\", \"items\": [\"green shell\", \"banana\", \"green shell\"], \"finish\": 1},\n",
    "    {\"name\": \"Bowser\", \"items\": [\"green shell\"], \"finish\": 1},\n",
    "    {\"name\": None, \"items\": [\"green shell\"], \"finish\": 2},\n",
    "    {\"name\": \"Bowser\", \"items\": [\"green shell\"], \"finish\": 1},\n",
    "    {\"name\": None, \"items\": [\"red shell\"], \"finish\": 1},\n",
    "    {\"name\": \"Yoshi\", \"items\": [\"banana\", \"blue shell\", \"banana\"], \"finish\": 7},\n",
    "    {\"name\": \"DK\", \"items\": [\"blue shell\", \"star\"], \"finish\": 1},\n",
    "]\n",
    "\n"
   ]
  },
  {
   "cell_type": "code",
   "execution_count": 20,
   "metadata": {},
   "outputs": [
    {
     "name": "stdout",
     "output_type": "stream",
     "text": [
      "WARNING: Encountered racer with unknown name on iteration 4/8 (racer = None)\n",
      "WARNING: Encountered racer with unknown name on iteration 6/8 (racer = None)\n"
     ]
    },
    {
     "data": {
      "text/plain": [
       "{'green shell': 4, 'banana': 1, 'red shell': 1, 'blue shell': 1, 'star': 1}"
      ]
     },
     "execution_count": 20,
     "metadata": {},
     "output_type": "execute_result"
    }
   ],
   "source": [
    "def best_items(racers):\n",
    "    winner_item_counts = {}\n",
    "    for i in range(len(racers)):\n",
    "        # The i'th racer dictionary\n",
    "        racer = racers[i]\n",
    "        # print(racer)\n",
    "        # We're only interested in racers who finished in first\n",
    "        if racer[\"finish\"] == 1:\n",
    "            for j in racer[\"items\"]:\n",
    "                # Add one to the count for this item (adding it to the dict if necessary)\n",
    "                if j not in winner_item_counts:\n",
    "                    winner_item_counts[j] = 0\n",
    "                winner_item_counts[j] += 1\n",
    "\n",
    "        # Data quality issues :/ Print a warning about racers with no name set. We'll take care of it later.\n",
    "        if racer[\"name\"] is None:\n",
    "            print(\n",
    "                \"WARNING: Encountered racer with unknown name on iteration {}/{} (racer = {})\".format(\n",
    "                    i + 1, len(racers), racer[\"name\"]\n",
    "                )\n",
    "            )\n",
    "    return winner_item_counts\n",
    "\n",
    "\n",
    "best_items(full_dataset)\n"
   ]
  },
  {
   "cell_type": "markdown",
   "metadata": {},
   "source": [
    "Hash Fuction\n"
   ]
  },
  {
   "cell_type": "code",
   "execution_count": 21,
   "metadata": {},
   "outputs": [
    {
     "name": "stdout",
     "output_type": "stream",
     "text": [
      "1\n",
      "1\n",
      "1\n",
      "2305843009025\n"
     ]
    },
    {
     "data": {
      "text/plain": [
       "True"
      ]
     },
     "execution_count": 21,
     "metadata": {},
     "output_type": "execute_result"
    }
   ],
   "source": [
    "print(hash(1.0))\n",
    "print(hash(1))\n",
    "print(hash(1.000000))\n",
    "print(hash(1.000001))\n",
    "\n",
    "2305843009025 == hash(1.000001)\n"
   ]
  },
  {
   "cell_type": "markdown",
   "metadata": {},
   "source": [
    "### Q4.2.1\n"
   ]
  },
  {
   "cell_type": "code",
   "execution_count": 22,
   "metadata": {},
   "outputs": [
    {
     "data": {
      "text/plain": [
       "False"
      ]
     },
     "execution_count": 22,
     "metadata": {},
     "output_type": "execute_result"
    }
   ],
   "source": [
    "my_set1 = set(\"abcdefghijklmnoprstuvyz\")\n",
    "my_set2 = set(\"The quick brown fox jumped over the lazy dog\")\n",
    "alpabet = set(\"abcdefghijklmnopqrstuvwxyz\")\n",
    "type(alpabet)\n",
    "len(alpabet.difference(my_set2)) == 0\n"
   ]
  },
  {
   "cell_type": "markdown",
   "metadata": {},
   "source": [
    "### Q4.2.2\n"
   ]
  },
  {
   "cell_type": "code",
   "execution_count": 23,
   "metadata": {},
   "outputs": [
    {
     "data": {
      "text/plain": [
       "[1, 2, 3, 4, 5, 7, 8, 9, 10]"
      ]
     },
     "execution_count": 23,
     "metadata": {},
     "output_type": "execute_result"
    }
   ],
   "source": [
    "def remove_dupes(s):\n",
    "    return sorted(list(set(s)))\n",
    "\n",
    "\n",
    "remove_dupes([10, 1, 1, 2, 3, 4, 4, 4, 5, 7, 8, 8, 9])\n",
    "\n"
   ]
  },
  {
   "cell_type": "markdown",
   "metadata": {},
   "source": [
    "### Q4.2.3\n"
   ]
  },
  {
   "cell_type": "code",
   "execution_count": 24,
   "metadata": {},
   "outputs": [
    {
     "name": "stdout",
     "output_type": "stream",
     "text": [
      "{'o', 'l', 'e', 'h'}\n",
      "{'hellohellohello'}\n",
      "{'hellohellohello'}\n",
      "{'hello'}\n",
      "{('hello', 'hello'), 'hello'}\n"
     ]
    }
   ],
   "source": [
    "print(set(\"hellohellohello\"))\n",
    "print(set([\"hellohellohello\"]))\n",
    "print(set((\"hellohellohello\",)))\n",
    "print(set((\"hello\", \"hello\", \"hello\")))\n",
    "print(set((\"hello\", (\"hello\", \"hello\"))))\n",
    "# print(set(('hello', ['hello', 'hello'])))\n"
   ]
  },
  {
   "cell_type": "code",
   "execution_count": 25,
   "metadata": {},
   "outputs": [
    {
     "name": "stdout",
     "output_type": "stream",
     "text": [
      "2733088138048\n",
      "2733088139392\n"
     ]
    }
   ],
   "source": [
    "a = frozenset((1, 2, 3))\n",
    "print(id(a))\n",
    "a |= {2, 3, 4, 5}\n",
    "print(id(a))\n"
   ]
  },
  {
   "cell_type": "markdown",
   "metadata": {},
   "source": [
    "### Q4.2.5\n"
   ]
  },
  {
   "cell_type": "code",
   "execution_count": 26,
   "metadata": {},
   "outputs": [
    {
     "name": "stdout",
     "output_type": "stream",
     "text": [
      "{4: 3, 5: 5, 3: 9, 7: 4, 2: 3, 9: 3, 1: 1, 6: 1, 11: 1}\n",
      "{4: 3, 5: 5, 3: 9, 7: 4, 2: 3, 9: 3, 1: 1, 6: 1, 11: 1}\n",
      "{4: ['four', 'this', 'that'], 5: ['score', 'seven', 'years', 'forth', 'equal'], 3: ['and', 'ago', 'our', 'new', 'and', 'the', 'all', 'men', 'are'], 7: ['fathers', 'brought', 'liberty', 'created'], 2: ['on', 'in', 'to'], 9: ['continent', 'conceived', 'dedicated'], 1: ['a'], 6: ['nation'], 11: ['proposition']}\n",
      "defaultdict(<class 'list'>, {4: ['four', 'this', 'that'], 5: ['score', 'seven', 'years', 'forth', 'equal'], 3: ['and', 'ago', 'our', 'new', 'and', 'the', 'all', 'men', 'are'], 7: ['fathers', 'brought', 'liberty', 'created'], 2: ['on', 'in', 'to'], 9: ['continent', 'conceived', 'dedicated'], 1: ['a'], 6: ['nation'], 11: ['proposition']})\n"
     ]
    }
   ],
   "source": [
    "text = \"Four score and seven years ago our fathers brought forth on this continent , a new nation , conceived in Liberty , and dedicated to the proposition that all men are created equal\"\n",
    "text = text.replace(\",\", \"\").lower()  # remove punctuation\n",
    "word_lengths = {}\n",
    "\n",
    "\n",
    "for word in text.split():\n",
    "    try:\n",
    "        word_lengths[len(word)] += 1\n",
    "    except KeyError:\n",
    "        word_lengths[len(word)] = 1\n",
    "print(word_lengths)\n",
    "\n",
    "word_lengths = {}\n",
    "for word in text.split():\n",
    "    word_lengths[len(word)] = word_lengths.setdefault(len(word), 0) + 1\n",
    "print(word_lengths)\n",
    "\n",
    "# Using defaultdict in this case would be more concise and elegant:\n",
    "word_lengths = {}\n",
    "for word in text.split():\n",
    "    word_lengths[len(word)] = word_lengths.setdefault(len(word), [])\n",
    "    word_lengths[len(word)].append(word)\n",
    "print(word_lengths)\n",
    "\n",
    "from collections import defaultdict\n",
    "\n",
    "word_lengths = defaultdict(list)\n",
    "for word in text.split():\n",
    "    word_lengths[len(word)].append(word)\n",
    "print(word_lengths)\n"
   ]
  },
  {
   "cell_type": "markdown",
   "metadata": {},
   "source": [
    "### P4.2.1\n"
   ]
  },
  {
   "cell_type": "code",
   "execution_count": 27,
   "metadata": {},
   "outputs": [
    {
     "name": "stdout",
     "output_type": "stream",
     "text": [
      "(7400, 0.005)\n"
     ]
    }
   ],
   "source": [
    "def get_resistor_value(r):\n",
    "    resitor_table = {\n",
    "        \"bk\": [0, 1, 0],\n",
    "        \"br\": [1, 10, 0.01],\n",
    "        \"rd\": [2, 100, 0.02],\n",
    "        \"or\": [3, 1000, 0],\n",
    "        \"yl\": [4, 10000, 0.05],\n",
    "        \"gr\": [5, 100000, 0.005],\n",
    "        \"bl\": [6, 1000000, 0.0025],\n",
    "        \"vi\": [7, 10000000, 0.001],\n",
    "        \"gy\": [8, 100000000, 0.0005],\n",
    "        \"wh\": [9, 1000000000, 0],\n",
    "        \"au\": [0, 0, 0.005],\n",
    "        \"ag\": [0, 0, 0.1],\n",
    "        None: [0, 0, 0.2],\n",
    "    }\n",
    "    number = []\n",
    "    for i, s in enumerate(r):\n",
    "        if i >= 1:\n",
    "            i = i - 1\n",
    "        number.append(resitor_table[s][i])\n",
    "    return ((number[0] * 10 + number[1]) * number[2], number[3])\n",
    "\n",
    "\n",
    "print(get_resistor_value([\"vi\", \"yl\", \"rd\", \"gr\"]))\n",
    "\n"
   ]
  },
  {
   "cell_type": "code",
   "execution_count": 28,
   "metadata": {},
   "outputs": [
    {
     "name": "stdout",
     "output_type": "stream",
     "text": [
      "the       : 14529\n",
      "of        : 6713\n",
      "and       : 6410\n",
      "a         : 4665\n",
      "to        : 4654\n",
      "in        : 4188\n",
      "that      : 2905\n",
      "his       : 2514\n",
      "it        : 2322\n",
      "i         : 1844\n",
      "with      : 1763\n",
      "but       : 1741\n",
      "as        : 1726\n",
      "is        : 1718\n",
      "he        : 1715\n",
      "was       : 1637\n",
      "for       : 1614\n",
      "all       : 1468\n",
      "this      : 1395\n",
      "at        : 1320\n",
      "by        : 1216\n",
      "not       : 1144\n",
      "from      : 1103\n",
      "be        : 1052\n",
      "on        : 1045\n",
      "so        : 1031\n",
      "him       : 1010\n",
      "whale     : 917\n",
      "you       : 914\n",
      "one       : 885\n",
      "or        : 792\n",
      "had       : 776\n",
      "have      : 769\n",
      "now       : 730\n",
      "there     : 716\n",
      "were      : 680\n",
      "they      : 652\n",
      "which     : 644\n",
      "their     : 619\n",
      "are       : 612\n",
      "some      : 611\n",
      "then      : 597\n",
      "when      : 593\n",
      "an        : 593\n",
      "me        : 592\n",
      "my        : 574\n",
      "like      : 571\n",
      "upon      : 564\n",
      "no        : 547\n",
      "into      : 522\n",
      "out       : 510\n",
      "up        : 505\n",
      "more      : 500\n",
      "what      : 491\n",
      "if        : 486\n",
      "them      : 454\n",
      "old       : 441\n",
      "we        : 439\n",
      "would     : 427\n",
      "been      : 415\n",
      "other     : 414\n",
      "man       : 413\n",
      "ahab      : 404\n",
      "over      : 402\n",
      "these     : 397\n",
      "ye        : 395\n",
      "will      : 392\n",
      "its       : 376\n",
      "such      : 372\n",
      "ship      : 372\n",
      "only      : 370\n",
      "sea       : 367\n",
      "though    : 360\n",
      "any       : 357\n",
      "down      : 356\n",
      "yet       : 335\n",
      "who       : 328\n",
      "her       : 321\n",
      "time      : 319\n",
      "very      : 314\n",
      "about     : 312\n",
      "than      : 310\n",
      "long      : 310\n",
      "chapter   : 308\n",
      "still     : 307\n",
      "those     : 305\n",
      "great     : 304\n",
      "before    : 296\n",
      "said      : 294\n",
      "do        : 293\n",
      "must      : 291\n",
      "has       : 289\n",
      "most      : 285\n",
      "seemed    : 281\n",
      "captain   : 280\n",
      "two       : 279\n",
      "last      : 272\n",
      "here      : 267\n",
      "whales    : 263\n",
      "head      : 263\n"
     ]
    }
   ],
   "source": [
    "f = open(\"./2701-0.txt\", \"r\", encoding=\"utf-8\")\n",
    "# Iterate over the preamble until we get to the book text\n",
    "# for line in f:\n",
    "#     if 'START OF THIS PROJECT GUTENBERG EBOOK' in line:\n",
    "#         break\n",
    "\n",
    "# wordcount is a dictionary of word-counts, keyed by word\n",
    "wordcount = {}\n",
    "for line in f:\n",
    "    if \"END OF THIS PROJECT GUTENBERG EBOOK\" in line:\n",
    "        # That's the text of the novel done: bail before the licence text, etc.\n",
    "        break\n",
    "    # Strip out the line endings and force everything to lower case\n",
    "    line = line.strip().lower()\n",
    "    # Some words are separated by --: replace this with ' '; similarly\n",
    "    # remove 's (for possessives) and swap out & for and\n",
    "    line = line.replace(\"--\", \" \").replace(\"'s\", \"\").replace(\"&\", \"and\")\n",
    "    # Strip any of the following punctuation\n",
    "    for c in \"!?\\\":;,()'.*[]\":\n",
    "        line = line.replace(c, \"\")\n",
    "\n",
    "    # The line is (reasonably) clean: split it into words\n",
    "    words = line.split(\" \")\n",
    "    for word in words:\n",
    "        if not word:\n",
    "            # Ignore words without any letters!\n",
    "            continue\n",
    "        # Update the wordcount dictionary, creating a new entry if necessary\n",
    "        try:\n",
    "            wordcount[word] += 1\n",
    "        except KeyError:\n",
    "            wordcount[word] = 1\n",
    "# print(wordcount)\n",
    "wc = []\n",
    "# For a sorted list of word frequencies, create a list of (count, word) tuples\n",
    "for k, v in wordcount.items():\n",
    "    wc.append((v, k))\n",
    "# Sort it into decreasing order\n",
    "wc.sort(reverse=True)\n",
    "\n",
    "# Output the 100 most frequent words from the top of the wc list\n",
    "for i in range(100):\n",
    "    print(\"{:10s}: {:d}\".format(wc[i][1], wc[i][0]))\n",
    "    # print(wc)\n",
    "f.close()"
   ]
  },
  {
   "cell_type": "markdown",
   "metadata": {},
   "source": [
    "### P4.2.2\n"
   ]
  },
  {
   "cell_type": "code",
   "execution_count": 73,
   "metadata": {},
   "outputs": [
    {
     "data": {
      "image/png": "[encoded data removed]",
      "text/plain": [
       "<Figure size 432x288 with 1 Axes>"
      ]
     },
     "metadata": {
      "needs_background": "light"
     },
     "output_type": "display_data"
    }
   ],
   "source": [
    "md = open(\"./2701-0.txt\", \"r\", encoding=\"utf-8\")\n",
    "\n",
    "dictionary = {}\n",
    "for line in md:\n",
    "    line = line.strip().lower()\n",
    "\n",
    "    # Some words are separated by --: replace this with ' '; similarly\n",
    "    # remove 's (for possessives) and swap out & for and\n",
    "    line = line.replace(\"--\", \" \").replace(\"'s\", \"\").replace(\"&\", \"and\")\n",
    "\n",
    "    # Strip any of the following punctuation\n",
    "    for c in \"!?\\\":;,()'.*[]\":\n",
    "        line = line.replace(c, \"\")\n",
    "\n",
    "    # The line is (reasonably) clean: split it into words\n",
    "    words = line.split(\" \")\n",
    "    for word in words:\n",
    "        dictionary[word] = dictionary.setdefault(word, 0) + 1\n",
    "md.close()\n",
    "\n",
    "value_list = list(dictionary.values())\n",
    "value_list.sort(reverse=True)\n",
    "top_values = value_list[:100]\n",
    "\n",
    "# for val in top_values:\n",
    "#     print(list(dictionary.keys())[list(dictionary.values()).index(val)])\n",
    "\n",
    "rank = np.linspace(1, 2000, 2000)\n",
    "freq = value_list[:2000]\n",
    "x_log = np.log10(rank)\n",
    "y_obsrved = np.log10(freq)\n",
    "y_pred = np.log10(freq[0]) - x_log\n",
    "plt.plot(x_log, y_obsrved, \"+\", label=\"Observed\")\n",
    "plt.plot(x_log, y_pred, label=\"Predicted\")\n",
    "plt.show()"
   ]
  },
  {
   "cell_type": "markdown",
   "metadata": {},
   "source": [
    "### P4.2.3\n"
   ]
  },
  {
   "cell_type": "code",
   "execution_count": 30,
   "metadata": {},
   "outputs": [
    {
     "name": "stdout",
     "output_type": "stream",
     "text": [
      "-130.0\n",
      "-130.0\n"
     ]
    }
   ],
   "source": [
    "def get_vars(stack):\n",
    "    return stack.pop(), stack.pop()\n",
    "\n",
    "\n",
    "def plus(stack):\n",
    "    b, a = get_vars(stack)\n",
    "    stack.append(a + b)\n",
    "\n",
    "\n",
    "def minus(stack):\n",
    "    b, a = get_vars(stack)\n",
    "    stack.append(a - b)\n",
    "\n",
    "\n",
    "def multiply(stack):\n",
    "    b, a = get_vars(stack)\n",
    "    stack.append(a * b)\n",
    "\n",
    "\n",
    "def divide(stack):\n",
    "    b, a = get_vars(stack)\n",
    "    stack.append(a / b)\n",
    "\n",
    "\n",
    "def calculate(s):\n",
    "    s = s.split()\n",
    "    tokens = {\"+\": plus, \"-\": minus, \"*\": multiply, \"/\": divide}\n",
    "\n",
    "    # a, b = None, None\n",
    "    # result = None\n",
    "    # for i in s:\n",
    "    #     if i in tokens:\n",
    "    #         result = tokens[i](a, b)\n",
    "    #         a = result\n",
    "    #     elif i not in tokens and a == None:\n",
    "    #         a = float(i)\n",
    "    #     else:\n",
    "    #         b = float(i)\n",
    "\n",
    "    stack = []\n",
    "    for i in s:\n",
    "        # print(i,stack)\n",
    "        if i in tokens:\n",
    "            tokens[i](stack)\n",
    "        else:\n",
    "            stack.append(float(i))\n",
    "\n",
    "    return stack[0]\n",
    "\n",
    "\n",
    "print(calculate(\"2 3 * 4 * 5 / 10 - 25 *\"))\n",
    "print(((2 * 3 * 4 / 5) - 10) * 25)\n",
    "\n"
   ]
  },
  {
   "cell_type": "markdown",
   "metadata": {},
   "source": [
    "### 4.2.4\n"
   ]
  },
  {
   "cell_type": "code",
   "execution_count": 31,
   "metadata": {},
   "outputs": [
    {
     "name": "stdout",
     "output_type": "stream",
     "text": [
      "['.--.', '-.--', '-', '....', '---', '-.', '/', '...--']\n",
      "P\n",
      "Y\n",
      "T\n",
      "H\n",
      "O\n",
      "N\n",
      " \n",
      "3\n"
     ]
    }
   ],
   "source": [
    "morse = dict(\n",
    "    (\n",
    "        (\"A\", \".-\"),\n",
    "        (\"B\", \"-...\"),\n",
    "        (\"C\", \"-.-.\"),\n",
    "        (\"D\", \"-..\"),\n",
    "        (\"E\", \".\"),\n",
    "        (\"F\", \"..-.\"),\n",
    "        (\"G\", \"--.\"),\n",
    "        (\"H\", \"....\"),\n",
    "        (\"I\", \"..\"),\n",
    "        (\"J\", \".---\"),\n",
    "        (\"K\", \"-.-\"),\n",
    "        (\"L\", \".-..\"),\n",
    "        (\"M\", \"--\"),\n",
    "        (\"N\", \"-.\"),\n",
    "        (\"O\", \"---\"),\n",
    "        (\"P\", \".--.\"),\n",
    "        (\"Q\", \"--.-\"),\n",
    "        (\"R\", \".-.\"),\n",
    "        (\"S\", \"...\"),\n",
    "        (\"T\", \"-\"),\n",
    "        (\"U\", \"..-\"),\n",
    "        (\"V\", \"...-\"),\n",
    "        (\"W\", \".--\"),\n",
    "        (\"X\", \"-..-\"),\n",
    "        (\"Y\", \"-.--\"),\n",
    "        (\"Z\", \"--..\"),\n",
    "        (\"1\", \".----\"),\n",
    "        (\"2\", \"..---\"),\n",
    "        (\"3\", \"...--\"),\n",
    "        (\"4\", \"....-\"),\n",
    "        (\"5\", \".....\"),\n",
    "        (\"6\", \"-....\"),\n",
    "        (\"7\", \"--...\"),\n",
    "        (\"8\", \"---..\"),\n",
    "        (\"9\", \"----.\"),\n",
    "        (\"0\", \"-----\"),\n",
    "    )\n",
    ")\n",
    "\n",
    "s = \".--. -.-- - .... --- -. / ...--\"\n",
    "word_list = s.split(\" \")\n",
    "print(word_list)\n",
    "word = \"\"\n",
    "for w in word_list:\n",
    "    if w == \"/\":\n",
    "        print(\" \")\n",
    "    else:\n",
    "        print(list(morse.keys())[list(morse.values()).index(w)])\n"
   ]
  },
  {
   "cell_type": "code",
   "execution_count": 32,
   "metadata": {},
   "outputs": [
    {
     "name": "stdout",
     "output_type": "stream",
     "text": [
      ".--. -.-- - .... --- -. / ...--\n",
      "PYTHON 3\n"
     ]
    }
   ],
   "source": [
    "revmorse = {}\n",
    "for k, v in morse.items():\n",
    "    revmorse[v] = k\n",
    "\n",
    "\n",
    "def msg_to_morse(msg):\n",
    "    morse_msg = []\n",
    "    for c in msg.upper():\n",
    "        if c == \" \":\n",
    "            morse_msg.append(\"/\")\n",
    "        else:\n",
    "            try:\n",
    "                morse_msg.append(morse[c])\n",
    "            except KeyError:\n",
    "                morse_msg.append(\"*\")\n",
    "    return \" \".join(morse_msg)\n",
    "\n",
    "\n",
    "def morse_to_msg(msg):\n",
    "    decoded_msg = []\n",
    "    for word in morse_msg.split(\"/\"):\n",
    "        decoded_word = []\n",
    "        for c in word.split(\" \"):\n",
    "            if c:\n",
    "                try:\n",
    "                    decoded_word.append(revmorse[c])\n",
    "                except KeyError:\n",
    "                    decoded_word.append(\"*\")\n",
    "        decoded_word = \"\".join(decoded_word)\n",
    "        decoded_msg.append(decoded_word)\n",
    "    return \" \".join(decoded_msg)\n",
    "\n",
    "\n",
    "msg = \"PYTHON 3\"\n",
    "morse_msg = msg_to_morse(msg)\n",
    "decoded_msg = morse_to_msg(morse_msg)\n",
    "print(morse_msg)\n",
    "print(decoded_msg)\n",
    "\n"
   ]
  },
  {
   "cell_type": "markdown",
   "metadata": {},
   "source": [
    "### P.4.2.5\n"
   ]
  },
  {
   "cell_type": "code",
   "execution_count": 33,
   "metadata": {},
   "outputs": [],
   "source": [
    "shark = open(\"shark-species.txt\", \"r\")\n",
    "text = shark.readlines()\n",
    "contents = []\n",
    "for line in text:\n",
    "    line_new = line.strip(\"\\n\").replace(\"    \", \"\\t\")\n",
    "    # print(line_new.count(\"\\t\"), line_new.count(\":\"))\n",
    "    contents.append(line_new)\n",
    "\n",
    "species = {}\n",
    "for item in contents:\n",
    "    num_tab = item.count(\"\\t\")\n",
    "    if num_tab == 0:\n",
    "        dumm = item\n",
    "        species[dumm] = {}\n",
    "        # print(species)\n",
    "    elif num_tab == 1:\n",
    "        dumm1 = item.strip(\"\\t\")\n",
    "        species[dumm][dumm1] = {}\n",
    "        # print(species)\n",
    "    elif num_tab == 2:\n",
    "        dumm2 = item.strip(\"\\t\")\n",
    "        species[dumm][dumm1][dumm2] = {}\n",
    "        # print(species)\n",
    "    elif num_tab == 3:\n",
    "        a, b = item.split(\":\")\n",
    "        a = a.strip(\"\\t\")\n",
    "        a = a.split()\n",
    "        a = \"{}. {}\".format(a[0][0], a[1].strip(\" \"))\n",
    "        b = b.strip(\" \")\n",
    "        species[dumm][dumm1][dumm2][a] = b\n",
    "\n",
    "shark.close()\n"
   ]
  },
  {
   "cell_type": "code",
   "execution_count": 34,
   "metadata": {},
   "outputs": [
    {
     "data": {
      "text/plain": [
       "'Blacknose shark'"
      ]
     },
     "execution_count": 34,
     "metadata": {},
     "output_type": "execute_result"
    }
   ],
   "source": [
    "species[\"Carcharhiniformes\"][\"Carcharhinidae\"][\"Carcharhinus\"][\"C. acronotus\"]\n"
   ]
  },
  {
   "cell_type": "code",
   "execution_count": 35,
   "metadata": {},
   "outputs": [
    {
     "data": {
      "text/plain": [
       "'Great white shark'"
      ]
     },
     "execution_count": 35,
     "metadata": {},
     "output_type": "execute_result"
    }
   ],
   "source": [
    "species[\"Lamniformes\"][\"Lamnidae\"][\"Carcharodon\"][\"C. carcharias\"]\n",
    "\n"
   ]
  },
  {
   "cell_type": "markdown",
   "metadata": {},
   "source": [
    "## Syntactic Sugar\n"
   ]
  },
  {
   "cell_type": "markdown",
   "metadata": {},
   "source": [
    "### Assignment Shortcuts\n"
   ]
  },
  {
   "cell_type": "code",
   "execution_count": 36,
   "metadata": {},
   "outputs": [
    {
     "name": "stdout",
     "output_type": "stream",
     "text": [
      "True\n",
      "2733096766848 2733096766848\n"
     ]
    },
    {
     "data": {
      "text/plain": [
       "0.8414709848078965"
      ]
     },
     "execution_count": 36,
     "metadata": {},
     "output_type": "execute_result"
    }
   ],
   "source": [
    "a = b = [1, 2]\n",
    "print(a is b)\n",
    "print(id(a), id(b))\n",
    "x = -1\n",
    "y = math.sin(x) / x if x else 1\n",
    "y\n"
   ]
  },
  {
   "cell_type": "markdown",
   "metadata": {},
   "source": [
    "### List Comprehension\n"
   ]
  },
  {
   "cell_type": "code",
   "execution_count": 37,
   "metadata": {},
   "outputs": [
    {
     "name": "stdout",
     "output_type": "stream",
     "text": [
      "[1, 9, 25]\n",
      "[1, 8, 9, 64, 25, 216]\n"
     ]
    }
   ],
   "source": [
    "xlist = [1, 2, 3, 4, 5, 6]\n",
    "print([x ** 2 for x in xlist if x % 2])\n",
    "print([x ** 2 if x % 2 else x ** 3 for x in xlist])\n"
   ]
  },
  {
   "cell_type": "code",
   "execution_count": 38,
   "metadata": {},
   "outputs": [
    {
     "data": {
      "text/plain": [
       "[[1, 4, 7], [2, 5, 8], [3, 6, 9]]"
      ]
     },
     "execution_count": 38,
     "metadata": {},
     "output_type": "execute_result"
    }
   ],
   "source": [
    "m = [[1, 2, 3], [4, 5, 6], [7, 8, 9]]\n",
    "mt = [[row[i] for row in m] for i in range(3)]\n",
    "mt\n"
   ]
  },
  {
   "cell_type": "markdown",
   "metadata": {},
   "source": [
    "### Lamda Functions\n"
   ]
  },
  {
   "cell_type": "code",
   "execution_count": 39,
   "metadata": {},
   "outputs": [
    {
     "name": "stdout",
     "output_type": "stream",
     "text": [
      "20.0\n"
     ]
    }
   ],
   "source": [
    "f = lambda x, y: x ** 2 - 3 * x + 2 * y\n",
    "print(f(4.0, 8))\n",
    "\n"
   ]
  },
  {
   "cell_type": "code",
   "execution_count": 40,
   "metadata": {},
   "outputs": [
    {
     "data": {
      "text/plain": [
       "25"
      ]
     },
     "execution_count": 40,
     "metadata": {},
     "output_type": "execute_result"
    }
   ],
   "source": [
    "flist = [lambda x: 1, lambda x: x, lambda x: x ** 2, lambda x: x ** 3]\n",
    "flist[2](5)\n"
   ]
  },
  {
   "cell_type": "markdown",
   "metadata": {},
   "source": [
    "### Generators\n"
   ]
  },
  {
   "cell_type": "code",
   "execution_count": 41,
   "metadata": {},
   "outputs": [
    {
     "name": "stdout",
     "output_type": "stream",
     "text": [
      "1\n",
      "4\n",
      "9\n",
      "16\n",
      "25\n"
     ]
    }
   ],
   "source": [
    "def count(n):\n",
    "    i = 0\n",
    "    while i < n:\n",
    "        i += 1\n",
    "        yield i\n",
    "\n",
    "\n",
    "cnt = count(5)\n",
    "\n",
    "for i in cnt:\n",
    "    print(i ** 2)\n",
    "\n",
    "for i in cnt:\n",
    "    print(i ** 2)\n"
   ]
  },
  {
   "cell_type": "code",
   "execution_count": 42,
   "metadata": {},
   "outputs": [],
   "source": [
    "squares = [x ** 2 for x in range(5)]\n"
   ]
  },
  {
   "cell_type": "code",
   "execution_count": 43,
   "metadata": {},
   "outputs": [
    {
     "data": {
      "text/plain": [
       "[0, 1, 4, 9, 16]"
      ]
     },
     "execution_count": 43,
     "metadata": {},
     "output_type": "execute_result"
    }
   ],
   "source": [
    "squares\n"
   ]
  },
  {
   "cell_type": "code",
   "execution_count": 44,
   "metadata": {},
   "outputs": [
    {
     "data": {
      "text/plain": [
       "set"
      ]
     },
     "execution_count": 44,
     "metadata": {},
     "output_type": "execute_result"
    }
   ],
   "source": [
    "type({x ** 2 for x in range(5)})\n",
    "\n"
   ]
  },
  {
   "cell_type": "code",
   "execution_count": 45,
   "metadata": {},
   "outputs": [],
   "source": [
    "# [a] List\n",
    "# (a) Tuple\n",
    "# {a} Set\n",
    "# {a:b} Dict\n",
    "# [a for a] List Comprehension\n",
    "# (a for a) Generator comprehension\n",
    "# {a for a} Set Comprehension\n",
    "# {a:b for a} Dict Comprehension\n"
   ]
  },
  {
   "cell_type": "markdown",
   "metadata": {},
   "source": [
    "### map, filter and reduce\n"
   ]
  },
  {
   "cell_type": "code",
   "execution_count": 46,
   "metadata": {},
   "outputs": [
    {
     "data": {
      "text/plain": [
       "[11]"
      ]
     },
     "execution_count": 46,
     "metadata": {},
     "output_type": "execute_result"
    }
   ],
   "source": [
    "lst = [[1, 3, 1], [4, 5, 2]]\n",
    "list(filter(lambda x: x > 5, map(sum, lst)))\n",
    "\n"
   ]
  },
  {
   "cell_type": "markdown",
   "metadata": {},
   "source": [
    "### walrus operator\n"
   ]
  },
  {
   "cell_type": "code",
   "execution_count": 47,
   "metadata": {},
   "outputs": [
    {
     "name": "stdout",
     "output_type": "stream",
     "text": [
      "s has 31 characters. The maximum is 10.\n"
     ]
    }
   ],
   "source": [
    "if (slen := len(s)) > 10:\n",
    "    print(f\"s has {slen} characters. The maximum is 10.\")\n",
    "\n"
   ]
  },
  {
   "cell_type": "markdown",
   "metadata": {},
   "source": [
    "### Q4.3.1\n"
   ]
  },
  {
   "cell_type": "code",
   "execution_count": 48,
   "metadata": {},
   "outputs": [
    {
     "name": "stdout",
     "output_type": "stream",
     "text": [
      "1\n",
      "1\n"
     ]
    }
   ],
   "source": [
    "list1 = [lambda x: 1, lambda x: x, lambda x: x ** 2, lambda x: x ** 3]\n",
    "print(list1[0](4))\n",
    "list2 = [(lambda x, i=y: x ** i) for y in range(4)]\n",
    "print(list2[0](4))\n"
   ]
  },
  {
   "cell_type": "markdown",
   "metadata": {},
   "source": [
    "### Q4.3.2\n"
   ]
  },
  {
   "cell_type": "code",
   "execution_count": 49,
   "metadata": {},
   "outputs": [
    {
     "name": "stdout",
     "output_type": "stream",
     "text": [
      "[1]\n",
      "[1, 1]\n",
      "[1, 2, 1]\n",
      "[1, 3, 3, 1]\n",
      "[1, 4, 6, 4, 1]\n",
      "[1, 5, 10, 10, 5, 1]\n"
     ]
    }
   ],
   "source": [
    "nmax = 5\n",
    "x = [1]\n",
    "for n in range(1, nmax + 2):\n",
    "    print(x)\n",
    "    x = [([0] + x)[i] + (x + [0])[i] for i in range(n + 1)]\n",
    "\n"
   ]
  },
  {
   "cell_type": "markdown",
   "metadata": {},
   "source": [
    "### Q4.3.3\n"
   ]
  },
  {
   "cell_type": "code",
   "execution_count": 50,
   "metadata": {},
   "outputs": [
    {
     "name": "stdout",
     "output_type": "stream",
     "text": [
      "['E', 'C', 'G', 'B', 'F', 'A', 'D']\n",
      "['A', 'B', 'C', 'D', 'E', 'F', 'G']\n",
      "['F', 'G', 'D', 'C', 'A', 'E', 'B']\n"
     ]
    },
    {
     "data": {
      "text/plain": [
       "['F', 'D', 'B', 'G', 'A', 'E', 'C']"
      ]
     },
     "execution_count": 50,
     "metadata": {},
     "output_type": "execute_result"
    }
   ],
   "source": [
    "a = [\"A\", \"B\", \"C\", \"D\", \"E\", \"F\", \"G\"]\n",
    "b = [4, 2, 6, 1, 5, 0, 3]\n",
    "print([a[x] for x in b])\n",
    "print([a[x] for x in sorted(b)])\n",
    "print([a[b[x]] for x in b])\n",
    "sorted(zip(b, a))\n",
    "[x for (y, x) in sorted(zip(b, a))]\n"
   ]
  },
  {
   "cell_type": "markdown",
   "metadata": {},
   "source": [
    "### Q4.3.3\n"
   ]
  },
  {
   "cell_type": "code",
   "execution_count": 51,
   "metadata": {},
   "outputs": [
    {
     "name": "stdout",
     "output_type": "stream",
     "text": [
      "[('five', 5), ('four', 4), ('one', 1), ('three', 3), ('two', 2)]\n",
      "[('one', 1), ('two', 2), ('three', 3), ('four', 4), ('five', 5)]\n",
      "[('one', 1), ('two', 2), ('three', 3), ('four', 4), ('five', 5)]\n"
     ]
    }
   ],
   "source": [
    "ordinal = {\"five\": 5, \"one\": 1, \"four\": 4, \"two\": 2, \"three\": 3}\n",
    "print([(x, ordinal[x]) for x in sorted(ordinal.keys())])\n",
    "print(\n",
    "    [(list(ordinal.keys())[list(ordinal.values()).index(x)], x) for x in sorted(ordinal.values())]\n",
    ")\n",
    "\n",
    "# ordinal.items()\n",
    "print(sorted([(x, y) for x, y in ordinal.items()], key=lambda item: item[1]))\n",
    "\n"
   ]
  },
  {
   "cell_type": "markdown",
   "metadata": {},
   "source": [
    "### Q4.3.5\n"
   ]
  },
  {
   "cell_type": "code",
   "execution_count": 52,
   "metadata": {},
   "outputs": [],
   "source": [
    "number = \"5558675309\"\n",
    "\"\"\" \n",
    "1 9 8   (5-x)*2\n",
    "2 8 6\n",
    "3 7 4\n",
    "4 6 2\n",
    "5 0 5\n",
    "\"\"\"\n",
    "\n",
    "maf = lambda x: x + ((5 - x) * 2)\n",
    "\n"
   ]
  },
  {
   "cell_type": "code",
   "execution_count": 53,
   "metadata": {},
   "outputs": [
    {
     "data": {
      "text/plain": [
       "[10, 9, 8, 7, 6, 5, 4, 3, 2, 1]"
      ]
     },
     "execution_count": 53,
     "metadata": {},
     "output_type": "execute_result"
    }
   ],
   "source": [
    "[maf(y) for y in range(10)]\n"
   ]
  },
  {
   "cell_type": "code",
   "execution_count": 54,
   "metadata": {},
   "outputs": [
    {
     "data": {
      "text/plain": [
       "[0, 0, 0, 2, 4, 3, 0, 7, 5, 1]"
      ]
     },
     "execution_count": 54,
     "metadata": {},
     "output_type": "execute_result"
    }
   ],
   "source": [
    "[maf(int(y)) if ((int(y) != 0) and (int(y) != 5)) else (-1 * (int(y) - 5)) for y in number]\n"
   ]
  },
  {
   "cell_type": "markdown",
   "metadata": {},
   "source": [
    "### Q4.3.6\n"
   ]
  },
  {
   "cell_type": "code",
   "execution_count": 55,
   "metadata": {},
   "outputs": [
    {
     "data": {
      "text/plain": [
       "[1, 2, 4, 5, 8]"
      ]
     },
     "execution_count": 55,
     "metadata": {},
     "output_type": "execute_result"
    }
   ],
   "source": [
    "sorted([4, 5, 2, 8, 1], key=lambda x: x ** 2 if x > 4 else x)\n"
   ]
  },
  {
   "cell_type": "code",
   "execution_count": 56,
   "metadata": {},
   "outputs": [
    {
     "data": {
      "text/plain": [
       "[1, 2, 4, 5, 8, None]"
      ]
     },
     "execution_count": 56,
     "metadata": {},
     "output_type": "execute_result"
    }
   ],
   "source": [
    "sorted([4, 5, 2, 8, 1, None], key=lambda x: float(\"inf\") if x == None else x)\n",
    "\n"
   ]
  },
  {
   "cell_type": "code",
   "execution_count": 57,
   "metadata": {},
   "outputs": [
    {
     "name": "stdout",
     "output_type": "stream",
     "text": [
      "\u001b[1;31mSignature:\u001b[0m \u001b[0msorted\u001b[0m\u001b[1;33m(\u001b[0m\u001b[0miterable\u001b[0m\u001b[1;33m,\u001b[0m \u001b[1;33m/\u001b[0m\u001b[1;33m,\u001b[0m \u001b[1;33m*\u001b[0m\u001b[1;33m,\u001b[0m \u001b[0mkey\u001b[0m\u001b[1;33m=\u001b[0m\u001b[1;32mNone\u001b[0m\u001b[1;33m,\u001b[0m \u001b[0mreverse\u001b[0m\u001b[1;33m=\u001b[0m\u001b[1;32mFalse\u001b[0m\u001b[1;33m)\u001b[0m\u001b[1;33m\u001b[0m\u001b[1;33m\u001b[0m\u001b[0m\n",
      "\u001b[1;31mDocstring:\u001b[0m\n",
      "Return a new list containing all items from the iterable in ascending order.\n",
      "\n",
      "A custom key function can be supplied to customize the sort order, and the\n",
      "reverse flag can be set to request the result in descending order.\n",
      "\u001b[1;31mType:\u001b[0m      builtin_function_or_method\n"
     ]
    }
   ],
   "source": [
    "sorted??"
   ]
  },
  {
   "cell_type": "markdown",
   "metadata": {},
   "source": [
    "### Q.4.3.7\n"
   ]
  },
  {
   "cell_type": "code",
   "execution_count": 58,
   "metadata": {},
   "outputs": [
    {
     "name": "stdout",
     "output_type": "stream",
     "text": [
      "2\n",
      "3\n",
      "5\n",
      "8\n",
      "13\n",
      "21\n",
      "34\n",
      "55\n",
      "89\n",
      "144\n",
      "233\n",
      "377\n",
      "610\n",
      "987\n",
      "1597\n",
      "2584\n",
      "4181\n",
      "6765\n"
     ]
    }
   ],
   "source": [
    "n = 1, 1\n",
    "while (n := (n[1], n[0] + n[1])) < (5000, 0):\n",
    "    print(n[1])\n",
    "    continue\n"
   ]
  },
  {
   "cell_type": "code",
   "execution_count": 59,
   "metadata": {},
   "outputs": [],
   "source": [
    "# while (s := input()) != \"exit\":\n",
    "#     print(s.lower())\n"
   ]
  },
  {
   "cell_type": "code",
   "execution_count": 60,
   "metadata": {},
   "outputs": [],
   "source": [
    "mat = [[1, 2, 3], [4, 5, 6], [6, 7, 8]]\n",
    "\n"
   ]
  },
  {
   "cell_type": "markdown",
   "metadata": {},
   "source": [
    "### P4.3.1\n"
   ]
  },
  {
   "cell_type": "code",
   "execution_count": 61,
   "metadata": {},
   "outputs": [
    {
     "data": {
      "text/plain": [
       "14"
      ]
     },
     "execution_count": 61,
     "metadata": {},
     "output_type": "execute_result"
    }
   ],
   "source": [
    "sum([(mat[x][y]) for x in range(3) for y in range(3) if x == y])\n"
   ]
  },
  {
   "cell_type": "markdown",
   "metadata": {},
   "source": [
    "### P4.3.2\n"
   ]
  },
  {
   "cell_type": "code",
   "execution_count": 62,
   "metadata": {},
   "outputs": [
    {
     "data": {
      "text/plain": [
       "['c', 'a', 'n', ' ', 'i', ' ', 'g', 'o', ' ', 'h', 'o', 'm', 'e']"
      ]
     },
     "execution_count": 62,
     "metadata": {},
     "output_type": "execute_result"
    }
   ],
   "source": [
    "code_text = \"can i go home\"\n",
    "[x for x in code_text]\n"
   ]
  },
  {
   "cell_type": "code",
   "execution_count": 63,
   "metadata": {},
   "outputs": [
    {
     "data": {
      "text/plain": [
       "['p', 'n', 'a', '-', 'v', '-', 't', 'b', '-', 'u', 'b', 'z', 'r']"
      ]
     },
     "execution_count": 63,
     "metadata": {},
     "output_type": "execute_result"
    }
   ],
   "source": [
    "[chr((ord(x) + 13)) if ord(x) < 110 else chr((ord(x) - 13)) for x in code_text]\n"
   ]
  },
  {
   "cell_type": "code",
   "execution_count": 64,
   "metadata": {},
   "outputs": [
    {
     "data": {
      "text/plain": [
       "'pna v tb ubzr'"
      ]
     },
     "execution_count": 64,
     "metadata": {},
     "output_type": "execute_result"
    }
   ],
   "source": [
    "\"\".join([chr((ord(x) - 84) % 26 + 97) if x != \" \" else \" \" for x in code_text])\n"
   ]
  },
  {
   "cell_type": "code",
   "execution_count": 65,
   "metadata": {},
   "outputs": [
    {
     "data": {
      "text/plain": [
       "'pna v tb ubzr'"
      ]
     },
     "execution_count": 65,
     "metadata": {},
     "output_type": "execute_result"
    }
   ],
   "source": [
    "\" \".join([\"\".join([chr((ord(c) - 84) % 26 + 97) for c in w]) for w in code_text.split()])\n",
    "\n"
   ]
  },
  {
   "cell_type": "markdown",
   "metadata": {},
   "source": [
    "### P4.3.3\n"
   ]
  },
  {
   "cell_type": "code",
   "execution_count": 66,
   "metadata": {},
   "outputs": [
    {
     "name": "stdout",
     "output_type": "stream",
     "text": [
      "[' ', ' ', ' ', ' ', ' ', ' ', ' ', ' ', ' ', ' ', ' ', ' ', ' ', ' ', ' ', ' ', ' ', ' ', ' ', ' ', ' ', ' ', ' ', ' ', ' ', ' ', ' ', ' ', ' ', ' ', ' ', ' ', ' ', ' ', ' ', ' ', ' ', ' ', ' ', '*', ' ', ' ', ' ', ' ', ' ', ' ', ' ', ' ', ' ', ' ', ' ', ' ', ' ', ' ', ' ', ' ', ' ', ' ', ' ', ' ', ' ', ' ', ' ', ' ', ' ', ' ', ' ', ' ', ' ', ' ', ' ', ' ', ' ', ' ', ' ', ' ', ' ', ' ', ' ']\n",
      "                                                                              *                                                                              \n",
      "                                                                            * * *                                                                            \n",
      "                                                                          * *     *                                                                          \n",
      "                                                                        * *   * * * *                                                                        \n",
      "                                                                      * *     *       *                                                                      \n",
      "                                                                    * *   * * * *   * * *                                                                    \n",
      "                                                                  * *     *         *     *                                                                  \n",
      "                                                                * *   * * * *     * * * * * *                                                                \n",
      "                                                              * *     *       * * *           *                                                              \n",
      "                                                            * *   * * * *   * *     *       * * *                                                            \n",
      "                                                          * *     *         *   * * * *   * *     *                                                          \n",
      "                                                        * *   * * * *     * *   *         *   * * * *                                                        \n",
      "                                                      * *     *       * * *     * *     * *   *       *                                                      \n",
      "                                                    * *   * * * *   * *     * * *   * * *     * *   * * *                                                    \n",
      "                                                  * *     *         *   * * *       *     * * *     *     *                                                  \n",
      "                                                * *   * * * *     * *   *     *   * * * * *     * * * * * * *                                                \n",
      "                                              * *     *       * * *     * * * *   *         * * *             *                                              \n",
      "                                            * *   * * * *   * *     * * *         * *     * *     *         * * *                                            \n",
      "                                          * *     *         *   * * *     *     * *   * * *   * * * *     * *     *                                          \n",
      "                                        * *   * * * *     * *   *     * * * * * *     *       *       * * *   * * * *                                        \n",
      "                                      * *     *       * * *     * * * *           * * * *   * * *   * *       *       *                                      \n",
      "                                    * *   * * * *   * *     * * *       *       * *         *       *   *   * * *   * * *                                    \n",
      "                                  * *     *         *   * * *     *   * * *   * *   *     * * *   * *   *   *       *     *                                  \n",
      "                                * *   * * * *     * *   *     * * *   *       *     * * * *       *     *   * *   * * * * * *                                \n",
      "                              * *     *       * * *     * * * *       * *   * * * * *       *   * * * * *   *     *           *                              \n",
      "                            * *   * * * *   * *     * * *       *   * *     *         *   * *   *           * * * * *       * * *                            \n",
      "                          * *     *         *   * * *     *   * *   *   * * * *     * *   *     * *       * *         *   * *     *                          \n",
      "                        * *   * * * *     * *   *     * * *   *     *   *       * * *     * * * *   *   * *   *     * *   *   * * * *                        \n",
      "                      * *     *       * * *     * * * *       * * * *   * *   * *     * * *         *   *     * * * *     *   *       *                      \n",
      "                    * *   * * * *   * *     * * *       *   * *         *     *   * * *     *     * *   * * * *       * * *   * *   * * *                    \n"
     ]
    }
   ],
   "source": [
    "init_cell = [\" \"] * 79\n",
    "init_cell[39] = \"*\"\n",
    "print(init_cell)\n",
    "rule_dict = {\n",
    "    (\"*\", \"*\", \"*\"): \" \",\n",
    "    (\"*\", \"*\", \" \"): \" \",\n",
    "    (\"*\", \" \", \"*\"): \" \",\n",
    "    (\"*\", \" \", \" \"): \"*\",\n",
    "    (\" \", \"*\", \"*\"): \"*\",\n",
    "    (\" \", \"*\", \" \"): \"*\",\n",
    "    (\" \", \" \", \"*\"): \"*\",\n",
    "    (\" \", \" \", \" \"): \" \",\n",
    "}\n",
    "for i in range(30):\n",
    "    init_cell_copy = init_cell.copy()\n",
    "    print(\" \".join(init_cell_copy))\n",
    "    for i in range(1, 78):\n",
    "        lookup = tuple(init_cell[i - 1 : i + 2])\n",
    "        init_cell_copy[i] = rule_dict[lookup]\n",
    "    init_cell = init_cell_copy.copy()\n",
    "\n"
   ]
  },
  {
   "cell_type": "code",
   "execution_count": 67,
   "metadata": {},
   "outputs": [
    {
     "data": {
      "text/plain": [
       "[True, False, False]"
      ]
     },
     "execution_count": 67,
     "metadata": {},
     "output_type": "execute_result"
    }
   ],
   "source": [
    "import pandas as pd\n",
    "\n",
    "arr = pd.Series([-1, 0, 1])\n",
    "list(arr < 0)\n"
   ]
  },
  {
   "cell_type": "markdown",
   "metadata": {},
   "source": [
    "### P 4.3.4\n"
   ]
  },
  {
   "cell_type": "code",
   "execution_count": 68,
   "metadata": {},
   "outputs": [
    {
     "data": {
      "text/plain": [
       "{'MC': 27,\n",
       " 'LU': 20,\n",
       " 'CY': 28,\n",
       " 'PK': 24,\n",
       " 'FI': 18,\n",
       " 'CZ': 24,\n",
       " 'RO': 24,\n",
       " 'MD': 24,\n",
       " 'FR': 27,\n",
       " 'IL': 23,\n",
       " 'CH': 21,\n",
       " 'ES': 24,\n",
       " 'GB': 22,\n",
       " 'SA': 24,\n",
       " 'PS': 29,\n",
       " 'MK': 19,\n",
       " 'PL': 28,\n",
       " 'EE': 20,\n",
       " 'DE': 22,\n",
       " 'AZ': 28,\n",
       " 'PT': 25,\n",
       " 'SI': 19,\n",
       " 'HU': 28,\n",
       " 'HR': 21,\n",
       " 'LT': 20,\n",
       " 'NL': 18,\n",
       " 'NO': 15,\n",
       " 'LV': 21,\n",
       " 'FO': 18,\n",
       " 'KW': 30,\n",
       " 'SM': 27,\n",
       " 'MT': 31,\n",
       " 'MU': 30,\n",
       " 'GI': 23,\n",
       " 'BA': 20,\n",
       " 'LB': 28,\n",
       " 'GE': 22,\n",
       " 'QA': 29,\n",
       " 'GR': 27,\n",
       " 'AT': 20,\n",
       " 'IT': 27,\n",
       " 'BG': 22,\n",
       " 'SE': 24,\n",
       " 'GL': 18,\n",
       " 'TR': 26,\n",
       " 'BE': 16,\n",
       " 'TN': 24,\n",
       " 'LI': 21,\n",
       " 'AL': 28,\n",
       " 'AD': 24,\n",
       " 'RS': 22,\n",
       " 'SK': 24,\n",
       " 'JO': 30,\n",
       " 'DK': 18,\n",
       " 'BR': 29,\n",
       " 'IS': 26,\n",
       " 'ME': 22,\n",
       " 'IE': 22}"
      ]
     },
     "execution_count": 68,
     "metadata": {},
     "output_type": "execute_result"
    }
   ],
   "source": [
    "iban_lengths = {}\n",
    "with open(\"iban_lengths.txt\") as fi:\n",
    "    for line in fi.readlines():\n",
    "        fields = line.split()\n",
    "        iban_lengths[fields[0]] = int(fields[1])\n",
    "iban_lengths\n",
    "# fnl = lambda x: x.split()\n",
    "\n",
    "# a ={fnl(line)[0]:fnl(line)[1] for line in open('iban_lengths.txt').readlines()}\n",
    "a = dict(\n",
    "    {(lambda x: (x[0], int(x[1])))(line.split()) for line in open(\"iban_lengths.txt\").readlines()}\n",
    ")\n",
    "a\n"
   ]
  },
  {
   "cell_type": "code",
   "execution_count": 69,
   "metadata": {},
   "outputs": [
    {
     "name": "stdout",
     "output_type": "stream",
     "text": [
      "namme ='tim' timtim\n",
      "I'm learning language = 'Python' from school = 'freeCodeCamp'.\n"
     ]
    }
   ],
   "source": [
    "namme = \"tim\"\n",
    "print(f\"{namme =} {2*namme }\")\n",
    "language = \"Python\"\n",
    "school = \"freeCodeCamp\"\n",
    "print(f\"I'm learning {language = } from {school = }.\")\n"
   ]
  },
  {
   "cell_type": "markdown",
   "metadata": {},
   "source": [
    "### P4.3.5\n"
   ]
  },
  {
   "cell_type": "code",
   "execution_count": 70,
   "metadata": {},
   "outputs": [
    {
     "data": {
      "text/plain": [
       "[[1], [1, 2], [1, 2, 3], [2], [2, 3], [3]]"
      ]
     },
     "execution_count": 70,
     "metadata": {},
     "output_type": "execute_result"
    }
   ],
   "source": [
    "sl = list({1, 2, 3})\n",
    "llc = []\n",
    "\n",
    "for i in range(len(sl)):\n",
    "    for j in range(i, len(sl) + 1):\n",
    "        if i != j:  # print(i,j)\n",
    "            llc.append(sl[i:j])\n",
    "llc\n"
   ]
  },
  {
   "cell_type": "code",
   "execution_count": 71,
   "metadata": {},
   "outputs": [
    {
     "name": "stdout",
     "output_type": "stream",
     "text": [
      "\n",
      "1\n",
      "2\n",
      "12\n",
      "3\n",
      "13\n",
      "23\n",
      "123\n"
     ]
    }
   ],
   "source": [
    "def printPowerSet(set, set_size):\n",
    "\n",
    "    # set_size of power set of a set\n",
    "    # with set_size n is (2**n -1)\n",
    "    pow_set_size = (int)(math.pow(2, set_size))\n",
    "    counter = 0\n",
    "    j = 0\n",
    "\n",
    "    # Run from counter 000..0 to 111..1\n",
    "    for counter in range(0, pow_set_size):\n",
    "        for j in range(0, set_size):\n",
    "\n",
    "            # Check if jth bit in the\n",
    "            # counter is set If set then\n",
    "            # print jth element from set\n",
    "            if (counter & (1 << j)) > 0:\n",
    "                print(set[j], end=\"\")\n",
    "        print(\"\")\n",
    "\n",
    "\n",
    "printPowerSet(sl, 3)\n",
    "\n"
   ]
  },
  {
   "cell_type": "markdown",
   "metadata": {},
   "source": [
    "### 4.3.6\n"
   ]
  },
  {
   "cell_type": "code",
   "execution_count": 72,
   "metadata": {},
   "outputs": [
    {
     "data": {
      "text/plain": [
       "<_io.TextIOWrapper name='./brown/ca01' mode='r' encoding='cp1252'>"
      ]
     },
     "execution_count": 72,
     "metadata": {},
     "output_type": "execute_result"
    }
   ],
   "source": [
    "with open(\"./brown/ca01\") as bf:\n",
    "    bf.readlines()\n",
    "bf\n"
   ]
  }
 ],
 "metadata": {
  "interpreter": {
   "hash": "86619d2cf44e5b4489ce8f6099e4872a8c00246a489a87aabbead0885f6785fa"
  },
  "kernelspec": {
   "display_name": "Python 3 (ipykernel)",
   "language": "python",
   "name": "python3"
  },
  "language_info": {
   "codemirror_mode": {
    "name": "ipython",
    "version": 3
   },
   "file_extension": ".py",
   "mimetype": "text/x-python",
   "name": "python",
   "nbconvert_exporter": "python",
   "pygments_lexer": "ipython3",
   "version": "3.10.1"
  }
 },
 "nbformat": 4,
 "nbformat_minor": 2
}
