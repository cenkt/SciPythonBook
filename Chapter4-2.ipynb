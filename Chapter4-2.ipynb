{
 "cells": [
  {
   "cell_type": "markdown",
   "metadata": {},
   "source": [
    "# Chapter 4\n",
    "\n",
    "## The Core Python Language II\n"
   ]
  },
  {
   "cell_type": "markdown",
   "metadata": {},
   "source": [
    "## Operating-System Services\n"
   ]
  },
  {
   "cell_type": "code",
   "execution_count": 1,
   "metadata": {},
   "outputs": [],
   "source": [
    "import sys\n",
    "import os\n",
    "import numpy as np\n",
    "import matplotlib.pyplot as plt\n",
    "import math\n",
    "\n",
    "# %matplotlib inline\n",
    "\n"
   ]
  },
  {
   "cell_type": "code",
   "execution_count": 2,
   "metadata": {},
   "outputs": [
    {
     "data": {
      "text/plain": [
       "'C:\\\\Compilers\\\\Anaconda3\\\\envs\\\\py310\\\\lib\\\\site-packages\\\\ipykernel_launcher.py'"
      ]
     },
     "execution_count": 2,
     "metadata": {},
     "output_type": "execute_result"
    }
   ],
   "source": [
    "n = sys.argv[0]\n",
    "n\n"
   ]
  },
  {
   "cell_type": "code",
   "execution_count": 3,
   "metadata": {},
   "outputs": [
    {
     "name": "stdout",
     "output_type": "stream",
     "text": [
      "None\n"
     ]
    }
   ],
   "source": [
    "print(os.getenv(\"HOME\"))\n",
    "\n"
   ]
  },
  {
   "cell_type": "code",
   "execution_count": 4,
   "metadata": {},
   "outputs": [
    {
     "data": {
      "text/plain": [
       "'test.py'"
      ]
     },
     "execution_count": 4,
     "metadata": {},
     "output_type": "execute_result"
    }
   ],
   "source": [
    "os.path.basename(\"/home/brian/test.py\")\n",
    "\n"
   ]
  },
  {
   "cell_type": "code",
   "execution_count": 5,
   "metadata": {},
   "outputs": [
    {
     "data": {
      "text/plain": [
       "'/home/brian'"
      ]
     },
     "execution_count": 5,
     "metadata": {},
     "output_type": "execute_result"
    }
   ],
   "source": [
    "os.path.dirname(\"/home/brian/test.py\")\n",
    "\n"
   ]
  },
  {
   "cell_type": "code",
   "execution_count": 6,
   "metadata": {},
   "outputs": [
    {
     "data": {
      "text/plain": [
       "('/home/brian', 'test.py')"
      ]
     },
     "execution_count": 6,
     "metadata": {},
     "output_type": "execute_result"
    }
   ],
   "source": [
    "os.path.split(\"/home/brian/test.py\")\n",
    "\n"
   ]
  },
  {
   "cell_type": "code",
   "execution_count": 7,
   "metadata": {},
   "outputs": [
    {
     "name": "stdout",
     "output_type": "stream",
     "text": [
      "C:\\Compilers\\Anaconda3\\envs\\py310\\lib\\site-packages\\adodbapi\n",
      "C:\\Compilers\\Anaconda3\\envs\\py310\\lib\\site-packages\\anyio\n",
      "C:\\Compilers\\Anaconda3\\envs\\py310\\lib\\site-packages\\anyio-3.4.0.dist-info\n",
      "C:\\Compilers\\Anaconda3\\envs\\py310\\lib\\site-packages\\argon2\n",
      "C:\\Compilers\\Anaconda3\\envs\\py310\\lib\\site-packages\\argon2_cffi-21.1.0.dist-info\n",
      "C:\\Compilers\\Anaconda3\\envs\\py310\\lib\\site-packages\\async_generator\n",
      "C:\\Compilers\\Anaconda3\\envs\\py310\\lib\\site-packages\\async_generator-1.10.dist-info\n",
      "C:\\Compilers\\Anaconda3\\envs\\py310\\lib\\site-packages\\attr\n",
      "C:\\Compilers\\Anaconda3\\envs\\py310\\lib\\site-packages\\attrs-21.2.0.dist-info\n",
      "C:\\Compilers\\Anaconda3\\envs\\py310\\lib\\site-packages\\babel\n",
      "C:\\Compilers\\Anaconda3\\envs\\py310\\lib\\site-packages\\Babel-2.9.1.dist-info\n",
      "C:\\Compilers\\Anaconda3\\envs\\py310\\lib\\site-packages\\backcall\n",
      "C:\\Compilers\\Anaconda3\\envs\\py310\\lib\\site-packages\\backcall-0.2.0.dist-info\n",
      "C:\\Compilers\\Anaconda3\\envs\\py310\\lib\\site-packages\\backports\n",
      "C:\\Compilers\\Anaconda3\\envs\\py310\\lib\\site-packages\\backports.functools_lru_cache-1.6.4.dist-info\n",
      "C:\\Compilers\\Anaconda3\\envs\\py310\\lib\\site-packages\\bleach\n",
      "C:\\Compilers\\Anaconda3\\envs\\py310\\lib\\site-packages\\bleach-4.1.0.dist-info\n",
      "C:\\Compilers\\Anaconda3\\envs\\py310\\lib\\site-packages\\brotli\n",
      "C:\\Compilers\\Anaconda3\\envs\\py310\\lib\\site-packages\\brotlipy-0.7.0.dist-info\n",
      "C:\\Compilers\\Anaconda3\\envs\\py310\\lib\\site-packages\\certifi\n",
      "C:\\Compilers\\Anaconda3\\envs\\py310\\lib\\site-packages\\certifi-2021.10.8-py3.10.egg-info\n",
      "C:\\Compilers\\Anaconda3\\envs\\py310\\lib\\site-packages\\cffi\n",
      "C:\\Compilers\\Anaconda3\\envs\\py310\\lib\\site-packages\\cffi-1.15.0.dist-info\n",
      "C:\\Compilers\\Anaconda3\\envs\\py310\\lib\\site-packages\\charset_normalizer\n",
      "C:\\Compilers\\Anaconda3\\envs\\py310\\lib\\site-packages\\charset_normalizer-2.0.8.dist-info\n",
      "C:\\Compilers\\Anaconda3\\envs\\py310\\lib\\site-packages\\colorama\n",
      "C:\\Compilers\\Anaconda3\\envs\\py310\\lib\\site-packages\\colorama-0.4.4.dist-info\n",
      "C:\\Compilers\\Anaconda3\\envs\\py310\\lib\\site-packages\\cryptography\n",
      "C:\\Compilers\\Anaconda3\\envs\\py310\\lib\\site-packages\\cryptography-36.0.0.dist-info\n",
      "C:\\Compilers\\Anaconda3\\envs\\py310\\lib\\site-packages\\cycler-0.11.0.dist-info\n",
      "C:\\Compilers\\Anaconda3\\envs\\py310\\lib\\site-packages\\cycler.py\n",
      "C:\\Compilers\\Anaconda3\\envs\\py310\\lib\\site-packages\\dateutil\n",
      "C:\\Compilers\\Anaconda3\\envs\\py310\\lib\\site-packages\\debugpy\n",
      "C:\\Compilers\\Anaconda3\\envs\\py310\\lib\\site-packages\\debugpy-1.5.1.dist-info\n",
      "C:\\Compilers\\Anaconda3\\envs\\py310\\lib\\site-packages\\decorator-5.1.0.dist-info\n",
      "C:\\Compilers\\Anaconda3\\envs\\py310\\lib\\site-packages\\decorator.py\n",
      "C:\\Compilers\\Anaconda3\\envs\\py310\\lib\\site-packages\\defusedxml\n",
      "C:\\Compilers\\Anaconda3\\envs\\py310\\lib\\site-packages\\defusedxml-0.7.1.dist-info\n",
      "C:\\Compilers\\Anaconda3\\envs\\py310\\lib\\site-packages\\distutils-precedence.pth\n",
      "C:\\Compilers\\Anaconda3\\envs\\py310\\lib\\site-packages\\entrypoints-0.3.dist-info\n",
      "C:\\Compilers\\Anaconda3\\envs\\py310\\lib\\site-packages\\entrypoints.py\n",
      "C:\\Compilers\\Anaconda3\\envs\\py310\\lib\\site-packages\\fontTools\n",
      "C:\\Compilers\\Anaconda3\\envs\\py310\\lib\\site-packages\\fonttools-4.28.2.dist-info\n",
      "C:\\Compilers\\Anaconda3\\envs\\py310\\lib\\site-packages\\idna\n",
      "C:\\Compilers\\Anaconda3\\envs\\py310\\lib\\site-packages\\idna-3.1.dist-info\n",
      "C:\\Compilers\\Anaconda3\\envs\\py310\\lib\\site-packages\\importlib_metadata\n",
      "C:\\Compilers\\Anaconda3\\envs\\py310\\lib\\site-packages\\importlib_metadata-4.8.2.dist-info\n",
      "C:\\Compilers\\Anaconda3\\envs\\py310\\lib\\site-packages\\importlib_resources\n",
      "C:\\Compilers\\Anaconda3\\envs\\py310\\lib\\site-packages\\importlib_resources-5.4.0.dist-info\n",
      "C:\\Compilers\\Anaconda3\\envs\\py310\\lib\\site-packages\\ipykernel\n",
      "C:\\Compilers\\Anaconda3\\envs\\py310\\lib\\site-packages\\ipykernel-6.5.0.dist-info\n",
      "C:\\Compilers\\Anaconda3\\envs\\py310\\lib\\site-packages\\ipykernel_launcher.py\n",
      "C:\\Compilers\\Anaconda3\\envs\\py310\\lib\\site-packages\\IPython\n",
      "C:\\Compilers\\Anaconda3\\envs\\py310\\lib\\site-packages\\ipython-7.30.0.dist-info\n",
      "C:\\Compilers\\Anaconda3\\envs\\py310\\lib\\site-packages\\ipython_genutils\n",
      "C:\\Compilers\\Anaconda3\\envs\\py310\\lib\\site-packages\\ipython_genutils-0.2.0-py2.7.egg-info\n",
      "C:\\Compilers\\Anaconda3\\envs\\py310\\lib\\site-packages\\ipywidgets\n",
      "C:\\Compilers\\Anaconda3\\envs\\py310\\lib\\site-packages\\ipywidgets-7.6.5.dist-info\n",
      "C:\\Compilers\\Anaconda3\\envs\\py310\\lib\\site-packages\\isapi\n",
      "C:\\Compilers\\Anaconda3\\envs\\py310\\lib\\site-packages\\jedi\n",
      "C:\\Compilers\\Anaconda3\\envs\\py310\\lib\\site-packages\\jedi-0.18.1.dist-info\n",
      "C:\\Compilers\\Anaconda3\\envs\\py310\\lib\\site-packages\\jinja2\n",
      "C:\\Compilers\\Anaconda3\\envs\\py310\\lib\\site-packages\\Jinja2-3.0.3.dist-info\n",
      "C:\\Compilers\\Anaconda3\\envs\\py310\\lib\\site-packages\\joblib\n",
      "C:\\Compilers\\Anaconda3\\envs\\py310\\lib\\site-packages\\joblib-1.1.0.dist-info\n",
      "C:\\Compilers\\Anaconda3\\envs\\py310\\lib\\site-packages\\json5\n",
      "C:\\Compilers\\Anaconda3\\envs\\py310\\lib\\site-packages\\json5-0.9.5.dist-info\n",
      "C:\\Compilers\\Anaconda3\\envs\\py310\\lib\\site-packages\\jsonschema\n",
      "C:\\Compilers\\Anaconda3\\envs\\py310\\lib\\site-packages\\jsonschema-4.2.1.dist-info\n",
      "C:\\Compilers\\Anaconda3\\envs\\py310\\lib\\site-packages\\jupyter-1.0.0.dist-info\n",
      "C:\\Compilers\\Anaconda3\\envs\\py310\\lib\\site-packages\\jupyter.py\n",
      "C:\\Compilers\\Anaconda3\\envs\\py310\\lib\\site-packages\\jupyterlab\n",
      "C:\\Compilers\\Anaconda3\\envs\\py310\\lib\\site-packages\\jupyterlab-3.2.4.dist-info\n",
      "C:\\Compilers\\Anaconda3\\envs\\py310\\lib\\site-packages\\jupyterlab_plotly\n",
      "C:\\Compilers\\Anaconda3\\envs\\py310\\lib\\site-packages\\jupyterlab_pygments\n",
      "C:\\Compilers\\Anaconda3\\envs\\py310\\lib\\site-packages\\jupyterlab_pygments-0.1.2.dist-info\n",
      "C:\\Compilers\\Anaconda3\\envs\\py310\\lib\\site-packages\\jupyterlab_server\n",
      "C:\\Compilers\\Anaconda3\\envs\\py310\\lib\\site-packages\\jupyterlab_server-2.8.2.dist-info\n",
      "C:\\Compilers\\Anaconda3\\envs\\py310\\lib\\site-packages\\jupyterlab_widgets\n",
      "C:\\Compilers\\Anaconda3\\envs\\py310\\lib\\site-packages\\jupyterlab_widgets-1.0.2.dist-info\n",
      "C:\\Compilers\\Anaconda3\\envs\\py310\\lib\\site-packages\\jupyter_client\n",
      "C:\\Compilers\\Anaconda3\\envs\\py310\\lib\\site-packages\\jupyter_client-7.1.0.dist-info\n",
      "C:\\Compilers\\Anaconda3\\envs\\py310\\lib\\site-packages\\jupyter_console\n",
      "C:\\Compilers\\Anaconda3\\envs\\py310\\lib\\site-packages\\jupyter_console-6.4.0.dist-info\n",
      "C:\\Compilers\\Anaconda3\\envs\\py310\\lib\\site-packages\\jupyter_core\n",
      "C:\\Compilers\\Anaconda3\\envs\\py310\\lib\\site-packages\\jupyter_core-4.9.1.dist-info\n",
      "C:\\Compilers\\Anaconda3\\envs\\py310\\lib\\site-packages\\jupyter_server\n",
      "C:\\Compilers\\Anaconda3\\envs\\py310\\lib\\site-packages\\jupyter_server-1.12.1.dist-info\n",
      "C:\\Compilers\\Anaconda3\\envs\\py310\\lib\\site-packages\\kiwisolver-1.3.2.dist-info\n",
      "C:\\Compilers\\Anaconda3\\envs\\py310\\lib\\site-packages\\kiwisolver.cp310-win_amd64.pyd\n",
      "C:\\Compilers\\Anaconda3\\envs\\py310\\lib\\site-packages\\markupsafe\n",
      "C:\\Compilers\\Anaconda3\\envs\\py310\\lib\\site-packages\\MarkupSafe-2.0.1.dist-info\n",
      "C:\\Compilers\\Anaconda3\\envs\\py310\\lib\\site-packages\\matplotlib\n",
      "C:\\Compilers\\Anaconda3\\envs\\py310\\lib\\site-packages\\matplotlib-3.5.0-py3.10-nspkg.pth\n",
      "C:\\Compilers\\Anaconda3\\envs\\py310\\lib\\site-packages\\matplotlib-3.5.0.dist-info\n",
      "C:\\Compilers\\Anaconda3\\envs\\py310\\lib\\site-packages\\matplotlib_inline\n",
      "C:\\Compilers\\Anaconda3\\envs\\py310\\lib\\site-packages\\matplotlib_inline-0.1.3.dist-info\n",
      "C:\\Compilers\\Anaconda3\\envs\\py310\\lib\\site-packages\\mistune-0.8.4.dist-info\n",
      "C:\\Compilers\\Anaconda3\\envs\\py310\\lib\\site-packages\\mistune.py\n",
      "C:\\Compilers\\Anaconda3\\envs\\py310\\lib\\site-packages\\mpl_toolkits\n",
      "C:\\Compilers\\Anaconda3\\envs\\py310\\lib\\site-packages\\munkres-1.1.4-py3.6.egg-info\n",
      "C:\\Compilers\\Anaconda3\\envs\\py310\\lib\\site-packages\\munkres.py\n",
      "C:\\Compilers\\Anaconda3\\envs\\py310\\lib\\site-packages\\nbclassic\n",
      "C:\\Compilers\\Anaconda3\\envs\\py310\\lib\\site-packages\\nbclassic-0.3.4.dist-info\n",
      "C:\\Compilers\\Anaconda3\\envs\\py310\\lib\\site-packages\\nbclient\n",
      "C:\\Compilers\\Anaconda3\\envs\\py310\\lib\\site-packages\\nbclient-0.5.9.dist-info\n",
      "C:\\Compilers\\Anaconda3\\envs\\py310\\lib\\site-packages\\nbconvert\n",
      "C:\\Compilers\\Anaconda3\\envs\\py310\\lib\\site-packages\\nbconvert-6.3.0.dist-info\n",
      "C:\\Compilers\\Anaconda3\\envs\\py310\\lib\\site-packages\\nbformat\n",
      "C:\\Compilers\\Anaconda3\\envs\\py310\\lib\\site-packages\\nbformat-5.1.3.dist-info\n",
      "C:\\Compilers\\Anaconda3\\envs\\py310\\lib\\site-packages\\nest_asyncio-1.5.4.dist-info\n",
      "C:\\Compilers\\Anaconda3\\envs\\py310\\lib\\site-packages\\nest_asyncio.py\n",
      "C:\\Compilers\\Anaconda3\\envs\\py310\\lib\\site-packages\\notebook\n",
      "C:\\Compilers\\Anaconda3\\envs\\py310\\lib\\site-packages\\notebook-6.4.6.dist-info\n",
      "C:\\Compilers\\Anaconda3\\envs\\py310\\lib\\site-packages\\numpy\n",
      "C:\\Compilers\\Anaconda3\\envs\\py310\\lib\\site-packages\\numpy-1.21.4.dist-info\n",
      "C:\\Compilers\\Anaconda3\\envs\\py310\\lib\\site-packages\\olefile\n",
      "C:\\Compilers\\Anaconda3\\envs\\py310\\lib\\site-packages\\olefile-0.46.dist-info\n",
      "C:\\Compilers\\Anaconda3\\envs\\py310\\lib\\site-packages\\OpenSSL\n",
      "C:\\Compilers\\Anaconda3\\envs\\py310\\lib\\site-packages\\packaging\n",
      "C:\\Compilers\\Anaconda3\\envs\\py310\\lib\\site-packages\\packaging-21.3.dist-info\n",
      "C:\\Compilers\\Anaconda3\\envs\\py310\\lib\\site-packages\\pandas\n",
      "C:\\Compilers\\Anaconda3\\envs\\py310\\lib\\site-packages\\pandas-1.3.4.dist-info\n",
      "C:\\Compilers\\Anaconda3\\envs\\py310\\lib\\site-packages\\pandocfilters-1.5.0.dist-info\n",
      "C:\\Compilers\\Anaconda3\\envs\\py310\\lib\\site-packages\\pandocfilters.py\n",
      "C:\\Compilers\\Anaconda3\\envs\\py310\\lib\\site-packages\\parso\n",
      "C:\\Compilers\\Anaconda3\\envs\\py310\\lib\\site-packages\\parso-0.8.3.dist-info\n",
      "C:\\Compilers\\Anaconda3\\envs\\py310\\lib\\site-packages\\patsy\n",
      "C:\\Compilers\\Anaconda3\\envs\\py310\\lib\\site-packages\\patsy-0.5.2.dist-info\n",
      "C:\\Compilers\\Anaconda3\\envs\\py310\\lib\\site-packages\\pickleshare-0.7.5.dist-info\n",
      "C:\\Compilers\\Anaconda3\\envs\\py310\\lib\\site-packages\\pickleshare.py\n",
      "C:\\Compilers\\Anaconda3\\envs\\py310\\lib\\site-packages\\PIL\n",
      "C:\\Compilers\\Anaconda3\\envs\\py310\\lib\\site-packages\\Pillow-8.4.0.dist-info\n",
      "C:\\Compilers\\Anaconda3\\envs\\py310\\lib\\site-packages\\pip\n",
      "C:\\Compilers\\Anaconda3\\envs\\py310\\lib\\site-packages\\pip-21.3.1-py3.9.egg-info\n",
      "C:\\Compilers\\Anaconda3\\envs\\py310\\lib\\site-packages\\pkg_resources\n",
      "C:\\Compilers\\Anaconda3\\envs\\py310\\lib\\site-packages\\plotly\n",
      "C:\\Compilers\\Anaconda3\\envs\\py310\\lib\\site-packages\\plotly-5.4.0.dist-info\n",
      "C:\\Compilers\\Anaconda3\\envs\\py310\\lib\\site-packages\\prometheus_client\n",
      "C:\\Compilers\\Anaconda3\\envs\\py310\\lib\\site-packages\\prometheus_client-0.12.0.dist-info\n",
      "C:\\Compilers\\Anaconda3\\envs\\py310\\lib\\site-packages\\prompt_toolkit\n",
      "C:\\Compilers\\Anaconda3\\envs\\py310\\lib\\site-packages\\prompt_toolkit-3.0.22.dist-info\n",
      "C:\\Compilers\\Anaconda3\\envs\\py310\\lib\\site-packages\\pvectorc.cp310-win_amd64.pyd\n",
      "C:\\Compilers\\Anaconda3\\envs\\py310\\lib\\site-packages\\pycparser\n",
      "C:\\Compilers\\Anaconda3\\envs\\py310\\lib\\site-packages\\pycparser-2.21.dist-info\n",
      "C:\\Compilers\\Anaconda3\\envs\\py310\\lib\\site-packages\\pygments\n",
      "C:\\Compilers\\Anaconda3\\envs\\py310\\lib\\site-packages\\Pygments-2.10.0.dist-info\n",
      "C:\\Compilers\\Anaconda3\\envs\\py310\\lib\\site-packages\\pylab.py\n",
      "C:\\Compilers\\Anaconda3\\envs\\py310\\lib\\site-packages\\pyOpenSSL-21.0.0.dist-info\n",
      "C:\\Compilers\\Anaconda3\\envs\\py310\\lib\\site-packages\\pyparsing\n",
      "C:\\Compilers\\Anaconda3\\envs\\py310\\lib\\site-packages\\pyparsing-3.0.6.dist-info\n",
      "C:\\Compilers\\Anaconda3\\envs\\py310\\lib\\site-packages\\PyQt5\n",
      "C:\\Compilers\\Anaconda3\\envs\\py310\\lib\\site-packages\\PyQt5-5.12.3.dist-info\n",
      "C:\\Compilers\\Anaconda3\\envs\\py310\\lib\\site-packages\\PyQt5_sip-4.19.18.dist-info\n",
      "C:\\Compilers\\Anaconda3\\envs\\py310\\lib\\site-packages\\PyQtChart-5.12.dist-info\n",
      "C:\\Compilers\\Anaconda3\\envs\\py310\\lib\\site-packages\\PyQtWebEngine-5.12.1.dist-info\n",
      "C:\\Compilers\\Anaconda3\\envs\\py310\\lib\\site-packages\\pyrsistent\n",
      "C:\\Compilers\\Anaconda3\\envs\\py310\\lib\\site-packages\\pyrsistent-0.18.0.dist-info\n",
      "C:\\Compilers\\Anaconda3\\envs\\py310\\lib\\site-packages\\PySocks-1.7.1.dist-info\n",
      "C:\\Compilers\\Anaconda3\\envs\\py310\\lib\\site-packages\\pythoncom.py\n",
      "C:\\Compilers\\Anaconda3\\envs\\py310\\lib\\site-packages\\pythonwin\n",
      "C:\\Compilers\\Anaconda3\\envs\\py310\\lib\\site-packages\\python_dateutil-2.8.2.dist-info\n",
      "C:\\Compilers\\Anaconda3\\envs\\py310\\lib\\site-packages\\pytz\n",
      "C:\\Compilers\\Anaconda3\\envs\\py310\\lib\\site-packages\\pytz-2021.3.dist-info\n",
      "C:\\Compilers\\Anaconda3\\envs\\py310\\lib\\site-packages\\pywin32-302-py3.10.egg-info\n",
      "C:\\Compilers\\Anaconda3\\envs\\py310\\lib\\site-packages\\pywin32.pth\n",
      "C:\\Compilers\\Anaconda3\\envs\\py310\\lib\\site-packages\\pywin32.version.txt\n",
      "C:\\Compilers\\Anaconda3\\envs\\py310\\lib\\site-packages\\pywin32_system32\n",
      "C:\\Compilers\\Anaconda3\\envs\\py310\\lib\\site-packages\\pywinpty-1.1.6.dist-info\n",
      "C:\\Compilers\\Anaconda3\\envs\\py310\\lib\\site-packages\\pyzmq-22.3.0.dist-info\n",
      "C:\\Compilers\\Anaconda3\\envs\\py310\\lib\\site-packages\\qtconsole\n",
      "C:\\Compilers\\Anaconda3\\envs\\py310\\lib\\site-packages\\qtconsole-5.2.1.dist-info\n",
      "C:\\Compilers\\Anaconda3\\envs\\py310\\lib\\site-packages\\qtpy\n",
      "C:\\Compilers\\Anaconda3\\envs\\py310\\lib\\site-packages\\QtPy-1.11.2.dist-info\n",
      "C:\\Compilers\\Anaconda3\\envs\\py310\\lib\\site-packages\\README.txt\n",
      "C:\\Compilers\\Anaconda3\\envs\\py310\\lib\\site-packages\\requests\n",
      "C:\\Compilers\\Anaconda3\\envs\\py310\\lib\\site-packages\\requests-2.26.0.dist-info\n",
      "C:\\Compilers\\Anaconda3\\envs\\py310\\lib\\site-packages\\scikit_learn-1.0.1.dist-info\n",
      "C:\\Compilers\\Anaconda3\\envs\\py310\\lib\\site-packages\\scipy\n",
      "C:\\Compilers\\Anaconda3\\envs\\py310\\lib\\site-packages\\scipy-1.7.3.dist-info\n",
      "C:\\Compilers\\Anaconda3\\envs\\py310\\lib\\site-packages\\seaborn\n",
      "C:\\Compilers\\Anaconda3\\envs\\py310\\lib\\site-packages\\seaborn-0.11.2.dist-info\n",
      "C:\\Compilers\\Anaconda3\\envs\\py310\\lib\\site-packages\\send2trash\n",
      "C:\\Compilers\\Anaconda3\\envs\\py310\\lib\\site-packages\\Send2Trash-1.8.0.dist-info\n",
      "C:\\Compilers\\Anaconda3\\envs\\py310\\lib\\site-packages\\setuptools\n",
      "C:\\Compilers\\Anaconda3\\envs\\py310\\lib\\site-packages\\setuptools-59.4.0-py3.10.egg-info\n",
      "C:\\Compilers\\Anaconda3\\envs\\py310\\lib\\site-packages\\sipconfig.py\n",
      "C:\\Compilers\\Anaconda3\\envs\\py310\\lib\\site-packages\\sipdistutils.py\n",
      "C:\\Compilers\\Anaconda3\\envs\\py310\\lib\\site-packages\\six-1.16.0.dist-info\n",
      "C:\\Compilers\\Anaconda3\\envs\\py310\\lib\\site-packages\\six.py\n",
      "C:\\Compilers\\Anaconda3\\envs\\py310\\lib\\site-packages\\sklearn\n",
      "C:\\Compilers\\Anaconda3\\envs\\py310\\lib\\site-packages\\sniffio\n",
      "C:\\Compilers\\Anaconda3\\envs\\py310\\lib\\site-packages\\sniffio-1.2.0.dist-info\n",
      "C:\\Compilers\\Anaconda3\\envs\\py310\\lib\\site-packages\\socks.py\n",
      "C:\\Compilers\\Anaconda3\\envs\\py310\\lib\\site-packages\\sockshandler.py\n",
      "C:\\Compilers\\Anaconda3\\envs\\py310\\lib\\site-packages\\statsmodels\n",
      "C:\\Compilers\\Anaconda3\\envs\\py310\\lib\\site-packages\\statsmodels-0.13.1.dist-info\n",
      "C:\\Compilers\\Anaconda3\\envs\\py310\\lib\\site-packages\\tenacity\n",
      "C:\\Compilers\\Anaconda3\\envs\\py310\\lib\\site-packages\\tenacity-8.0.1.dist-info\n",
      "C:\\Compilers\\Anaconda3\\envs\\py310\\lib\\site-packages\\terminado\n",
      "C:\\Compilers\\Anaconda3\\envs\\py310\\lib\\site-packages\\terminado-0.12.1.dist-info\n",
      "C:\\Compilers\\Anaconda3\\envs\\py310\\lib\\site-packages\\testpath\n",
      "C:\\Compilers\\Anaconda3\\envs\\py310\\lib\\site-packages\\testpath-0.5.0.dist-info\n",
      "C:\\Compilers\\Anaconda3\\envs\\py310\\lib\\site-packages\\threadpoolctl-3.0.0.dist-info\n",
      "C:\\Compilers\\Anaconda3\\envs\\py310\\lib\\site-packages\\threadpoolctl.py\n",
      "C:\\Compilers\\Anaconda3\\envs\\py310\\lib\\site-packages\\tornado\n",
      "C:\\Compilers\\Anaconda3\\envs\\py310\\lib\\site-packages\\tornado-6.1.dist-info\n",
      "C:\\Compilers\\Anaconda3\\envs\\py310\\lib\\site-packages\\traitlets\n",
      "C:\\Compilers\\Anaconda3\\envs\\py310\\lib\\site-packages\\traitlets-5.1.1.dist-info\n",
      "C:\\Compilers\\Anaconda3\\envs\\py310\\lib\\site-packages\\urllib3\n",
      "C:\\Compilers\\Anaconda3\\envs\\py310\\lib\\site-packages\\urllib3-1.26.7.dist-info\n",
      "C:\\Compilers\\Anaconda3\\envs\\py310\\lib\\site-packages\\wcwidth\n",
      "C:\\Compilers\\Anaconda3\\envs\\py310\\lib\\site-packages\\wcwidth-0.2.5.dist-info\n",
      "C:\\Compilers\\Anaconda3\\envs\\py310\\lib\\site-packages\\webencodings\n",
      "C:\\Compilers\\Anaconda3\\envs\\py310\\lib\\site-packages\\webencodings-0.5.1-py2.7.egg-info\n",
      "C:\\Compilers\\Anaconda3\\envs\\py310\\lib\\site-packages\\websocket\n",
      "C:\\Compilers\\Anaconda3\\envs\\py310\\lib\\site-packages\\websocket_client-1.2.1.dist-info\n",
      "C:\\Compilers\\Anaconda3\\envs\\py310\\lib\\site-packages\\wheel\n",
      "C:\\Compilers\\Anaconda3\\envs\\py310\\lib\\site-packages\\wheel-0.37.0-py3.9.egg-info\n",
      "C:\\Compilers\\Anaconda3\\envs\\py310\\lib\\site-packages\\widgetsnbextension\n",
      "C:\\Compilers\\Anaconda3\\envs\\py310\\lib\\site-packages\\widgetsnbextension-3.5.2.dist-info\n",
      "C:\\Compilers\\Anaconda3\\envs\\py310\\lib\\site-packages\\win32\n",
      "C:\\Compilers\\Anaconda3\\envs\\py310\\lib\\site-packages\\win32com\n",
      "C:\\Compilers\\Anaconda3\\envs\\py310\\lib\\site-packages\\win32comext\n",
      "C:\\Compilers\\Anaconda3\\envs\\py310\\lib\\site-packages\\winpty\n",
      "C:\\Compilers\\Anaconda3\\envs\\py310\\lib\\site-packages\\win_inet_pton-1.1.0.dist-info\n",
      "C:\\Compilers\\Anaconda3\\envs\\py310\\lib\\site-packages\\win_inet_pton.py\n",
      "C:\\Compilers\\Anaconda3\\envs\\py310\\lib\\site-packages\\zipp-3.6.0.dist-info\n",
      "C:\\Compilers\\Anaconda3\\envs\\py310\\lib\\site-packages\\zipp.py\n",
      "C:\\Compilers\\Anaconda3\\envs\\py310\\lib\\site-packages\\zmq\n",
      "C:\\Compilers\\Anaconda3\\envs\\py310\\lib\\site-packages\\_cffi_backend.cp310-win_amd64.pyd\n",
      "C:\\Compilers\\Anaconda3\\envs\\py310\\lib\\site-packages\\_distutils_hack\n",
      "C:\\Compilers\\Anaconda3\\envs\\py310\\lib\\site-packages\\_plotly_future_\n",
      "C:\\Compilers\\Anaconda3\\envs\\py310\\lib\\site-packages\\_plotly_utils\n",
      "C:\\Compilers\\Anaconda3\\envs\\py310\\lib\\site-packages\\_pyrsistent_version.py\n",
      "C:\\Compilers\\Anaconda3\\envs\\py310\\lib\\site-packages\\__pycache__\n"
     ]
    }
   ],
   "source": [
    "dir_name = os.path.dirname(sys.argv[0])\n",
    "for filename in os.listdir(dir_name):\n",
    "    oldpath = os.path.join(dir_name, filename)\n",
    "    print(oldpath)\n"
   ]
  },
  {
   "cell_type": "code",
   "execution_count": 8,
   "metadata": {},
   "outputs": [
    {
     "data": {
      "text/plain": [
       "'C:\\\\Compilers\\\\Anaconda3\\\\envs\\\\py310\\\\lib\\\\site-packages\\\\ipykernel_launcher.py'"
      ]
     },
     "execution_count": 8,
     "metadata": {},
     "output_type": "execute_result"
    }
   ],
   "source": [
    "sys.argv[0]\n"
   ]
  },
  {
   "cell_type": "code",
   "execution_count": 9,
   "metadata": {},
   "outputs": [
    {
     "name": "stdout",
     "output_type": "stream",
     "text": [
      "{frozenset({'a'}), frozenset({'b', 'a'}), frozenset({'c', 'a'}), frozenset({'c', 'b'}), frozenset({'c'}), frozenset({'b'}), frozenset({'c', 'b', 'a'}), frozenset()}\n",
      "((), ('a',), ('b',), ('c',), ('a', 'b'), ('a', 'c'), ('b', 'c'), ('a', 'b', 'c'))\n"
     ]
    }
   ],
   "source": [
    "def _powerset(s):\n",
    "    \"\"\" A generator yielding the power set of the items in the sequence s. \"\"\"\n",
    "    if len(s) <= 1:\n",
    "        yield s  # The singleton set\n",
    "        yield ()  # The empty set\n",
    "    else:\n",
    "        # Loop over the elements in the power set formed from all the items\n",
    "        # after the first in s and yield them with and without this first one.\n",
    "        for item in _powerset(s[1:]):\n",
    "            yield (s[0],) + item\n",
    "            yield item\n",
    "\n",
    "\n",
    "def powerset(s):\n",
    "    \"\"\" A generator returning all the subsets of the set s. \"\"\"\n",
    "    return set((frozenset(_s) for _s in _powerset(tuple(s))))\n",
    "\n",
    "\n",
    "S = {\"a\", \"b\", \"c\"}\n",
    "P = powerset(S)\n",
    "\n",
    "print(P)\n",
    "# An alternative, nicer way to print the powerset: sorted by cardinality of\n",
    "# subsets and then by subset elements (assuming they can be ordered)\n",
    "print(tuple(sorted((tuple(sorted(s)) for s in P), key=lambda s: (len(s), s))))\n"
   ]
  },
  {
   "cell_type": "markdown",
   "metadata": {},
   "source": [
    "### P4.4.2\n"
   ]
  },
  {
   "cell_type": "code",
   "execution_count": 10,
   "metadata": {},
   "outputs": [
    {
     "name": "stdout",
     "output_type": "stream",
     "text": [
      "OK\n",
      "C:\\Users\\Cenk\\OneDrive\\Documents\\CourseMaterial\\Python\\SciPythonBook\n"
     ]
    }
   ],
   "source": [
    "dir_name = \"C:/Users/Cenk/OneDrive/Documents/CourseMaterial/Python/SciPythonBook/test\"\n",
    "\n",
    "try:\n",
    "    os.mkdir(dir_name)\n",
    "except:\n",
    "    print(\"OK\")\n",
    "\n",
    "os.chdir(dir_name)\n",
    "for i in range(5):\n",
    "    file_name = f\"fig{i:02d}.svg\"\n",
    "    with open(file_name, \"w\") as f:\n",
    "        print(\n",
    "            \"\"\"<?xml version=\"1.0\" encoding=\"utf-8\"?>\n",
    "                    <svg xmlns=\"http://www.w3.org/2000/svg\"\n",
    "                        xmlns:xlink=\"http://www.w3.org/1999/xlink\"\n",
    "                        width=\"500\" height=\"500\" style=\"background: #ffffff\">\"\"\",\n",
    "            file=f,\n",
    "        )\n",
    "        print(\n",
    "            f\"\"\"<circle cx=\"{(i+1)*250}\"\" cy=\"250.0\" r=\"200\" style=\"stroke: black; stroke -width: 2px; fill: none;\" >\"\"\",\n",
    "            file=f,\n",
    "        )\n",
    "        print(\"\"\"<circle cx=\"430.0\" cy=\"250.0\" r=\"20\" style=\"stroke: red; fill: red;\"/>\"\"\", file=f)\n",
    "        print(\"</svg>\", file=f)\n",
    "        f.close()\n",
    "\n",
    "os.chdir(\"../\")\n",
    "print(os.getcwd())\n"
   ]
  },
  {
   "cell_type": "markdown",
   "metadata": {},
   "source": [
    "## Modules\n"
   ]
  },
  {
   "cell_type": "code",
   "execution_count": 11,
   "metadata": {},
   "outputs": [],
   "source": [
    "import random\n"
   ]
  },
  {
   "cell_type": "code",
   "execution_count": 12,
   "metadata": {},
   "outputs": [
    {
     "name": "stdout",
     "output_type": "stream",
     "text": [
      "0.5668547461611922\n",
      "3.9518107735028885\n",
      "6\n",
      "3\n",
      "[1, 2, 4]\n",
      "[6, 5, 7]\n",
      "3.6158025859375593\n"
     ]
    }
   ],
   "source": [
    "print(random.random())  # uniform random btw 0-1\n",
    "print(random.uniform(2, 4))  # uniform random btw x-y\n",
    "print(random.randint(3, 8))  # uniform random int btw x-y\n",
    "print(random.choice([1, 2, 3, 4]))  # random selection from list\n",
    "print(random.choices([1, 2, 3, 4], k=3))  # random selections from list with replacement\n",
    "print(random.sample([3, 5, 6, 7], 3))  # random selections from list without replacement\n",
    "print(random.normalvariate(3.4, 1))  # normal distribution mu and sigma\n",
    "\n"
   ]
  },
  {
   "cell_type": "code",
   "execution_count": 13,
   "metadata": {},
   "outputs": [
    {
     "data": {
      "text/plain": [
       "['f', 6, 3, 'w']"
      ]
     },
     "execution_count": 13,
     "metadata": {},
     "output_type": "execute_result"
    }
   ],
   "source": [
    "sq = [3, 6, \"w\", \"f\"]\n",
    "random.shuffle(sq)  # inplace\n",
    "sq\n"
   ]
  },
  {
   "cell_type": "markdown",
   "metadata": {},
   "source": [
    "### E4.17\n"
   ]
  },
  {
   "cell_type": "code",
   "execution_count": 14,
   "metadata": {},
   "outputs": [
    {
     "name": "stdout",
     "output_type": "stream",
     "text": [
      "With switching = 35.00%,      Without switching = 65.00%\n"
     ]
    }
   ],
   "source": [
    "def run_trail():\n",
    "\n",
    "    door_list = [1, 2, 3]\n",
    "    prize_door = random.randint(1, 3)\n",
    "    choose_door = random.randint(1, 3)\n",
    "    door_list.remove(choose_door)\n",
    "\n",
    "    if prize_door in door_list:\n",
    "        door_list.remove(prize_door)\n",
    "\n",
    "    open_door = random.choice(door_list)\n",
    "\n",
    "    return choose_door, prize_door, open_door\n",
    "\n",
    "\n",
    "def run_exp(n):\n",
    "    nochange = 0\n",
    "    change = 0\n",
    "    for i in range(n):\n",
    "        choose_door, prize_door, open_door = run_trail()\n",
    "        if choose_door == prize_door:\n",
    "            nochange += 1\n",
    "        else:\n",
    "            change += 1\n",
    "\n",
    "    return nochange / n, change / n\n",
    "\n",
    "\n",
    "a, b = run_exp(100)\n",
    "print(f\"With switching = {a*100:.2f}%,      Without switching = {b*100:.2f}%\")\n",
    "\n"
   ]
  },
  {
   "cell_type": "code",
   "execution_count": 15,
   "metadata": {},
   "outputs": [
    {
     "name": "stdout",
     "output_type": "stream",
     "text": [
      "Monty Hall Problem with 3 doors\n",
      "Proportion of wins without switching: 0.3100\n",
      "Proportion of wins with switching: 0.6800\n"
     ]
    }
   ],
   "source": [
    "def run_trial(switch_doors, ndoors=3):\n",
    "    \"\"\"\n",
    "    Run a single trial of the Monty Hall problem , with or without switching\n",
    "    after the game show host reveals a goat behind one of the unchosen doors.\n",
    "    (switch_doors is True or False). The car is behind door number 1 and the\n",
    "    game show host knows that. Returns True for a win, otherwise returns False.\n",
    "    \"\"\"\n",
    "    # Pick a random door out of the ndoors available.\n",
    "    chosen_door = random.randint(1, ndoors)\n",
    "    if switch_doors:\n",
    "        # Reveal a goat.\n",
    "        revealed_door = 3 if chosen_door == 2 else 2\n",
    "        # Make the switch by choosing any other door than the initially\n",
    "        # selected one and the one just opened to reveal a goat.\n",
    "        available_doors = [\n",
    "            dnum for dnum in range(1, ndoors + 1) if dnum not in (chosen_door, revealed_door)\n",
    "        ]\n",
    "        chosen_door = random.choice(available_doors)\n",
    "    # You win if you picked door number 1.\n",
    "    return chosen_door == 1\n",
    "\n",
    "\n",
    "def run_trials(ntrials, switch_doors, ndoors=3):\n",
    "    \"\"\"\n",
    "    Run ntrials iterations of the Monty Hall problem with ndoors doors, with\n",
    "    and without switching (switch_doors = True or False). Returns the number\n",
    "    of trials which resulted in winning the car by picking door number 1.\n",
    "    \"\"\"\n",
    "    nwins = 0\n",
    "    for i in range(ntrials):\n",
    "        if run_trial(switch_doors, ndoors):\n",
    "            nwins += 1\n",
    "    return nwins\n",
    "\n",
    "\n",
    "ndoors, ntrials = 3, 100\n",
    "nwins_without_switch = run_trials(ntrials, False, ndoors)\n",
    "nwins_with_switch = run_trials(ntrials, True, ndoors)\n",
    "print(\"Monty Hall Problem with {} doors\".format(ndoors))\n",
    "print(\"Proportion of wins without switching: {:.4f}\".format(nwins_without_switch / ntrials))\n",
    "print(\"Proportion of wins with switching: {:.4f}\".format(nwins_with_switch / ntrials))\n",
    "\n"
   ]
  },
  {
   "cell_type": "code",
   "execution_count": 16,
   "metadata": {},
   "outputs": [],
   "source": [
    "import urllib.request\n",
    "\n",
    "req = urllib.request.Request(\"https://www.wikipedia.org\")\n",
    "response = urllib.request.urlopen(req)\n",
    "content = response.read()\n",
    "# charset = response.headers.get_param(\"meta charset\")\n",
    "html = content.decode(\"utf-8\")\n"
   ]
  },
  {
   "cell_type": "code",
   "execution_count": 17,
   "metadata": {},
   "outputs": [
    {
     "data": {
      "text/plain": [
       "'https://wikipedia.org/w/api.php?page=Monty_Python&prop=text&action=parse&section=0'"
      ]
     },
     "execution_count": 17,
     "metadata": {},
     "output_type": "execute_result"
    }
   ],
   "source": [
    "url = \"https://wikipedia.org/w/api.php\"\n",
    "data = {\"page\": \"Monty_Python\", \"prop\": \"text\", \"action\": \"parse\", \"section\": 0}\n",
    "encoded_data = urllib.parse.urlencode(data)\n",
    "full_url = url + \"?\" + encoded_data\n",
    "full_url\n"
   ]
  },
  {
   "cell_type": "code",
   "execution_count": 18,
   "metadata": {},
   "outputs": [],
   "source": [
    "req = urllib.request.Request(full_url)\n",
    "response = urllib.request.urlopen(req)\n",
    "html = response.read().decode(\"utf-8\")\n",
    "# html;\n",
    "\n"
   ]
  },
  {
   "cell_type": "code",
   "execution_count": 19,
   "metadata": {},
   "outputs": [
    {
     "data": {
      "text/plain": [
       "datetime.date(2021, 12, 2)"
      ]
     },
     "execution_count": 19,
     "metadata": {},
     "output_type": "execute_result"
    }
   ],
   "source": [
    "from datetime import datetime, date, time\n",
    "\n",
    "today = date.today()\n",
    "today\n"
   ]
  },
  {
   "cell_type": "code",
   "execution_count": 20,
   "metadata": {},
   "outputs": [
    {
     "data": {
      "text/plain": [
       "'Thu Dec  2 00:00:00 2021'"
      ]
     },
     "execution_count": 20,
     "metadata": {},
     "output_type": "execute_result"
    }
   ],
   "source": [
    "today.ctime()\n"
   ]
  },
  {
   "cell_type": "code",
   "execution_count": 21,
   "metadata": {},
   "outputs": [
    {
     "data": {
      "text/plain": [
       "'Thu Dec  2 16:43:21 2021'"
      ]
     },
     "execution_count": 21,
     "metadata": {},
     "output_type": "execute_result"
    }
   ],
   "source": [
    "now = datetime.now()\n",
    "now.ctime()\n"
   ]
  },
  {
   "cell_type": "code",
   "execution_count": 22,
   "metadata": {},
   "outputs": [
    {
     "data": {
      "text/plain": [
       "'\\n%a Abbreviated weekday (Sun, Mon, etc.)\\n%A Full weekday (Sunday, Monday, etc.)\\n%w Weekday number (0 = Sunday, 1 = Monday, . . . , 6 = Saturday)\\n%d Zero-padded day of month: 01, 02, 03, . . . , 31\\n%b Abbreviated month name (Jan, Feb, etc.)\\n%B Full month name (January, February, etc.)\\n%m Zero-padded month number: 01, 02, . . . , 12\\n%y Year without century (two-digit, zero-padded): 01, 02, . . . , 99\\n%Y Year with century (four-digit, zero-padded): 0001, 0002, . . . 9999\\n%H 24-hour clock hour, zero-padded: 00, 01, . . . , 23\\n%I 12-hour clock hour, zero-padded: 00, 01, . . . , 12\\n%p AM or PM (or locale equivalent)\\n%M Minutes (two-digit, zero-padded): 00, 01, . . . , 59\\n%S Seconds (two-digit, zero-padded): 00, 01, . . . , 59\\n%f Microseconds (six-digit, zero-padded): 000000, 000001, . . . , 999999\\n%% The literal % sign\\n'"
      ]
     },
     "execution_count": 22,
     "metadata": {},
     "output_type": "execute_result"
    }
   ],
   "source": [
    "\"\"\"\n",
    "%a Abbreviated weekday (Sun, Mon, etc.)\n",
    "%A Full weekday (Sunday, Monday, etc.)\n",
    "%w Weekday number (0 = Sunday, 1 = Monday, . . . , 6 = Saturday)\n",
    "%d Zero-padded day of month: 01, 02, 03, . . . , 31\n",
    "%b Abbreviated month name (Jan, Feb, etc.)\n",
    "%B Full month name (January, February, etc.)\n",
    "%m Zero-padded month number: 01, 02, . . . , 12\n",
    "%y Year without century (two-digit, zero-padded): 01, 02, . . . , 99\n",
    "%Y Year with century (four-digit, zero-padded): 0001, 0002, . . . 9999\n",
    "%H 24-hour clock hour, zero-padded: 00, 01, . . . , 23\n",
    "%I 12-hour clock hour, zero-padded: 00, 01, . . . , 12\n",
    "%p AM or PM (or locale equivalent)\n",
    "%M Minutes (two-digit, zero-padded): 00, 01, . . . , 59\n",
    "%S Seconds (two-digit, zero-padded): 00, 01, . . . , 59\n",
    "%f Microseconds (six-digit, zero-padded): 000000, 000001, . . . , 999999\n",
    "%% The literal % sign\n",
    "\"\"\"\n"
   ]
  },
  {
   "cell_type": "code",
   "execution_count": 23,
   "metadata": {},
   "outputs": [
    {
     "data": {
      "text/plain": [
       "'04:43:21 on 02/12/21'"
      ]
     },
     "execution_count": 23,
     "metadata": {},
     "output_type": "execute_result"
    }
   ],
   "source": [
    "now.strftime(\"%I:%M:%S on %d/%m/%y\")\n",
    "\n"
   ]
  },
  {
   "cell_type": "code",
   "execution_count": 24,
   "metadata": {},
   "outputs": [
    {
     "name": "stdout",
     "output_type": "stream",
     "text": [
      "1969-07-16 09:32:00\n"
     ]
    }
   ],
   "source": [
    "launch_time = datetime.strptime(\"09:32:00 July 16, 1969\", \"%H:%M:%S %B %d, %Y\")\n",
    "print(launch_time)\n"
   ]
  },
  {
   "cell_type": "markdown",
   "metadata": {},
   "source": [
    "## An Introduction to Object-Oriented Programming"
   ]
  },
  {
   "cell_type": "code",
   "execution_count": 25,
   "metadata": {},
   "outputs": [
    {
     "data": {
      "text/plain": [
       "'\\n\\nclass SubClass(BaseClass1, BaseClass2, ...):\\n............\\n\\ndef __ init __(self, customer , account_number , interest_rate , balance=0):\\n    \"Initialize the savings account. \"\\n    super().__ init __(customer , account_number , balance)\\n\\n'"
      ]
     },
     "execution_count": 25,
     "metadata": {},
     "output_type": "execute_result"
    }
   ],
   "source": [
    "\"\"\"\n",
    "\n",
    "class SubClass(BaseClass1, BaseClass2, ...):\n",
    "............\n",
    "\n",
    "def __ init __(self, customer , account_number , interest_rate , balance=0):\n",
    "    \"Initialize the savings account. \"\n",
    "    super().__ init __(customer , account_number , balance)\n",
    "\n",
    "\"\"\"\n"
   ]
  },
  {
   "cell_type": "code",
   "execution_count": 48,
   "metadata": {},
   "outputs": [],
   "source": [
    "random.seed(42)\n",
    "\n",
    "\n",
    "class Polymer:\n",
    "    \"\"\"A class representing polymers\"\"\"\n",
    "\n",
    "    def __init__(self, N, a):\n",
    "        self.N = N\n",
    "        self.a = a\n",
    "        self.R = None\n",
    "        self.segments = []\n",
    "        self.make_polymer()\n",
    "\n",
    "    def make_polymer(self):\n",
    "        self.segments.append((0, 0, 0))\n",
    "        x, y, z = cx, cy, cz = 0, 0, 0\n",
    "        for i in range(1, self.N):\n",
    "            theta = math.acos(2 * random.random() - 1)\n",
    "            phi = random.random() * 2.0 * math.pi\n",
    "            # Add on the corresponding displacement vector for this segment.\n",
    "            x += self.a * math.sin(theta) * math.cos(phi)\n",
    "            y += self.a * math.sin(theta) * math.sin(phi)\n",
    "            z += self.a * math.cos(theta)\n",
    "            self.segments.append((x, y, z))\n",
    "            cx, cy, cz = cx + x, cy + y, cz + z\n",
    "        cx, cy, cz = cx / self.N, cy / self.N, cz / self.N\n",
    "        self.R = x, y, z\n",
    "        for i in range(self.N):\n",
    "            self.segments[i] = (\n",
    "                self.segments[i][0] - cx,\n",
    "                self.segments[i][1] - cy,\n",
    "                self.segments[i][2] - cz,\n",
    "            )\n",
    "\n",
    "    def save_svg(self, svg_name=\"polymer.svg\"):\n",
    "        canvas_width = 500\n",
    "        canvas_height = 500\n",
    "        fo = open(svg_name, \"w\")\n",
    "        print(\n",
    "            \"\"\"<?xml version=\"1.0\" encoding=\"utf-8\"?>\n",
    "                 <svg xmlns=\"http://www.w3.org/2000/svg\"\n",
    "                      xmlns:xlink=\"http://www.w3.org/1999/xlink\"\n",
    "                      width=\"{}\" height=\"{}\" style=\"background: {}\">\"\"\".format(\n",
    "                canvas_width, canvas_height, \"#ffffff\"\n",
    "            ),\n",
    "            file=fo,\n",
    "        )\n",
    "\n",
    "        ccx, ccy = canvas_width / 2, canvas_height / 2\n",
    "        scale = 10\n",
    "\n",
    "        x, y, z = zip(*self.segments)\n",
    "        xmin, xmax, ymin, ymax = min(x), max(x), min(y), max(y)\n",
    "        dmax = max(xmax - xmin, ymax - ymin)\n",
    "        scale = min(canvas_width, canvas_height) / dmax\n",
    "        for i in range(1, self.N):\n",
    "            x1, y1 = x[i - 1] * scale + ccx, y[i - 1] * scale + ccy\n",
    "            x2, y2 = x[i] * scale + ccx, y[i] * scale + ccy\n",
    "            print(\n",
    "                '<line x1=\"{:.1f}\" y1=\"{:.1f}\" x2=\"{:.1f}\" y2=\"{:.1f}\"'\n",
    "                ' style=\"stroke: {:s}; stroke-width: {:d};\"/>'.format(x1, y1, x2, y2, \"red\", 2),\n",
    "                file=fo,\n",
    "            )\n",
    "        print(\"</svg>\", file=fo)\n",
    "\n",
    "    def calc_Rg(self):\n",
    "        \"\"\"\n",
    "        Calculates and returns the radius of gyration , Rg. The polymer\n",
    "        segment positions are already given relative to the center of\n",
    "        mass, so this is just the rms position of the segments.\n",
    "        \"\"\"\n",
    "        self.Rg = 0.0\n",
    "        for x, y, z in self.segments:\n",
    "            self.Rg += x ** 2 + y ** 2 + z ** 2\n",
    "            self.Rg = math.sqrt(self.Rg / self.N)\n",
    "            return self.Rg\n"
   ]
  },
  {
   "cell_type": "code",
   "execution_count": 49,
   "metadata": {},
   "outputs": [
    {
     "name": "stdout",
     "output_type": "stream",
     "text": [
      "(-4.482203726152313, -6.328955462076854, 6.7023274080546615)\n",
      "0.14103346446304693\n"
     ]
    }
   ],
   "source": [
    "ply = Polymer(1000, 0.5)\n",
    "ply.save_svg()\n",
    "print(ply.R)\n",
    "print(ply.calc_Rg())\n"
   ]
  },
  {
   "cell_type": "code",
   "execution_count": 28,
   "metadata": {},
   "outputs": [
    {
     "name": "stdout",
     "output_type": "stream",
     "text": [
      "1000 / 3000\n",
      "2000 / 3000\n",
      "3000 / 3000\n"
     ]
    },
    {
     "data": {
      "image/png": "[encoded data removed]",
      "text/plain": [
       "<Figure size 432x288 with 1 Axes>"
      ]
     },
     "metadata": {
      "needs_background": "light"
     },
     "output_type": "display_data"
    }
   ],
   "source": [
    "pi = math.pi\n",
    "# Calculate R for Np polymers.\n",
    "Np = 3000\n",
    "# Each polymer consists of N segments of length a.\n",
    "N, a = 1000, 1.0\n",
    "R = [None] * Np\n",
    "for i in range(Np):\n",
    "    polymer = Polymer(N, a)\n",
    "    Rx, Ry, Rz = polymer.R\n",
    "    R[i] = math.sqrt(Rx ** 2 + Ry ** 2 + Rz ** 2)\n",
    "    # Output a progress indicator every 100 polymers.\n",
    "    if not (i + 1) % 1000:\n",
    "        print(i + 1, \"/\", Np)\n",
    "# Plot the distribution of Rx as a normalized histogram\n",
    "# using 50 bins.\n",
    "plt.hist(R, 50, stacked=True, density=True)\n",
    "# Plot the theoretical probability distribution , Pr, as a function of r.\n",
    "r = np.linspace(0, 100, 1000)\n",
    "msr = N * a ** 2\n",
    "Pr = 4.0 * pi * r ** 2 * (2 * pi * msr / 3) ** -1.5 * np.exp(-3 * r ** 2 / 2 / msr)\n",
    "plt.plot(r, Pr, lw=2, c=\"r\")\n",
    "plt.xlabel(\"R\")\n",
    "plt.ylabel(\"P(R)\")\n",
    "plt.show()\n"
   ]
  },
  {
   "cell_type": "code",
   "execution_count": 29,
   "metadata": {},
   "outputs": [
    {
     "name": "stdout",
     "output_type": "stream",
     "text": [
      "v1 =  2i + 1.66667j\n",
      "repr(v2) =  (3, -1.5)\n",
      "v1 + v2 =  5i + 0.166667j\n",
      "v1 - v2 =  -1i + 3.16667j\n",
      "abs(v2 - v1) =  3.3208098075285464\n",
      "-v2 =  -3i + 1.5j\n",
      "v1 * 3 =  6i + 5j\n",
      "7 * v2 =  14i + 11.6667j\n",
      "v2 / 2.5 =  1.2i + -0.6j\n",
      "v1 % 1 =  0i + 0.666667j\n",
      "v1.dot(v2) = v1 @ v2 =  3.5\n",
      "v1.distance_to(v2) =  3.3208098075285464\n",
      "v1 as polar vector, (r, theta) = (2.6034165586355518, 0.6947382761967033)\n"
     ]
    }
   ],
   "source": [
    "class Vector2D:\n",
    "    \"\"\"A two-dimensional vector with Cartesian coordinates.\"\"\"\n",
    "\n",
    "    def __init__(self, x, y):\n",
    "        self.x, self.y = x, y\n",
    "\n",
    "    def __str__(self):\n",
    "        \"\"\"Human-readable string representation of the vector.\"\"\"\n",
    "        return \"{:g}i + {:g}j\".format(self.x, self.y)\n",
    "\n",
    "    def __repr__(self):\n",
    "        \"\"\"Unambiguous string representation of the vector.\"\"\"\n",
    "        return repr((self.x, self.y))\n",
    "\n",
    "    def dot(self, other):\n",
    "        \"\"\"The scalar (dot) product of self and other. Both must be vectors.\"\"\"\n",
    "\n",
    "        if not isinstance(other, Vector2D):\n",
    "            raise TypeError(\"Can only take dot product of two Vector2D objects\")\n",
    "        return self.x * other.x + self.y * other.y\n",
    "\n",
    "    # Alias the __matmul__ method to dot so we can use a @ b as well as a.dot(b).\n",
    "    __matmul__ = dot\n",
    "\n",
    "    def __sub__(self, other):\n",
    "        \"\"\"Vector subtraction.\"\"\"\n",
    "        return Vector2D(self.x - other.x, self.y - other.y)\n",
    "\n",
    "    def __add__(self, other):\n",
    "        \"\"\"Vector addition.\"\"\"\n",
    "        return Vector2D(self.x + other.x, self.y + other.y)\n",
    "\n",
    "    def __mul__(self, scalar):\n",
    "        \"\"\"Multiplication of a vector by a scalar.\"\"\"\n",
    "\n",
    "        if isinstance(scalar, int) or isinstance(scalar, float):\n",
    "            return Vector2D(self.x * scalar, self.y * scalar)\n",
    "        raise NotImplementedError(\"Can only multiply Vector2D by a scalar\")\n",
    "\n",
    "    def __rmul__(self, scalar):\n",
    "        \"\"\"Reflected multiplication so vector * scalar also works.\"\"\"\n",
    "        return self.__mul__(scalar)\n",
    "\n",
    "    def __neg__(self):\n",
    "        \"\"\"Negation of the vector (invert through origin.)\"\"\"\n",
    "        return Vector2D(-self.x, -self.y)\n",
    "\n",
    "    def __truediv__(self, scalar):\n",
    "        \"\"\"True division of the vector by a scalar.\"\"\"\n",
    "        return Vector2D(self.x / scalar, self.y / scalar)\n",
    "\n",
    "    def __mod__(self, scalar):\n",
    "        \"\"\"One way to implement modulus operation: for each component.\"\"\"\n",
    "        return Vector2D(self.x % scalar, self.y % scalar)\n",
    "\n",
    "    def __abs__(self):\n",
    "        \"\"\"Absolute value (magnitude) of the vector.\"\"\"\n",
    "        return math.sqrt(self.x ** 2 + self.y ** 2)\n",
    "\n",
    "    def distance_to(self, other):\n",
    "        \"\"\"The distance between vectors self and other.\"\"\"\n",
    "        return abs(self - other)\n",
    "\n",
    "    def to_polar(self):\n",
    "        \"\"\"Return the vector's components in polar coordinates.\"\"\"\n",
    "        return self.__abs__(), math.atan2(self.y, self.x)\n",
    "\n",
    "\n",
    "if __name__ == \"__main__\":\n",
    "    v1 = Vector2D(2, 5 / 3)\n",
    "    v2 = Vector2D(3, -1.5)\n",
    "    print(\"v1 = \", v1)\n",
    "    print(\"repr(v2) = \", repr(v2))\n",
    "    print(\"v1 + v2 = \", v1 + v2)\n",
    "    print(\"v1 - v2 = \", v1 - v2)\n",
    "    print(\"abs(v2 - v1) = \", abs(v2 - v1))\n",
    "    print(\"-v2 = \", -v2)\n",
    "    print(\"v1 * 3 = \", v1 * 3)\n",
    "    print(\"7 * v2 = \", 7 * v1)\n",
    "    print(\"v2 / 2.5 = \", v2 / 2.5)\n",
    "    print(\"v1 % 1 = \", v1 % 1)\n",
    "    print(\"v1.dot(v2) = v1 @ v2 = \", v1 @ v2)\n",
    "    print(\"v1.distance_to(v2) = \", v1.distance_to(v2))\n",
    "    print(\"v1 as polar vector, (r, theta) =\", v1.to_polar())\n",
    "\n"
   ]
  },
  {
   "cell_type": "markdown",
   "metadata": {},
   "source": [
    "### P4.6.1"
   ]
  },
  {
   "cell_type": "code",
   "execution_count": 30,
   "metadata": {},
   "outputs": [],
   "source": [
    "class BankAccount:\n",
    "    \"\"\" An abstract base class representing a bank account.\"\"\"\n",
    "\n",
    "    currency = \"$\"\n",
    "\n",
    "    def __init__(self, customer, account_number, balance=0):\n",
    "        \"\"\"\n",
    "        Initialize the BankAccount class with a customer , account number\n",
    "        and opening balance (which defaults to 0.)\n",
    "        \"\"\"\n",
    "\n",
    "        self.customer = customer\n",
    "        self.set_account_number(account_number)\n",
    "        self.balance = balance\n",
    "\n",
    "    def set_account_number(self, account_number):\n",
    "        ccl = []\n",
    "        for n in str(account_number):\n",
    "            if n == \" \":\n",
    "                continue\n",
    "            ccl.append(int(n))\n",
    "        for i in range(0, 16, 2):\n",
    "            ccl[i] *= 2\n",
    "            if ccl[i] > 9:\n",
    "                ccl[i] = 1 + (ccl[i] - 10)\n",
    "        checksum = sum(ccl) % 10\n",
    "        if checksum:\n",
    "            print(account_number, \"is not a valid credit card number\")\n",
    "            return None\n",
    "        else:\n",
    "            print(account_number, \"is a valid credit card number\")\n",
    "            self.account_number = account_number\n",
    "\n",
    "    def deposit(self, amount):\n",
    "        \"\"\" Deposit amount into the bank account.\"\"\"\n",
    "        if amount > 0:\n",
    "            self.balance += amount\n",
    "        else:\n",
    "            print(\"Invalid deposit amount:\", amount)\n",
    "\n",
    "    def withdraw(self, amount):\n",
    "        \"\"\"\n",
    "        Withdraw amount from the bank account , ensuring there are sufficient\n",
    "        funds.\n",
    "        \"\"\"\n",
    "        if amount > 0:\n",
    "            if amount > self.balance:\n",
    "                print(\"Insufficient funds\")\n",
    "            else:\n",
    "                self.balance -= amount\n",
    "        else:\n",
    "            print(\"Invalid withdrawal amount:\", amount)\n",
    "\n",
    "    def check_balance(self):\n",
    "        \"\"\" Print a statement of the account balance. \"\"\"\n",
    "        print(\n",
    "            \"The balance of account number {:d} is {:s}{:.2f}\".format(\n",
    "                self.account_number, self.currency, self.balance\n",
    "            )\n",
    "        )\n",
    "\n",
    "\n",
    "class Customer:\n",
    "    \"\"\" A class representing a bank customer. \"\"\"\n",
    "\n",
    "    def __init__(self, name, address, date_of_birth):\n",
    "        self.name = name\n",
    "        self.address = address\n",
    "        self.date_of_birth = datetime.strptime(date_of_birth, \"%Y-%m-%d\")\n",
    "        self.password = \"1234\"\n",
    "\n",
    "    def get_age(self):\n",
    "        \"\"\" Calculates and returns the customer ' s age. \"\"\"\n",
    "        today = datetime.today()\n",
    "        try:\n",
    "            birthday = self.date_of_birth.replace(year=today.year)\n",
    "        except ValueError:\n",
    "            # birthday is 29 Feb but today ' s year is not a leap year\n",
    "            birthday = self.date_of_birth.replace(year=today.year, day=self.date_of_birth.day - 1)\n",
    "        if birthday > today:\n",
    "            return today.year - self.date_of_birth.year - 1\n",
    "        return today.year - self.date_of_birth.year\n",
    "\n",
    "\n",
    "class SavingsAccount(BankAccount):\n",
    "    \"\"\" A class representing a savings account. \"\"\"\n",
    "\n",
    "    def __init__(self, customer, account_number, interest_rate, balance=0):\n",
    "        \"\"\" Initialize the savings account. \"\"\"\n",
    "        self.interest_rate = interest_rate\n",
    "        super().__init__(customer, account_number, balance)\n",
    "\n",
    "    def add_interest(self):\n",
    "        \"\"\" Add interest to the account at the rate self.interest_rate. \"\"\"\n",
    "        self.balance *= 1.0 + self.interest_rate / 100\n",
    "\n",
    "\n",
    "class CurrentAccount(BankAccount):\n",
    "    \"\"\" A class representing a current (checking) account. \"\"\"\n",
    "\n",
    "    def __init__(self, customer, account_number, annual_fee, transaction_limit, balance=0):\n",
    "        \"\"\" Initialize the current account. \"\"\"\n",
    "\n",
    "        self.over_draft = transaction_limit\n",
    "        self.annual_fee = annual_fee\n",
    "        self.transaction_limit = transaction_limit\n",
    "        super().__init__(customer, account_number, balance)\n",
    "\n",
    "    def withdraw(self, amount):\n",
    "        \"\"\"\n",
    "        Withdraw amount if sufficient funds exist in the account and amount\n",
    "        is less than the single transaction limit.\n",
    "        \"\"\"\n",
    "        if amount <= 0:\n",
    "            print(\"Invalid withdrawal amount:\", amount)\n",
    "            return\n",
    "        if amount > self.balance + self.over_draft:\n",
    "            print(\"Insufficient funds\")\n",
    "            return\n",
    "        if amount > self.transaction_limit:\n",
    "            print(\n",
    "                \"{0:s}{1:.2f} exceeds the single transaction limit of\"\n",
    "                \" {0:s}{2:.2f}\".format(self.currency, amount, self.transaction_limit)\n",
    "            )\n",
    "            return\n",
    "        self.balance -= amount\n",
    "        if self.balance < 0:\n",
    "            self.over_draft = 0\n",
    "\n",
    "    def apply_annual_fee(self):\n",
    "        \"\"\" Deduct the annual fee from the account balance. \"\"\"\n",
    "        self.balance = max(0.0, self.balance - self.annual_fee)\n"
   ]
  },
  {
   "cell_type": "code",
   "execution_count": 31,
   "metadata": {},
   "outputs": [
    {
     "name": "stdout",
     "output_type": "stream",
     "text": [
      "4556737586899855 is a valid credit card number\n"
     ]
    },
    {
     "data": {
      "text/plain": [
       "64"
      ]
     },
     "execution_count": 31,
     "metadata": {},
     "output_type": "execute_result"
    }
   ],
   "source": [
    "my_account = BankAccount('Joe Bloggs', 4556737586899855)\n",
    "# print(my_account.account_number)\n",
    "my_account.deposit(64)\n",
    "my_account.balance"
   ]
  },
  {
   "cell_type": "code",
   "execution_count": 32,
   "metadata": {},
   "outputs": [
    {
     "name": "stdout",
     "output_type": "stream",
     "text": [
      "4556737586899855 is a valid credit card number\n",
      "76 The Warren , Blandings , Sussex\n"
     ]
    }
   ],
   "source": [
    "from datetime import datetime\n",
    "customer1 = Customer('Helen Smith', '76 The Warren , Blandings , Sussex', '1976-02-29')\n",
    "account1 = BankAccount(customer1 , 4556737586899855, 1000)\n",
    "account1.customer.get_age()\n",
    "print(account1.customer.address)"
   ]
  },
  {
   "cell_type": "code",
   "execution_count": 33,
   "metadata": {},
   "outputs": [
    {
     "name": "stdout",
     "output_type": "stream",
     "text": [
      "4556737586899855 is a valid credit card number\n",
      "The balance of account number 4556737586899855 is $1000.00\n",
      "The balance of account number 4556737586899855 is $1055.00\n",
      "4556737586899855 is a valid credit card number\n",
      "The balance of account number 4556737586899855 is $0.00\n",
      "The balance of account number 4556737586899855 is $-200.00\n",
      "Insufficient funds\n",
      "The balance of account number 4556737586899855 is $-200.00\n",
      "The balance of account number 4556737586899855 is $550.00\n",
      "$220.00 exceeds the single transaction limit of $200.00\n"
     ]
    }
   ],
   "source": [
    "my_savings = SavingsAccount('Matthew Walsh', 4556737586899855, 5.5, 1000)\n",
    "my_savings.check_balance()\n",
    "my_savings.add_interest()\n",
    "my_savings.check_balance()\n",
    "my_current = CurrentAccount(\"Alison Wicks\", 4556737586899855, 20., 200.)\n",
    "# print(my_current.over_draft)\n",
    "my_current.check_balance()\n",
    "my_current.withdraw(200)\n",
    "my_current.check_balance()\n",
    "my_current.withdraw(20)\n",
    "my_current.check_balance()\n",
    "my_current.deposit(750)\n",
    "my_current.check_balance()\n",
    "my_current.withdraw(220)"
   ]
  },
  {
   "cell_type": "markdown",
   "metadata": {},
   "source": [
    "### P4.6.5"
   ]
  },
  {
   "cell_type": "code",
   "execution_count": 34,
   "metadata": {},
   "outputs": [],
   "source": [
    "class OneBasedList(list):\n",
    "    \"\"\"A class implementing a list with one-based indexing.\"\"\"\n",
    "\n",
    "    def _resolve_index(self, i):\n",
    "        \"\"\"A helper function to resolve one-based list indexes to native ones.\"\"\"\n",
    "        if i is None:\n",
    "            return None\n",
    "        if i == 0:\n",
    "            raise IndexError('No zero index for OneBasedList')\n",
    "        if i < 0:\n",
    "            return i\n",
    "        return i - 1\n",
    "\n",
    "    def _resolve_slice(self, sl):\n",
    "        \"\"\"A helper function to resolve one-based list slices to native ones.\"\"\"\n",
    "        istart = self._resolve_index(sl.start)\n",
    "        istop = sl.stop\n",
    "        if sl.step and sl.step < 0:\n",
    "            istop = self._resolve_index(sl.stop)\n",
    "        return slice(istart, istop, sl.step)\n",
    "\n",
    "\n",
    "    def _resolve_slice_or_index(self, x):\n",
    "        \"\"\"\n",
    "        A helper function to resolve one-based list indexes or slices into\n",
    "        native, zero-based ones.\n",
    "\n",
    "        \"\"\"\n",
    "\n",
    "        if type(x) is slice:\n",
    "            return self._resolve_slice(x)\n",
    "        return self._resolve_index(x)\n",
    "\n",
    "\n",
    "    def __setitem__(self, i, e):\n",
    "        \"\"\"Item setting, either with either a one-based index or slice.\"\"\"\n",
    "        return super().__setitem__(self._resolve_slice_or_index(i), e)\n",
    "\n",
    "    def __getitem__(self, i):\n",
    "        \"\"\"Item getting, either with either a one-based index or slice.\"\"\"\n",
    "        if type(i) == slice:\n",
    "            # Take care to return another OneBasedList object.\n",
    "            return type(self)(super().__getitem__(self._resolve_slice(i)))\n",
    "        return super().__getitem__(self._resolve_index(i))\n",
    "\n",
    "\n",
    "    def __delitem__(self, i):\n",
    "        \"\"\"Delete item at (one-based) index or slice i.\"\"\"\n",
    "        return super().__delitem__(self._resolve_slice_or_index(i))\n",
    "\n",
    "    def pop(self, i=None):\n",
    "        \"\"\"Pop an item from the end of the OneBasedList or at index i.\"\"\"\n",
    "        if i is None:\n",
    "            return super().pop()\n",
    "        return super().pop(i-1)\n",
    "\n",
    "    def index(self, e, istart=None, istop=None):\n",
    "        \"\"\"\n",
    "        Obtain the index of element e, possibly constrained to within the\n",
    "        (one-based) index range istart to istop.\n",
    "\n",
    "        \"\"\"\n",
    "\n",
    "        sl = self._resolve_slice(slice(istart, istop, 1))\n",
    "        _istart = sl.start\n",
    "        _istop = sl.stop\n",
    "        if _istop is None:\n",
    "            if _istart is None:\n",
    "                return super().index(e) + 1\n",
    "            return super().index(e, _istart) + 1\n",
    "        return super().index(e, _istart, _istop) + 1\n",
    "\n",
    "    def copy(self):\n",
    "        \"\"\"Copy the OneBasedList, returning a new instance of this class.\"\"\"\n",
    "        return type(self)(self)\n",
    "\n",
    "    def insert(self, i, e):\n",
    "        \"\"\"Insert e at (one-based) index i.\"\"\"\n",
    "        _i = self._resolve_index(i)\n",
    "        super().insert(_i, e)\n",
    "\n",
    "    def __add__(self, other):\n",
    "        \"\"\"OneBasedList concatenation, returning another OneBasedList.\n",
    "\n",
    "        Note that adding a list to a OneBasedList returns a OneBasedList;\n",
    "        adding a OneBasedList to a list returns a list.\n",
    "\n",
    "        \"\"\"\n",
    "        return type(self)(super().__add__(other))\n",
    "\n",
    "    def __mul__(self, n):\n",
    "        \"\"\"OneBasedList concatenation by repetition n times.\"\"\"\n",
    "        return type(self)(super().__mul__(n))\n",
    "\n",
    "    def __rmul__(self, n):\n",
    "        \"\"\"OneBasedList concatenation by repetition n times.\"\"\"\n",
    "        return type(self)(super().__rmul__(n))"
   ]
  },
  {
   "cell_type": "code",
   "execution_count": null,
   "metadata": {},
   "outputs": [],
   "source": [
    "\"\"\"   1          BD+44 4550      3 36042          46           000001.1+444022000509.9+451345114.44-16.88 6.70  +0.07 +0.08         A1Vn               -0.012-0.018      -018      195  4.2  21.6AC   3\"\"\""
   ]
  },
  {
   "cell_type": "code",
   "execution_count": 52,
   "metadata": {},
   "outputs": [
    {
     "name": "stdout",
     "output_type": "stream",
     "text": [
      "Found 78 stars in the constellation Ori\n"
     ]
    }
   ],
   "source": [
    "import sys\n",
    "import math\n",
    "\n",
    "# try:\n",
    "#     constellation = sys.argv[1]\n",
    "# except IndexError:\n",
    "#     print('usage:\\n'\n",
    "#           'python {:s} <constellation>\\n'\n",
    "#           'where <constellation> is the three-letter abbreviation for a'\n",
    "#           ' constellation name (e.g. Ori, Lyr, UMa, ...)'.format(sys.argv[0]))\n",
    "#     sys.exit(1)\n",
    "\n",
    "constellation = \"Ori\"\n",
    "\n",
    "\n",
    "class Star:\n",
    "    \"\"\"\n",
    "    A class representing a star, with name, magnitude, right ascension (ra),\n",
    "    declination (dec) and projected co-ordinates x,y calculated by a class\n",
    "    method.\n",
    "\n",
    "    \"\"\"\n",
    "\n",
    "    def __init__(self, name, mag, ra, dec):\n",
    "        \"\"\"\n",
    "        Initializes the star object with its name and magnitude, and position\n",
    "        as right ascension (ra) and declination (dec), both in radians.\n",
    "\n",
    "        \"\"\"\n",
    "\n",
    "        self.name = name\n",
    "        self.mag = mag\n",
    "        self.ra = ra\n",
    "        self.dec = dec\n",
    "\n",
    "    def project_orthographic(self, ra0, dec0):\n",
    "        \"\"\"\n",
    "        Calculates, stores and returns the projected co-ordinates (x, y) of\n",
    "        this star's position using an orthographic projection about the\n",
    "        angular position (ra0, dec0).\n",
    "\n",
    "        \"\"\"\n",
    "\n",
    "        delta_ra = self.ra - ra0\n",
    "        self.x = math.cos(self.dec) * math.sin(delta_ra)\n",
    "        self.y = math.sin(self.dec) * math.cos(dec0) - math.cos(self.dec) * math.cos(\n",
    "            delta_ra\n",
    "        ) * math.sin(dec0)\n",
    "        return self.x, self.y\n",
    "\n",
    "\n",
    "stars = []\n",
    "with open(\"bsc5.dat\", \"r\") as fi:\n",
    "    for line in fi.readlines():\n",
    "        if line[11:14] != constellation:\n",
    "            # We have no interest of stars which do not belong to constellation\n",
    "            continue\n",
    "        name = line[4:14]\n",
    "        try:\n",
    "            mag = float(line[102:107])\n",
    "        except ValueError:\n",
    "            # some stars do not have magnitudes: ignore these entries\n",
    "            continue\n",
    "        # Right ascension (hrs, mins, secs), equinox J2000, epoch 2000.0\n",
    "        ra_hrs, ra_min, ra_sec = [float(x) for x in (line[75:77], line[77:79], line[79:83])]\n",
    "        # Declination (hrs, mins, secs), equinox J2000, epoch 2000.0\n",
    "        dec_deg, dec_min, dec_sec = [float(x) for x in (line[83:86], line[86:88], line[88:90])]\n",
    "        # Convert both RA and declination to radians\n",
    "        ra = math.radians((ra_hrs + ra_min / 60 + ra_sec / 3600) * 15.0)\n",
    "        dec = math.radians(dec_deg + dec_min / 60 + dec_sec / 3600)\n",
    "        # Create a new Star object and add it to the list of stars\n",
    "        stars.append(Star(name, mag, ra, dec))\n",
    "\n",
    "n = len(stars)\n",
    "if n == 0:\n",
    "    print(\"Constellation {:s} not found.\".format(constellation))\n",
    "    sys.exit(1)\n",
    "else:\n",
    "    print(\"Found {:d} stars in the constellation {:s}\".format(n, constellation))\n",
    "\n",
    "# Now calculate the projected co-ordinates of each star, (x,y), finding the\n",
    "# maximum and minimum values and hence the aspect ratio for our image.\n",
    "# The \"centre\" of the constellation in RA, dec:\n",
    "ra0 = sum([star.ra for star in stars]) / n\n",
    "dec0 = sum([star.dec for star in stars]) / n\n",
    "x, y = [None] * n, [None] * n\n",
    "for i, star in enumerate(stars):\n",
    "    # Orthographic projection (ra, dec) -> (x1, y1)\n",
    "    x[i], y[i] = star.project_orthographic(ra0, dec0)\n",
    "xmin, xmax, ymin, ymax = min(x), max(x), min(y), max(y)\n",
    "aspect_ratio = (xmax - xmin) / (ymax - ymin)\n",
    "\n",
    "# The stars will be output on a canvas of dimensions width x height, with\n",
    "# some extra padding around the outside of the \"paintable\" area.\n",
    "padding = 50\n",
    "height = 500\n",
    "width = int(height * aspect_ratio)\n",
    "\n",
    "# Write the SVG image file for the constellation\n",
    "with open(\"{:s}.svg\".format(constellation), \"w\") as f:\n",
    "    print('<?xml version=\"1.0\" encoding=\"utf-8\"?>', file=f)\n",
    "    print('<svg xmlns=\"http://www.w3.org/2000/svg\"', file=f)\n",
    "    print('     xmlns:xlink=\"http://www.w3.org/1999/xlink\"', file=f)\n",
    "    print(\n",
    "        '     width=\"{:d}\" height=\"{:d}\" style=\"background: #000000\">'.format(\n",
    "            width + 2 * padding, height + 2 * padding\n",
    "        ),\n",
    "        file=f,\n",
    "    )\n",
    "    for star in stars:\n",
    "        rx = (star.x - xmin) / (xmax - xmin)\n",
    "        ry = (star.y - ymin) / (ymax - ymin)\n",
    "        cx = padding + (1 - rx) * (width - 2 * padding)\n",
    "        cy = padding + (1 - ry) * (height - 2 * padding)\n",
    "        print(\n",
    "            '<circle cx=\"{cx:.1f}\" cy=\"{cy:.1f}\" r=\"{r:.1f}\"'\n",
    "            ' stroke=\"none\" fill=\"#ffffff\" name=\"{name:s}\"/>'.format(\n",
    "                cx=cx, cy=cy, r=max(1, 5 - star.mag), name=star.name\n",
    "            ),\n",
    "            file=f,\n",
    "        )\n",
    "    print(\"</svg>\", file=f)\n",
    "\n"
   ]
  }
 ],
 "metadata": {
  "interpreter": {
   "hash": "9cd40af7900632b843138df679ead8e313815e0bd51299c1c8a2300acf7f0c7b"
  },
  "kernelspec": {
   "display_name": "Python 3.8.8 64-bit ('base': conda)",
   "name": "python3"
  },
  "language_info": {
   "codemirror_mode": {
    "name": "ipython",
    "version": 3
   },
   "file_extension": ".py",
   "mimetype": "text/x-python",
   "name": "python",
   "nbconvert_exporter": "python",
   "pygments_lexer": "ipython3",
   "version": "3.10.0"
  },
  "orig_nbformat": 4
 },
 "nbformat": 4,
 "nbformat_minor": 2
}
